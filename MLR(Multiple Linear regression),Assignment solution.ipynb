{
 "cells": [
  {
   "cell_type": "code",
   "execution_count": 1,
   "id": "5c8f2259",
   "metadata": {},
   "outputs": [],
   "source": [
    "import pandas as pd"
   ]
  },
  {
   "cell_type": "code",
   "execution_count": 2,
   "id": "bc7b56b1",
   "metadata": {},
   "outputs": [
    {
     "data": {
      "text/html": [
       "<div>\n",
       "<style scoped>\n",
       "    .dataframe tbody tr th:only-of-type {\n",
       "        vertical-align: middle;\n",
       "    }\n",
       "\n",
       "    .dataframe tbody tr th {\n",
       "        vertical-align: top;\n",
       "    }\n",
       "\n",
       "    .dataframe thead th {\n",
       "        text-align: right;\n",
       "    }\n",
       "</style>\n",
       "<table border=\"1\" class=\"dataframe\">\n",
       "  <thead>\n",
       "    <tr style=\"text-align: right;\">\n",
       "      <th></th>\n",
       "      <th>Price</th>\n",
       "      <th>Age_08_04</th>\n",
       "      <th>KM</th>\n",
       "      <th>Fuel_Type</th>\n",
       "      <th>HP</th>\n",
       "      <th>Automatic</th>\n",
       "      <th>cc</th>\n",
       "      <th>Doors</th>\n",
       "      <th>Cylinders</th>\n",
       "      <th>Gears</th>\n",
       "      <th>Weight</th>\n",
       "    </tr>\n",
       "  </thead>\n",
       "  <tbody>\n",
       "    <tr>\n",
       "      <th>0</th>\n",
       "      <td>13500</td>\n",
       "      <td>23</td>\n",
       "      <td>46986</td>\n",
       "      <td>Diesel</td>\n",
       "      <td>90</td>\n",
       "      <td>0</td>\n",
       "      <td>2000</td>\n",
       "      <td>3</td>\n",
       "      <td>4</td>\n",
       "      <td>5</td>\n",
       "      <td>1165</td>\n",
       "    </tr>\n",
       "    <tr>\n",
       "      <th>1</th>\n",
       "      <td>13750</td>\n",
       "      <td>23</td>\n",
       "      <td>72937</td>\n",
       "      <td>Diesel</td>\n",
       "      <td>90</td>\n",
       "      <td>0</td>\n",
       "      <td>2000</td>\n",
       "      <td>3</td>\n",
       "      <td>4</td>\n",
       "      <td>5</td>\n",
       "      <td>1165</td>\n",
       "    </tr>\n",
       "    <tr>\n",
       "      <th>2</th>\n",
       "      <td>13950</td>\n",
       "      <td>24</td>\n",
       "      <td>41711</td>\n",
       "      <td>Diesel</td>\n",
       "      <td>90</td>\n",
       "      <td>0</td>\n",
       "      <td>2000</td>\n",
       "      <td>3</td>\n",
       "      <td>4</td>\n",
       "      <td>5</td>\n",
       "      <td>1165</td>\n",
       "    </tr>\n",
       "    <tr>\n",
       "      <th>3</th>\n",
       "      <td>14950</td>\n",
       "      <td>26</td>\n",
       "      <td>48000</td>\n",
       "      <td>Diesel</td>\n",
       "      <td>90</td>\n",
       "      <td>0</td>\n",
       "      <td>2000</td>\n",
       "      <td>3</td>\n",
       "      <td>4</td>\n",
       "      <td>5</td>\n",
       "      <td>1165</td>\n",
       "    </tr>\n",
       "    <tr>\n",
       "      <th>4</th>\n",
       "      <td>13750</td>\n",
       "      <td>30</td>\n",
       "      <td>38500</td>\n",
       "      <td>Diesel</td>\n",
       "      <td>90</td>\n",
       "      <td>0</td>\n",
       "      <td>2000</td>\n",
       "      <td>3</td>\n",
       "      <td>4</td>\n",
       "      <td>5</td>\n",
       "      <td>1170</td>\n",
       "    </tr>\n",
       "    <tr>\n",
       "      <th>...</th>\n",
       "      <td>...</td>\n",
       "      <td>...</td>\n",
       "      <td>...</td>\n",
       "      <td>...</td>\n",
       "      <td>...</td>\n",
       "      <td>...</td>\n",
       "      <td>...</td>\n",
       "      <td>...</td>\n",
       "      <td>...</td>\n",
       "      <td>...</td>\n",
       "      <td>...</td>\n",
       "    </tr>\n",
       "    <tr>\n",
       "      <th>1431</th>\n",
       "      <td>7500</td>\n",
       "      <td>69</td>\n",
       "      <td>20544</td>\n",
       "      <td>Petrol</td>\n",
       "      <td>86</td>\n",
       "      <td>0</td>\n",
       "      <td>1300</td>\n",
       "      <td>3</td>\n",
       "      <td>4</td>\n",
       "      <td>5</td>\n",
       "      <td>1025</td>\n",
       "    </tr>\n",
       "    <tr>\n",
       "      <th>1432</th>\n",
       "      <td>10845</td>\n",
       "      <td>72</td>\n",
       "      <td>19000</td>\n",
       "      <td>Petrol</td>\n",
       "      <td>86</td>\n",
       "      <td>0</td>\n",
       "      <td>1300</td>\n",
       "      <td>3</td>\n",
       "      <td>4</td>\n",
       "      <td>5</td>\n",
       "      <td>1015</td>\n",
       "    </tr>\n",
       "    <tr>\n",
       "      <th>1433</th>\n",
       "      <td>8500</td>\n",
       "      <td>71</td>\n",
       "      <td>17016</td>\n",
       "      <td>Petrol</td>\n",
       "      <td>86</td>\n",
       "      <td>0</td>\n",
       "      <td>1300</td>\n",
       "      <td>3</td>\n",
       "      <td>4</td>\n",
       "      <td>5</td>\n",
       "      <td>1015</td>\n",
       "    </tr>\n",
       "    <tr>\n",
       "      <th>1434</th>\n",
       "      <td>7250</td>\n",
       "      <td>70</td>\n",
       "      <td>16916</td>\n",
       "      <td>Petrol</td>\n",
       "      <td>86</td>\n",
       "      <td>0</td>\n",
       "      <td>1300</td>\n",
       "      <td>3</td>\n",
       "      <td>4</td>\n",
       "      <td>5</td>\n",
       "      <td>1015</td>\n",
       "    </tr>\n",
       "    <tr>\n",
       "      <th>1435</th>\n",
       "      <td>6950</td>\n",
       "      <td>76</td>\n",
       "      <td>1</td>\n",
       "      <td>Petrol</td>\n",
       "      <td>110</td>\n",
       "      <td>0</td>\n",
       "      <td>1600</td>\n",
       "      <td>5</td>\n",
       "      <td>4</td>\n",
       "      <td>5</td>\n",
       "      <td>1114</td>\n",
       "    </tr>\n",
       "  </tbody>\n",
       "</table>\n",
       "<p>1436 rows × 11 columns</p>\n",
       "</div>"
      ],
      "text/plain": [
       "      Price  Age_08_04     KM Fuel_Type   HP  Automatic    cc  Doors  \\\n",
       "0     13500         23  46986    Diesel   90          0  2000      3   \n",
       "1     13750         23  72937    Diesel   90          0  2000      3   \n",
       "2     13950         24  41711    Diesel   90          0  2000      3   \n",
       "3     14950         26  48000    Diesel   90          0  2000      3   \n",
       "4     13750         30  38500    Diesel   90          0  2000      3   \n",
       "...     ...        ...    ...       ...  ...        ...   ...    ...   \n",
       "1431   7500         69  20544    Petrol   86          0  1300      3   \n",
       "1432  10845         72  19000    Petrol   86          0  1300      3   \n",
       "1433   8500         71  17016    Petrol   86          0  1300      3   \n",
       "1434   7250         70  16916    Petrol   86          0  1300      3   \n",
       "1435   6950         76      1    Petrol  110          0  1600      5   \n",
       "\n",
       "      Cylinders  Gears  Weight  \n",
       "0             4      5    1165  \n",
       "1             4      5    1165  \n",
       "2             4      5    1165  \n",
       "3             4      5    1165  \n",
       "4             4      5    1170  \n",
       "...         ...    ...     ...  \n",
       "1431          4      5    1025  \n",
       "1432          4      5    1015  \n",
       "1433          4      5    1015  \n",
       "1434          4      5    1015  \n",
       "1435          4      5    1114  \n",
       "\n",
       "[1436 rows x 11 columns]"
      ]
     },
     "execution_count": 2,
     "metadata": {},
     "output_type": "execute_result"
    }
   ],
   "source": [
    "df=pd.read_csv('ToyotaCorolla - MLR.csv')\n",
    "df"
   ]
  },
  {
   "cell_type": "markdown",
   "id": "fddb9e5c",
   "metadata": {},
   "source": [
    "## 1.EDA( Data Cleaning)"
   ]
  },
  {
   "cell_type": "code",
   "execution_count": 86,
   "id": "730c9e88",
   "metadata": {},
   "outputs": [],
   "source": [
    "import warnings\n",
    "warnings.filterwarnings('ignore')"
   ]
  },
  {
   "cell_type": "code",
   "execution_count": 87,
   "id": "753576dc",
   "metadata": {},
   "outputs": [
    {
     "data": {
      "text/plain": [
       "Price        0\n",
       "Age_08_04    0\n",
       "KM           0\n",
       "Fuel_Type    0\n",
       "HP           0\n",
       "Automatic    0\n",
       "cc           0\n",
       "Doors        0\n",
       "Cylinders    0\n",
       "Gears        0\n",
       "Weight       0\n",
       "dtype: int64"
      ]
     },
     "execution_count": 87,
     "metadata": {},
     "output_type": "execute_result"
    }
   ],
   "source": [
    "df.isnull().sum()\n"
   ]
  },
  {
   "cell_type": "code",
   "execution_count": 4,
   "id": "0fa6624f",
   "metadata": {},
   "outputs": [
    {
     "data": {
      "text/plain": [
       "15796"
      ]
     },
     "execution_count": 4,
     "metadata": {},
     "output_type": "execute_result"
    }
   ],
   "source": [
    "df.size"
   ]
  },
  {
   "cell_type": "code",
   "execution_count": 5,
   "id": "2557c278",
   "metadata": {},
   "outputs": [
    {
     "data": {
      "text/plain": [
       "(1436, 11)"
      ]
     },
     "execution_count": 5,
     "metadata": {},
     "output_type": "execute_result"
    }
   ],
   "source": [
    "df.shape"
   ]
  },
  {
   "cell_type": "code",
   "execution_count": 6,
   "id": "4cdab652",
   "metadata": {},
   "outputs": [
    {
     "data": {
      "text/plain": [
       "True"
      ]
     },
     "execution_count": 6,
     "metadata": {},
     "output_type": "execute_result"
    }
   ],
   "source": [
    "df.duplicated().any()"
   ]
  },
  {
   "cell_type": "code",
   "execution_count": 7,
   "id": "40300c87",
   "metadata": {},
   "outputs": [
    {
     "data": {
      "text/html": [
       "<div>\n",
       "<style scoped>\n",
       "    .dataframe tbody tr th:only-of-type {\n",
       "        vertical-align: middle;\n",
       "    }\n",
       "\n",
       "    .dataframe tbody tr th {\n",
       "        vertical-align: top;\n",
       "    }\n",
       "\n",
       "    .dataframe thead th {\n",
       "        text-align: right;\n",
       "    }\n",
       "</style>\n",
       "<table border=\"1\" class=\"dataframe\">\n",
       "  <thead>\n",
       "    <tr style=\"text-align: right;\">\n",
       "      <th></th>\n",
       "      <th>Price</th>\n",
       "      <th>Age_08_04</th>\n",
       "      <th>KM</th>\n",
       "      <th>Fuel_Type</th>\n",
       "      <th>HP</th>\n",
       "      <th>Automatic</th>\n",
       "      <th>cc</th>\n",
       "      <th>Doors</th>\n",
       "      <th>Cylinders</th>\n",
       "      <th>Gears</th>\n",
       "      <th>Weight</th>\n",
       "    </tr>\n",
       "  </thead>\n",
       "  <tbody>\n",
       "    <tr>\n",
       "      <th>113</th>\n",
       "      <td>24950</td>\n",
       "      <td>8</td>\n",
       "      <td>13253</td>\n",
       "      <td>Diesel</td>\n",
       "      <td>116</td>\n",
       "      <td>0</td>\n",
       "      <td>2000</td>\n",
       "      <td>5</td>\n",
       "      <td>4</td>\n",
       "      <td>5</td>\n",
       "      <td>1320</td>\n",
       "    </tr>\n",
       "  </tbody>\n",
       "</table>\n",
       "</div>"
      ],
      "text/plain": [
       "     Price  Age_08_04     KM Fuel_Type   HP  Automatic    cc  Doors  \\\n",
       "113  24950          8  13253    Diesel  116          0  2000      5   \n",
       "\n",
       "     Cylinders  Gears  Weight  \n",
       "113          4      5    1320  "
      ]
     },
     "execution_count": 7,
     "metadata": {},
     "output_type": "execute_result"
    }
   ],
   "source": [
    "df[df.duplicated()]"
   ]
  },
  {
   "cell_type": "code",
   "execution_count": 8,
   "id": "9e22eea3",
   "metadata": {},
   "outputs": [],
   "source": [
    "df.drop_duplicates(inplace=True)"
   ]
  },
  {
   "cell_type": "code",
   "execution_count": 9,
   "id": "0e5c1cb5",
   "metadata": {},
   "outputs": [
    {
     "data": {
      "text/plain": [
       "(1435, 11)"
      ]
     },
     "execution_count": 9,
     "metadata": {},
     "output_type": "execute_result"
    }
   ],
   "source": [
    "df.shape"
   ]
  },
  {
   "cell_type": "raw",
   "id": "4aee3860",
   "metadata": {},
   "source": [
    "## checking for outliers"
   ]
  },
  {
   "cell_type": "markdown",
   "id": "eca805f9",
   "metadata": {},
   "source": [
    "\n",
    " since we check outliers for numerical columns only so we drop categorical column first. Here 'Fuel_Type'  is the  categorical column we drop it first from the dataset. "
   ]
  },
  {
   "cell_type": "code",
   "execution_count": 10,
   "id": "456a657c",
   "metadata": {},
   "outputs": [
    {
     "data": {
      "text/plain": [
       "array(['Diesel', 'Petrol', 'CNG'], dtype=object)"
      ]
     },
     "execution_count": 10,
     "metadata": {},
     "output_type": "execute_result"
    }
   ],
   "source": [
    "## labeling  of 'Fuel_Type' column\n",
    "df['Fuel_Type'].unique()"
   ]
  },
  {
   "cell_type": "code",
   "execution_count": 88,
   "id": "9e4dc1c8",
   "metadata": {},
   "outputs": [
    {
     "data": {
      "text/html": [
       "<div>\n",
       "<style scoped>\n",
       "    .dataframe tbody tr th:only-of-type {\n",
       "        vertical-align: middle;\n",
       "    }\n",
       "\n",
       "    .dataframe tbody tr th {\n",
       "        vertical-align: top;\n",
       "    }\n",
       "\n",
       "    .dataframe thead th {\n",
       "        text-align: right;\n",
       "    }\n",
       "</style>\n",
       "<table border=\"1\" class=\"dataframe\">\n",
       "  <thead>\n",
       "    <tr style=\"text-align: right;\">\n",
       "      <th></th>\n",
       "      <th>Price</th>\n",
       "      <th>Age_08_04</th>\n",
       "      <th>KM</th>\n",
       "      <th>Fuel_Type</th>\n",
       "      <th>HP</th>\n",
       "      <th>Automatic</th>\n",
       "      <th>cc</th>\n",
       "      <th>Doors</th>\n",
       "      <th>Cylinders</th>\n",
       "      <th>Gears</th>\n",
       "      <th>Weight</th>\n",
       "    </tr>\n",
       "  </thead>\n",
       "  <tbody>\n",
       "    <tr>\n",
       "      <th>0</th>\n",
       "      <td>13500</td>\n",
       "      <td>23</td>\n",
       "      <td>46986</td>\n",
       "      <td>1</td>\n",
       "      <td>90</td>\n",
       "      <td>0</td>\n",
       "      <td>2000</td>\n",
       "      <td>3</td>\n",
       "      <td>4</td>\n",
       "      <td>5</td>\n",
       "      <td>1165</td>\n",
       "    </tr>\n",
       "    <tr>\n",
       "      <th>1</th>\n",
       "      <td>13750</td>\n",
       "      <td>23</td>\n",
       "      <td>72937</td>\n",
       "      <td>1</td>\n",
       "      <td>90</td>\n",
       "      <td>0</td>\n",
       "      <td>2000</td>\n",
       "      <td>3</td>\n",
       "      <td>4</td>\n",
       "      <td>5</td>\n",
       "      <td>1165</td>\n",
       "    </tr>\n",
       "    <tr>\n",
       "      <th>2</th>\n",
       "      <td>13950</td>\n",
       "      <td>24</td>\n",
       "      <td>41711</td>\n",
       "      <td>1</td>\n",
       "      <td>90</td>\n",
       "      <td>0</td>\n",
       "      <td>2000</td>\n",
       "      <td>3</td>\n",
       "      <td>4</td>\n",
       "      <td>5</td>\n",
       "      <td>1165</td>\n",
       "    </tr>\n",
       "    <tr>\n",
       "      <th>3</th>\n",
       "      <td>14950</td>\n",
       "      <td>26</td>\n",
       "      <td>48000</td>\n",
       "      <td>1</td>\n",
       "      <td>90</td>\n",
       "      <td>0</td>\n",
       "      <td>2000</td>\n",
       "      <td>3</td>\n",
       "      <td>4</td>\n",
       "      <td>5</td>\n",
       "      <td>1165</td>\n",
       "    </tr>\n",
       "    <tr>\n",
       "      <th>4</th>\n",
       "      <td>13750</td>\n",
       "      <td>30</td>\n",
       "      <td>38500</td>\n",
       "      <td>1</td>\n",
       "      <td>90</td>\n",
       "      <td>0</td>\n",
       "      <td>2000</td>\n",
       "      <td>3</td>\n",
       "      <td>4</td>\n",
       "      <td>5</td>\n",
       "      <td>1170</td>\n",
       "    </tr>\n",
       "    <tr>\n",
       "      <th>...</th>\n",
       "      <td>...</td>\n",
       "      <td>...</td>\n",
       "      <td>...</td>\n",
       "      <td>...</td>\n",
       "      <td>...</td>\n",
       "      <td>...</td>\n",
       "      <td>...</td>\n",
       "      <td>...</td>\n",
       "      <td>...</td>\n",
       "      <td>...</td>\n",
       "      <td>...</td>\n",
       "    </tr>\n",
       "    <tr>\n",
       "      <th>1431</th>\n",
       "      <td>7500</td>\n",
       "      <td>69</td>\n",
       "      <td>20544</td>\n",
       "      <td>2</td>\n",
       "      <td>86</td>\n",
       "      <td>0</td>\n",
       "      <td>1300</td>\n",
       "      <td>3</td>\n",
       "      <td>4</td>\n",
       "      <td>5</td>\n",
       "      <td>1025</td>\n",
       "    </tr>\n",
       "    <tr>\n",
       "      <th>1432</th>\n",
       "      <td>10845</td>\n",
       "      <td>72</td>\n",
       "      <td>19000</td>\n",
       "      <td>2</td>\n",
       "      <td>86</td>\n",
       "      <td>0</td>\n",
       "      <td>1300</td>\n",
       "      <td>3</td>\n",
       "      <td>4</td>\n",
       "      <td>5</td>\n",
       "      <td>1015</td>\n",
       "    </tr>\n",
       "    <tr>\n",
       "      <th>1433</th>\n",
       "      <td>8500</td>\n",
       "      <td>71</td>\n",
       "      <td>17016</td>\n",
       "      <td>2</td>\n",
       "      <td>86</td>\n",
       "      <td>0</td>\n",
       "      <td>1300</td>\n",
       "      <td>3</td>\n",
       "      <td>4</td>\n",
       "      <td>5</td>\n",
       "      <td>1015</td>\n",
       "    </tr>\n",
       "    <tr>\n",
       "      <th>1434</th>\n",
       "      <td>7250</td>\n",
       "      <td>70</td>\n",
       "      <td>16916</td>\n",
       "      <td>2</td>\n",
       "      <td>86</td>\n",
       "      <td>0</td>\n",
       "      <td>1300</td>\n",
       "      <td>3</td>\n",
       "      <td>4</td>\n",
       "      <td>5</td>\n",
       "      <td>1015</td>\n",
       "    </tr>\n",
       "    <tr>\n",
       "      <th>1435</th>\n",
       "      <td>6950</td>\n",
       "      <td>76</td>\n",
       "      <td>1</td>\n",
       "      <td>2</td>\n",
       "      <td>110</td>\n",
       "      <td>0</td>\n",
       "      <td>1600</td>\n",
       "      <td>5</td>\n",
       "      <td>4</td>\n",
       "      <td>5</td>\n",
       "      <td>1114</td>\n",
       "    </tr>\n",
       "  </tbody>\n",
       "</table>\n",
       "<p>1435 rows × 11 columns</p>\n",
       "</div>"
      ],
      "text/plain": [
       "      Price  Age_08_04     KM  Fuel_Type   HP  Automatic    cc  Doors  \\\n",
       "0     13500         23  46986          1   90          0  2000      3   \n",
       "1     13750         23  72937          1   90          0  2000      3   \n",
       "2     13950         24  41711          1   90          0  2000      3   \n",
       "3     14950         26  48000          1   90          0  2000      3   \n",
       "4     13750         30  38500          1   90          0  2000      3   \n",
       "...     ...        ...    ...        ...  ...        ...   ...    ...   \n",
       "1431   7500         69  20544          2   86          0  1300      3   \n",
       "1432  10845         72  19000          2   86          0  1300      3   \n",
       "1433   8500         71  17016          2   86          0  1300      3   \n",
       "1434   7250         70  16916          2   86          0  1300      3   \n",
       "1435   6950         76      1          2  110          0  1600      5   \n",
       "\n",
       "      Cylinders  Gears  Weight  \n",
       "0             4      5    1165  \n",
       "1             4      5    1165  \n",
       "2             4      5    1165  \n",
       "3             4      5    1165  \n",
       "4             4      5    1170  \n",
       "...         ...    ...     ...  \n",
       "1431          4      5    1025  \n",
       "1432          4      5    1015  \n",
       "1433          4      5    1015  \n",
       "1434          4      5    1015  \n",
       "1435          4      5    1114  \n",
       "\n",
       "[1435 rows x 11 columns]"
      ]
     },
     "execution_count": 88,
     "metadata": {},
     "output_type": "execute_result"
    }
   ],
   "source": [
    "from sklearn.preprocessing import LabelEncoder\n",
    "lab_enc=LabelEncoder()\n",
    "df['Fuel_Type']=lab_enc.fit_transform(df[['Fuel_Type']])\n",
    "df\n"
   ]
  },
  {
   "cell_type": "code",
   "execution_count": 12,
   "id": "faed6795",
   "metadata": {},
   "outputs": [
    {
     "data": {
      "image/png": "[encoded data removed]",
      "text/plain": [
       "<Figure size 1500x1000 with 1 Axes>"
      ]
     },
     "metadata": {},
     "output_type": "display_data"
    }
   ],
   "source": [
    "import matplotlib.pyplot as plt\n",
    "plt.figure(figsize=(15,10))\n",
    "df.boxplot()\n",
    "plt.show()\n"
   ]
  },
  {
   "cell_type": "raw",
   "id": "c951e5e3",
   "metadata": {},
   "source": [
    "## we see that columns having  more outliers are  'price','KM'and 'cc'. "
   ]
  },
  {
   "cell_type": "code",
   "execution_count": 13,
   "id": "ed977ec2",
   "metadata": {},
   "outputs": [
    {
     "name": "stdout",
     "output_type": "stream",
     "text": [
      "IQR for each column: Price         3500.0\n",
      "Age_08_04       26.0\n",
      "KM           44041.5\n",
      "Fuel_Type        0.0\n",
      "HP              20.0\n",
      "Automatic        0.0\n",
      "cc             200.0\n",
      "Doors            2.0\n",
      "Cylinders        0.0\n",
      "Gears            0.0\n",
      "Weight          45.0\n",
      "dtype: float64\n"
     ]
    }
   ],
   "source": [
    "## removing Outliers\n",
    "Q1=df.quantile(0.25)\n",
    "Q3=df.quantile(0.75)\n",
    "IQR=Q3-Q1\n",
    "print('IQR for each column:',IQR)\n"
   ]
  },
  {
   "cell_type": "code",
   "execution_count": 14,
   "id": "b3480464",
   "metadata": {},
   "outputs": [
    {
     "name": "stdout",
     "output_type": "stream",
     "text": [
      "upper_quant: Price         17200.00\n",
      "Age_08_04       109.00\n",
      "KM           153103.75\n",
      "Fuel_Type         2.00\n",
      "HP              140.00\n",
      "Automatic         0.00\n",
      "cc             1900.00\n",
      "Doors             8.00\n",
      "Cylinders         4.00\n",
      "Gears             5.00\n",
      "Weight         1152.50\n",
      "dtype: float64\n",
      "lowe_quant: Price         3200.00\n",
      "Age_08_04        5.00\n",
      "KM          -23062.25\n",
      "Fuel_Type        2.00\n",
      "HP              60.00\n",
      "Automatic        0.00\n",
      "cc            1100.00\n",
      "Doors            0.00\n",
      "Cylinders        4.00\n",
      "Gears            5.00\n",
      "Weight         972.50\n",
      "dtype: float64\n"
     ]
    }
   ],
   "source": [
    "upper_quant=Q3+1.5*IQR\n",
    "print('upper_quant:',upper_quant)\n",
    "lowe_quant=Q1-1.5*IQR\n",
    "print('lowe_quant:',lowe_quant)"
   ]
  },
  {
   "cell_type": "code",
   "execution_count": 15,
   "id": "d27068fe",
   "metadata": {},
   "outputs": [
    {
     "data": {
      "text/html": [
       "<div>\n",
       "<style scoped>\n",
       "    .dataframe tbody tr th:only-of-type {\n",
       "        vertical-align: middle;\n",
       "    }\n",
       "\n",
       "    .dataframe tbody tr th {\n",
       "        vertical-align: top;\n",
       "    }\n",
       "\n",
       "    .dataframe thead th {\n",
       "        text-align: right;\n",
       "    }\n",
       "</style>\n",
       "<table border=\"1\" class=\"dataframe\">\n",
       "  <thead>\n",
       "    <tr style=\"text-align: right;\">\n",
       "      <th></th>\n",
       "      <th>Price</th>\n",
       "      <th>Age_08_04</th>\n",
       "      <th>KM</th>\n",
       "      <th>Fuel_Type</th>\n",
       "      <th>HP</th>\n",
       "      <th>Automatic</th>\n",
       "      <th>cc</th>\n",
       "      <th>Doors</th>\n",
       "      <th>Cylinders</th>\n",
       "      <th>Gears</th>\n",
       "      <th>Weight</th>\n",
       "    </tr>\n",
       "  </thead>\n",
       "  <tbody>\n",
       "    <tr>\n",
       "      <th>0</th>\n",
       "      <td>13500</td>\n",
       "      <td>23</td>\n",
       "      <td>46986</td>\n",
       "      <td>1</td>\n",
       "      <td>90</td>\n",
       "      <td>0</td>\n",
       "      <td>2000</td>\n",
       "      <td>3</td>\n",
       "      <td>4</td>\n",
       "      <td>5</td>\n",
       "      <td>1165</td>\n",
       "    </tr>\n",
       "    <tr>\n",
       "      <th>1</th>\n",
       "      <td>13750</td>\n",
       "      <td>23</td>\n",
       "      <td>72937</td>\n",
       "      <td>1</td>\n",
       "      <td>90</td>\n",
       "      <td>0</td>\n",
       "      <td>2000</td>\n",
       "      <td>3</td>\n",
       "      <td>4</td>\n",
       "      <td>5</td>\n",
       "      <td>1165</td>\n",
       "    </tr>\n",
       "    <tr>\n",
       "      <th>2</th>\n",
       "      <td>13950</td>\n",
       "      <td>24</td>\n",
       "      <td>41711</td>\n",
       "      <td>1</td>\n",
       "      <td>90</td>\n",
       "      <td>0</td>\n",
       "      <td>2000</td>\n",
       "      <td>3</td>\n",
       "      <td>4</td>\n",
       "      <td>5</td>\n",
       "      <td>1165</td>\n",
       "    </tr>\n",
       "    <tr>\n",
       "      <th>3</th>\n",
       "      <td>14950</td>\n",
       "      <td>26</td>\n",
       "      <td>48000</td>\n",
       "      <td>1</td>\n",
       "      <td>90</td>\n",
       "      <td>0</td>\n",
       "      <td>2000</td>\n",
       "      <td>3</td>\n",
       "      <td>4</td>\n",
       "      <td>5</td>\n",
       "      <td>1165</td>\n",
       "    </tr>\n",
       "    <tr>\n",
       "      <th>4</th>\n",
       "      <td>13750</td>\n",
       "      <td>30</td>\n",
       "      <td>38500</td>\n",
       "      <td>1</td>\n",
       "      <td>90</td>\n",
       "      <td>0</td>\n",
       "      <td>2000</td>\n",
       "      <td>3</td>\n",
       "      <td>4</td>\n",
       "      <td>5</td>\n",
       "      <td>1170</td>\n",
       "    </tr>\n",
       "    <tr>\n",
       "      <th>...</th>\n",
       "      <td>...</td>\n",
       "      <td>...</td>\n",
       "      <td>...</td>\n",
       "      <td>...</td>\n",
       "      <td>...</td>\n",
       "      <td>...</td>\n",
       "      <td>...</td>\n",
       "      <td>...</td>\n",
       "      <td>...</td>\n",
       "      <td>...</td>\n",
       "      <td>...</td>\n",
       "    </tr>\n",
       "    <tr>\n",
       "      <th>1431</th>\n",
       "      <td>7500</td>\n",
       "      <td>69</td>\n",
       "      <td>20544</td>\n",
       "      <td>2</td>\n",
       "      <td>86</td>\n",
       "      <td>0</td>\n",
       "      <td>1300</td>\n",
       "      <td>3</td>\n",
       "      <td>4</td>\n",
       "      <td>5</td>\n",
       "      <td>1025</td>\n",
       "    </tr>\n",
       "    <tr>\n",
       "      <th>1432</th>\n",
       "      <td>10845</td>\n",
       "      <td>72</td>\n",
       "      <td>19000</td>\n",
       "      <td>2</td>\n",
       "      <td>86</td>\n",
       "      <td>0</td>\n",
       "      <td>1300</td>\n",
       "      <td>3</td>\n",
       "      <td>4</td>\n",
       "      <td>5</td>\n",
       "      <td>1015</td>\n",
       "    </tr>\n",
       "    <tr>\n",
       "      <th>1433</th>\n",
       "      <td>8500</td>\n",
       "      <td>71</td>\n",
       "      <td>17016</td>\n",
       "      <td>2</td>\n",
       "      <td>86</td>\n",
       "      <td>0</td>\n",
       "      <td>1300</td>\n",
       "      <td>3</td>\n",
       "      <td>4</td>\n",
       "      <td>5</td>\n",
       "      <td>1015</td>\n",
       "    </tr>\n",
       "    <tr>\n",
       "      <th>1434</th>\n",
       "      <td>7250</td>\n",
       "      <td>70</td>\n",
       "      <td>16916</td>\n",
       "      <td>2</td>\n",
       "      <td>86</td>\n",
       "      <td>0</td>\n",
       "      <td>1300</td>\n",
       "      <td>3</td>\n",
       "      <td>4</td>\n",
       "      <td>5</td>\n",
       "      <td>1015</td>\n",
       "    </tr>\n",
       "    <tr>\n",
       "      <th>1435</th>\n",
       "      <td>6950</td>\n",
       "      <td>76</td>\n",
       "      <td>1</td>\n",
       "      <td>2</td>\n",
       "      <td>110</td>\n",
       "      <td>0</td>\n",
       "      <td>1600</td>\n",
       "      <td>5</td>\n",
       "      <td>4</td>\n",
       "      <td>5</td>\n",
       "      <td>1114</td>\n",
       "    </tr>\n",
       "  </tbody>\n",
       "</table>\n",
       "<p>1325 rows × 11 columns</p>\n",
       "</div>"
      ],
      "text/plain": [
       "      Price  Age_08_04     KM  Fuel_Type   HP  Automatic    cc  Doors  \\\n",
       "0     13500         23  46986          1   90          0  2000      3   \n",
       "1     13750         23  72937          1   90          0  2000      3   \n",
       "2     13950         24  41711          1   90          0  2000      3   \n",
       "3     14950         26  48000          1   90          0  2000      3   \n",
       "4     13750         30  38500          1   90          0  2000      3   \n",
       "...     ...        ...    ...        ...  ...        ...   ...    ...   \n",
       "1431   7500         69  20544          2   86          0  1300      3   \n",
       "1432  10845         72  19000          2   86          0  1300      3   \n",
       "1433   8500         71  17016          2   86          0  1300      3   \n",
       "1434   7250         70  16916          2   86          0  1300      3   \n",
       "1435   6950         76      1          2  110          0  1600      5   \n",
       "\n",
       "      Cylinders  Gears  Weight  \n",
       "0             4      5    1165  \n",
       "1             4      5    1165  \n",
       "2             4      5    1165  \n",
       "3             4      5    1165  \n",
       "4             4      5    1170  \n",
       "...         ...    ...     ...  \n",
       "1431          4      5    1025  \n",
       "1432          4      5    1015  \n",
       "1433          4      5    1015  \n",
       "1434          4      5    1015  \n",
       "1435          4      5    1114  \n",
       "\n",
       "[1325 rows x 11 columns]"
      ]
     },
     "execution_count": 15,
     "metadata": {},
     "output_type": "execute_result"
    }
   ],
   "source": [
    "## removing outliers from column'price'\n",
    "##df1p=df withot outliers in price colum\n",
    "df1p=df[(df['Price']>3200) & (df['Price']<17200)]\n",
    "df1p\n"
   ]
  },
  {
   "cell_type": "code",
   "execution_count": 16,
   "id": "652485ce",
   "metadata": {},
   "outputs": [
    {
     "data": {
      "text/html": [
       "<div>\n",
       "<style scoped>\n",
       "    .dataframe tbody tr th:only-of-type {\n",
       "        vertical-align: middle;\n",
       "    }\n",
       "\n",
       "    .dataframe tbody tr th {\n",
       "        vertical-align: top;\n",
       "    }\n",
       "\n",
       "    .dataframe thead th {\n",
       "        text-align: right;\n",
       "    }\n",
       "</style>\n",
       "<table border=\"1\" class=\"dataframe\">\n",
       "  <thead>\n",
       "    <tr style=\"text-align: right;\">\n",
       "      <th></th>\n",
       "      <th>Price</th>\n",
       "      <th>Age_08_04</th>\n",
       "      <th>KM</th>\n",
       "      <th>Fuel_Type</th>\n",
       "      <th>HP</th>\n",
       "      <th>Automatic</th>\n",
       "      <th>cc</th>\n",
       "      <th>Doors</th>\n",
       "      <th>Cylinders</th>\n",
       "      <th>Gears</th>\n",
       "      <th>Weight</th>\n",
       "    </tr>\n",
       "  </thead>\n",
       "  <tbody>\n",
       "    <tr>\n",
       "      <th>0</th>\n",
       "      <td>13500</td>\n",
       "      <td>23</td>\n",
       "      <td>46986</td>\n",
       "      <td>1</td>\n",
       "      <td>90</td>\n",
       "      <td>0</td>\n",
       "      <td>2000</td>\n",
       "      <td>3</td>\n",
       "      <td>4</td>\n",
       "      <td>5</td>\n",
       "      <td>1165</td>\n",
       "    </tr>\n",
       "    <tr>\n",
       "      <th>1</th>\n",
       "      <td>13750</td>\n",
       "      <td>23</td>\n",
       "      <td>72937</td>\n",
       "      <td>1</td>\n",
       "      <td>90</td>\n",
       "      <td>0</td>\n",
       "      <td>2000</td>\n",
       "      <td>3</td>\n",
       "      <td>4</td>\n",
       "      <td>5</td>\n",
       "      <td>1165</td>\n",
       "    </tr>\n",
       "    <tr>\n",
       "      <th>2</th>\n",
       "      <td>13950</td>\n",
       "      <td>24</td>\n",
       "      <td>41711</td>\n",
       "      <td>1</td>\n",
       "      <td>90</td>\n",
       "      <td>0</td>\n",
       "      <td>2000</td>\n",
       "      <td>3</td>\n",
       "      <td>4</td>\n",
       "      <td>5</td>\n",
       "      <td>1165</td>\n",
       "    </tr>\n",
       "    <tr>\n",
       "      <th>3</th>\n",
       "      <td>14950</td>\n",
       "      <td>26</td>\n",
       "      <td>48000</td>\n",
       "      <td>1</td>\n",
       "      <td>90</td>\n",
       "      <td>0</td>\n",
       "      <td>2000</td>\n",
       "      <td>3</td>\n",
       "      <td>4</td>\n",
       "      <td>5</td>\n",
       "      <td>1165</td>\n",
       "    </tr>\n",
       "    <tr>\n",
       "      <th>4</th>\n",
       "      <td>13750</td>\n",
       "      <td>30</td>\n",
       "      <td>38500</td>\n",
       "      <td>1</td>\n",
       "      <td>90</td>\n",
       "      <td>0</td>\n",
       "      <td>2000</td>\n",
       "      <td>3</td>\n",
       "      <td>4</td>\n",
       "      <td>5</td>\n",
       "      <td>1170</td>\n",
       "    </tr>\n",
       "    <tr>\n",
       "      <th>...</th>\n",
       "      <td>...</td>\n",
       "      <td>...</td>\n",
       "      <td>...</td>\n",
       "      <td>...</td>\n",
       "      <td>...</td>\n",
       "      <td>...</td>\n",
       "      <td>...</td>\n",
       "      <td>...</td>\n",
       "      <td>...</td>\n",
       "      <td>...</td>\n",
       "      <td>...</td>\n",
       "    </tr>\n",
       "    <tr>\n",
       "      <th>1431</th>\n",
       "      <td>7500</td>\n",
       "      <td>69</td>\n",
       "      <td>20544</td>\n",
       "      <td>2</td>\n",
       "      <td>86</td>\n",
       "      <td>0</td>\n",
       "      <td>1300</td>\n",
       "      <td>3</td>\n",
       "      <td>4</td>\n",
       "      <td>5</td>\n",
       "      <td>1025</td>\n",
       "    </tr>\n",
       "    <tr>\n",
       "      <th>1432</th>\n",
       "      <td>10845</td>\n",
       "      <td>72</td>\n",
       "      <td>19000</td>\n",
       "      <td>2</td>\n",
       "      <td>86</td>\n",
       "      <td>0</td>\n",
       "      <td>1300</td>\n",
       "      <td>3</td>\n",
       "      <td>4</td>\n",
       "      <td>5</td>\n",
       "      <td>1015</td>\n",
       "    </tr>\n",
       "    <tr>\n",
       "      <th>1433</th>\n",
       "      <td>8500</td>\n",
       "      <td>71</td>\n",
       "      <td>17016</td>\n",
       "      <td>2</td>\n",
       "      <td>86</td>\n",
       "      <td>0</td>\n",
       "      <td>1300</td>\n",
       "      <td>3</td>\n",
       "      <td>4</td>\n",
       "      <td>5</td>\n",
       "      <td>1015</td>\n",
       "    </tr>\n",
       "    <tr>\n",
       "      <th>1434</th>\n",
       "      <td>7250</td>\n",
       "      <td>70</td>\n",
       "      <td>16916</td>\n",
       "      <td>2</td>\n",
       "      <td>86</td>\n",
       "      <td>0</td>\n",
       "      <td>1300</td>\n",
       "      <td>3</td>\n",
       "      <td>4</td>\n",
       "      <td>5</td>\n",
       "      <td>1015</td>\n",
       "    </tr>\n",
       "    <tr>\n",
       "      <th>1435</th>\n",
       "      <td>6950</td>\n",
       "      <td>76</td>\n",
       "      <td>1</td>\n",
       "      <td>2</td>\n",
       "      <td>110</td>\n",
       "      <td>0</td>\n",
       "      <td>1600</td>\n",
       "      <td>5</td>\n",
       "      <td>4</td>\n",
       "      <td>5</td>\n",
       "      <td>1114</td>\n",
       "    </tr>\n",
       "  </tbody>\n",
       "</table>\n",
       "<p>1276 rows × 11 columns</p>\n",
       "</div>"
      ],
      "text/plain": [
       "      Price  Age_08_04     KM  Fuel_Type   HP  Automatic    cc  Doors  \\\n",
       "0     13500         23  46986          1   90          0  2000      3   \n",
       "1     13750         23  72937          1   90          0  2000      3   \n",
       "2     13950         24  41711          1   90          0  2000      3   \n",
       "3     14950         26  48000          1   90          0  2000      3   \n",
       "4     13750         30  38500          1   90          0  2000      3   \n",
       "...     ...        ...    ...        ...  ...        ...   ...    ...   \n",
       "1431   7500         69  20544          2   86          0  1300      3   \n",
       "1432  10845         72  19000          2   86          0  1300      3   \n",
       "1433   8500         71  17016          2   86          0  1300      3   \n",
       "1434   7250         70  16916          2   86          0  1300      3   \n",
       "1435   6950         76      1          2  110          0  1600      5   \n",
       "\n",
       "      Cylinders  Gears  Weight  \n",
       "0             4      5    1165  \n",
       "1             4      5    1165  \n",
       "2             4      5    1165  \n",
       "3             4      5    1165  \n",
       "4             4      5    1170  \n",
       "...         ...    ...     ...  \n",
       "1431          4      5    1025  \n",
       "1432          4      5    1015  \n",
       "1433          4      5    1015  \n",
       "1434          4      5    1015  \n",
       "1435          4      5    1114  \n",
       "\n",
       "[1276 rows x 11 columns]"
      ]
     },
     "execution_count": 16,
     "metadata": {},
     "output_type": "execute_result"
    }
   ],
   "source": [
    "## removing outliers from 'KM ' column\n",
    "## df1k= df without outliers in price and km column\n",
    "df1k=df1p[(df1p['KM']>-23062.25) & (df1p['KM']<153103.75)]\n",
    "df1k"
   ]
  },
  {
   "cell_type": "code",
   "execution_count": 17,
   "id": "9da30f7f",
   "metadata": {},
   "outputs": [
    {
     "data": {
      "text/html": [
       "<div>\n",
       "<style scoped>\n",
       "    .dataframe tbody tr th:only-of-type {\n",
       "        vertical-align: middle;\n",
       "    }\n",
       "\n",
       "    .dataframe tbody tr th {\n",
       "        vertical-align: top;\n",
       "    }\n",
       "\n",
       "    .dataframe thead th {\n",
       "        text-align: right;\n",
       "    }\n",
       "</style>\n",
       "<table border=\"1\" class=\"dataframe\">\n",
       "  <thead>\n",
       "    <tr style=\"text-align: right;\">\n",
       "      <th></th>\n",
       "      <th>Price</th>\n",
       "      <th>Age_08_04</th>\n",
       "      <th>KM</th>\n",
       "      <th>Fuel_Type</th>\n",
       "      <th>HP</th>\n",
       "      <th>Automatic</th>\n",
       "      <th>cc</th>\n",
       "      <th>Doors</th>\n",
       "      <th>Cylinders</th>\n",
       "      <th>Gears</th>\n",
       "      <th>Weight</th>\n",
       "    </tr>\n",
       "  </thead>\n",
       "  <tbody>\n",
       "    <tr>\n",
       "      <th>18</th>\n",
       "      <td>16750</td>\n",
       "      <td>24</td>\n",
       "      <td>25563</td>\n",
       "      <td>2</td>\n",
       "      <td>110</td>\n",
       "      <td>0</td>\n",
       "      <td>1600</td>\n",
       "      <td>3</td>\n",
       "      <td>4</td>\n",
       "      <td>5</td>\n",
       "      <td>1065</td>\n",
       "    </tr>\n",
       "    <tr>\n",
       "      <th>19</th>\n",
       "      <td>16950</td>\n",
       "      <td>30</td>\n",
       "      <td>64359</td>\n",
       "      <td>2</td>\n",
       "      <td>110</td>\n",
       "      <td>0</td>\n",
       "      <td>1600</td>\n",
       "      <td>3</td>\n",
       "      <td>4</td>\n",
       "      <td>5</td>\n",
       "      <td>1105</td>\n",
       "    </tr>\n",
       "    <tr>\n",
       "      <th>20</th>\n",
       "      <td>15950</td>\n",
       "      <td>30</td>\n",
       "      <td>67660</td>\n",
       "      <td>2</td>\n",
       "      <td>110</td>\n",
       "      <td>0</td>\n",
       "      <td>1600</td>\n",
       "      <td>3</td>\n",
       "      <td>4</td>\n",
       "      <td>5</td>\n",
       "      <td>1105</td>\n",
       "    </tr>\n",
       "    <tr>\n",
       "      <th>21</th>\n",
       "      <td>16950</td>\n",
       "      <td>29</td>\n",
       "      <td>43905</td>\n",
       "      <td>2</td>\n",
       "      <td>110</td>\n",
       "      <td>1</td>\n",
       "      <td>1600</td>\n",
       "      <td>3</td>\n",
       "      <td>4</td>\n",
       "      <td>5</td>\n",
       "      <td>1170</td>\n",
       "    </tr>\n",
       "    <tr>\n",
       "      <th>22</th>\n",
       "      <td>15950</td>\n",
       "      <td>28</td>\n",
       "      <td>56349</td>\n",
       "      <td>2</td>\n",
       "      <td>110</td>\n",
       "      <td>0</td>\n",
       "      <td>1600</td>\n",
       "      <td>3</td>\n",
       "      <td>4</td>\n",
       "      <td>5</td>\n",
       "      <td>1120</td>\n",
       "    </tr>\n",
       "    <tr>\n",
       "      <th>...</th>\n",
       "      <td>...</td>\n",
       "      <td>...</td>\n",
       "      <td>...</td>\n",
       "      <td>...</td>\n",
       "      <td>...</td>\n",
       "      <td>...</td>\n",
       "      <td>...</td>\n",
       "      <td>...</td>\n",
       "      <td>...</td>\n",
       "      <td>...</td>\n",
       "      <td>...</td>\n",
       "    </tr>\n",
       "    <tr>\n",
       "      <th>1431</th>\n",
       "      <td>7500</td>\n",
       "      <td>69</td>\n",
       "      <td>20544</td>\n",
       "      <td>2</td>\n",
       "      <td>86</td>\n",
       "      <td>0</td>\n",
       "      <td>1300</td>\n",
       "      <td>3</td>\n",
       "      <td>4</td>\n",
       "      <td>5</td>\n",
       "      <td>1025</td>\n",
       "    </tr>\n",
       "    <tr>\n",
       "      <th>1432</th>\n",
       "      <td>10845</td>\n",
       "      <td>72</td>\n",
       "      <td>19000</td>\n",
       "      <td>2</td>\n",
       "      <td>86</td>\n",
       "      <td>0</td>\n",
       "      <td>1300</td>\n",
       "      <td>3</td>\n",
       "      <td>4</td>\n",
       "      <td>5</td>\n",
       "      <td>1015</td>\n",
       "    </tr>\n",
       "    <tr>\n",
       "      <th>1433</th>\n",
       "      <td>8500</td>\n",
       "      <td>71</td>\n",
       "      <td>17016</td>\n",
       "      <td>2</td>\n",
       "      <td>86</td>\n",
       "      <td>0</td>\n",
       "      <td>1300</td>\n",
       "      <td>3</td>\n",
       "      <td>4</td>\n",
       "      <td>5</td>\n",
       "      <td>1015</td>\n",
       "    </tr>\n",
       "    <tr>\n",
       "      <th>1434</th>\n",
       "      <td>7250</td>\n",
       "      <td>70</td>\n",
       "      <td>16916</td>\n",
       "      <td>2</td>\n",
       "      <td>86</td>\n",
       "      <td>0</td>\n",
       "      <td>1300</td>\n",
       "      <td>3</td>\n",
       "      <td>4</td>\n",
       "      <td>5</td>\n",
       "      <td>1015</td>\n",
       "    </tr>\n",
       "    <tr>\n",
       "      <th>1435</th>\n",
       "      <td>6950</td>\n",
       "      <td>76</td>\n",
       "      <td>1</td>\n",
       "      <td>2</td>\n",
       "      <td>110</td>\n",
       "      <td>0</td>\n",
       "      <td>1600</td>\n",
       "      <td>5</td>\n",
       "      <td>4</td>\n",
       "      <td>5</td>\n",
       "      <td>1114</td>\n",
       "    </tr>\n",
       "  </tbody>\n",
       "</table>\n",
       "<p>1196 rows × 11 columns</p>\n",
       "</div>"
      ],
      "text/plain": [
       "      Price  Age_08_04     KM  Fuel_Type   HP  Automatic    cc  Doors  \\\n",
       "18    16750         24  25563          2  110          0  1600      3   \n",
       "19    16950         30  64359          2  110          0  1600      3   \n",
       "20    15950         30  67660          2  110          0  1600      3   \n",
       "21    16950         29  43905          2  110          1  1600      3   \n",
       "22    15950         28  56349          2  110          0  1600      3   \n",
       "...     ...        ...    ...        ...  ...        ...   ...    ...   \n",
       "1431   7500         69  20544          2   86          0  1300      3   \n",
       "1432  10845         72  19000          2   86          0  1300      3   \n",
       "1433   8500         71  17016          2   86          0  1300      3   \n",
       "1434   7250         70  16916          2   86          0  1300      3   \n",
       "1435   6950         76      1          2  110          0  1600      5   \n",
       "\n",
       "      Cylinders  Gears  Weight  \n",
       "18            4      5    1065  \n",
       "19            4      5    1105  \n",
       "20            4      5    1105  \n",
       "21            4      5    1170  \n",
       "22            4      5    1120  \n",
       "...         ...    ...     ...  \n",
       "1431          4      5    1025  \n",
       "1432          4      5    1015  \n",
       "1433          4      5    1015  \n",
       "1434          4      5    1015  \n",
       "1435          4      5    1114  \n",
       "\n",
       "[1196 rows x 11 columns]"
      ]
     },
     "execution_count": 17,
     "metadata": {},
     "output_type": "execute_result"
    }
   ],
   "source": [
    "## removin outliers from 'cc' column\n",
    "## df1c= df without outliers in columns 'cc','price'and 'KM'\n",
    "df1c=df1p[(df1p['cc']>1100.00) & (df1p['cc']<1900.00)]\n",
    "df1c\n"
   ]
  },
  {
   "cell_type": "code",
   "execution_count": 18,
   "id": "06235e34",
   "metadata": {},
   "outputs": [
    {
     "data": {
      "text/html": [
       "<div>\n",
       "<style scoped>\n",
       "    .dataframe tbody tr th:only-of-type {\n",
       "        vertical-align: middle;\n",
       "    }\n",
       "\n",
       "    .dataframe tbody tr th {\n",
       "        vertical-align: top;\n",
       "    }\n",
       "\n",
       "    .dataframe thead th {\n",
       "        text-align: right;\n",
       "    }\n",
       "</style>\n",
       "<table border=\"1\" class=\"dataframe\">\n",
       "  <thead>\n",
       "    <tr style=\"text-align: right;\">\n",
       "      <th></th>\n",
       "      <th>Price</th>\n",
       "      <th>Age_08_04</th>\n",
       "      <th>KM</th>\n",
       "      <th>Fuel_Type</th>\n",
       "      <th>HP</th>\n",
       "      <th>Automatic</th>\n",
       "      <th>cc</th>\n",
       "      <th>Doors</th>\n",
       "      <th>Cylinders</th>\n",
       "      <th>Gears</th>\n",
       "      <th>Weight</th>\n",
       "    </tr>\n",
       "  </thead>\n",
       "  <tbody>\n",
       "    <tr>\n",
       "      <th>18</th>\n",
       "      <td>16750</td>\n",
       "      <td>24</td>\n",
       "      <td>25563</td>\n",
       "      <td>2</td>\n",
       "      <td>110</td>\n",
       "      <td>0</td>\n",
       "      <td>1600</td>\n",
       "      <td>3</td>\n",
       "      <td>4</td>\n",
       "      <td>5</td>\n",
       "      <td>1065</td>\n",
       "    </tr>\n",
       "    <tr>\n",
       "      <th>19</th>\n",
       "      <td>16950</td>\n",
       "      <td>30</td>\n",
       "      <td>64359</td>\n",
       "      <td>2</td>\n",
       "      <td>110</td>\n",
       "      <td>0</td>\n",
       "      <td>1600</td>\n",
       "      <td>3</td>\n",
       "      <td>4</td>\n",
       "      <td>5</td>\n",
       "      <td>1105</td>\n",
       "    </tr>\n",
       "    <tr>\n",
       "      <th>20</th>\n",
       "      <td>15950</td>\n",
       "      <td>30</td>\n",
       "      <td>67660</td>\n",
       "      <td>2</td>\n",
       "      <td>110</td>\n",
       "      <td>0</td>\n",
       "      <td>1600</td>\n",
       "      <td>3</td>\n",
       "      <td>4</td>\n",
       "      <td>5</td>\n",
       "      <td>1105</td>\n",
       "    </tr>\n",
       "    <tr>\n",
       "      <th>22</th>\n",
       "      <td>15950</td>\n",
       "      <td>28</td>\n",
       "      <td>56349</td>\n",
       "      <td>2</td>\n",
       "      <td>110</td>\n",
       "      <td>0</td>\n",
       "      <td>1600</td>\n",
       "      <td>3</td>\n",
       "      <td>4</td>\n",
       "      <td>5</td>\n",
       "      <td>1120</td>\n",
       "    </tr>\n",
       "    <tr>\n",
       "      <th>23</th>\n",
       "      <td>16950</td>\n",
       "      <td>28</td>\n",
       "      <td>32220</td>\n",
       "      <td>2</td>\n",
       "      <td>110</td>\n",
       "      <td>0</td>\n",
       "      <td>1600</td>\n",
       "      <td>3</td>\n",
       "      <td>4</td>\n",
       "      <td>5</td>\n",
       "      <td>1120</td>\n",
       "    </tr>\n",
       "    <tr>\n",
       "      <th>...</th>\n",
       "      <td>...</td>\n",
       "      <td>...</td>\n",
       "      <td>...</td>\n",
       "      <td>...</td>\n",
       "      <td>...</td>\n",
       "      <td>...</td>\n",
       "      <td>...</td>\n",
       "      <td>...</td>\n",
       "      <td>...</td>\n",
       "      <td>...</td>\n",
       "      <td>...</td>\n",
       "    </tr>\n",
       "    <tr>\n",
       "      <th>1431</th>\n",
       "      <td>7500</td>\n",
       "      <td>69</td>\n",
       "      <td>20544</td>\n",
       "      <td>2</td>\n",
       "      <td>86</td>\n",
       "      <td>0</td>\n",
       "      <td>1300</td>\n",
       "      <td>3</td>\n",
       "      <td>4</td>\n",
       "      <td>5</td>\n",
       "      <td>1025</td>\n",
       "    </tr>\n",
       "    <tr>\n",
       "      <th>1432</th>\n",
       "      <td>10845</td>\n",
       "      <td>72</td>\n",
       "      <td>19000</td>\n",
       "      <td>2</td>\n",
       "      <td>86</td>\n",
       "      <td>0</td>\n",
       "      <td>1300</td>\n",
       "      <td>3</td>\n",
       "      <td>4</td>\n",
       "      <td>5</td>\n",
       "      <td>1015</td>\n",
       "    </tr>\n",
       "    <tr>\n",
       "      <th>1433</th>\n",
       "      <td>8500</td>\n",
       "      <td>71</td>\n",
       "      <td>17016</td>\n",
       "      <td>2</td>\n",
       "      <td>86</td>\n",
       "      <td>0</td>\n",
       "      <td>1300</td>\n",
       "      <td>3</td>\n",
       "      <td>4</td>\n",
       "      <td>5</td>\n",
       "      <td>1015</td>\n",
       "    </tr>\n",
       "    <tr>\n",
       "      <th>1434</th>\n",
       "      <td>7250</td>\n",
       "      <td>70</td>\n",
       "      <td>16916</td>\n",
       "      <td>2</td>\n",
       "      <td>86</td>\n",
       "      <td>0</td>\n",
       "      <td>1300</td>\n",
       "      <td>3</td>\n",
       "      <td>4</td>\n",
       "      <td>5</td>\n",
       "      <td>1015</td>\n",
       "    </tr>\n",
       "    <tr>\n",
       "      <th>1435</th>\n",
       "      <td>6950</td>\n",
       "      <td>76</td>\n",
       "      <td>1</td>\n",
       "      <td>2</td>\n",
       "      <td>110</td>\n",
       "      <td>0</td>\n",
       "      <td>1600</td>\n",
       "      <td>5</td>\n",
       "      <td>4</td>\n",
       "      <td>5</td>\n",
       "      <td>1114</td>\n",
       "    </tr>\n",
       "  </tbody>\n",
       "</table>\n",
       "<p>1192 rows × 11 columns</p>\n",
       "</div>"
      ],
      "text/plain": [
       "      Price  Age_08_04     KM  Fuel_Type   HP  Automatic    cc  Doors  \\\n",
       "18    16750         24  25563          2  110          0  1600      3   \n",
       "19    16950         30  64359          2  110          0  1600      3   \n",
       "20    15950         30  67660          2  110          0  1600      3   \n",
       "22    15950         28  56349          2  110          0  1600      3   \n",
       "23    16950         28  32220          2  110          0  1600      3   \n",
       "...     ...        ...    ...        ...  ...        ...   ...    ...   \n",
       "1431   7500         69  20544          2   86          0  1300      3   \n",
       "1432  10845         72  19000          2   86          0  1300      3   \n",
       "1433   8500         71  17016          2   86          0  1300      3   \n",
       "1434   7250         70  16916          2   86          0  1300      3   \n",
       "1435   6950         76      1          2  110          0  1600      5   \n",
       "\n",
       "      Cylinders  Gears  Weight  \n",
       "18            4      5    1065  \n",
       "19            4      5    1105  \n",
       "20            4      5    1105  \n",
       "22            4      5    1120  \n",
       "23            4      5    1120  \n",
       "...         ...    ...     ...  \n",
       "1431          4      5    1025  \n",
       "1432          4      5    1015  \n",
       "1433          4      5    1015  \n",
       "1434          4      5    1015  \n",
       "1435          4      5    1114  \n",
       "\n",
       "[1192 rows x 11 columns]"
      ]
     },
     "execution_count": 18,
     "metadata": {},
     "output_type": "execute_result"
    }
   ],
   "source": [
    "## removin outliers from 'Weight' column\n",
    "##df1w= df without outliers in columns 'cc','price', 'KM' and 'Weight' column\n",
    "df1w=df1c[(df1c['Weight']>972.50) & (df1c['Weight']<1152.50)]\n",
    "df1w\n"
   ]
  },
  {
   "cell_type": "raw",
   "id": "d05e8b0e",
   "metadata": {},
   "source": [
    "similarly we can remove outliers from remaining columns"
   ]
  },
  {
   "cell_type": "code",
   "execution_count": 19,
   "id": "a98f69cd",
   "metadata": {},
   "outputs": [
    {
     "data": {
      "text/html": [
       "<div>\n",
       "<style scoped>\n",
       "    .dataframe tbody tr th:only-of-type {\n",
       "        vertical-align: middle;\n",
       "    }\n",
       "\n",
       "    .dataframe tbody tr th {\n",
       "        vertical-align: top;\n",
       "    }\n",
       "\n",
       "    .dataframe thead th {\n",
       "        text-align: right;\n",
       "    }\n",
       "</style>\n",
       "<table border=\"1\" class=\"dataframe\">\n",
       "  <thead>\n",
       "    <tr style=\"text-align: right;\">\n",
       "      <th></th>\n",
       "      <th>Price</th>\n",
       "      <th>Age_08_04</th>\n",
       "      <th>KM</th>\n",
       "      <th>Fuel_Type</th>\n",
       "      <th>HP</th>\n",
       "      <th>Automatic</th>\n",
       "      <th>cc</th>\n",
       "      <th>Doors</th>\n",
       "      <th>Cylinders</th>\n",
       "      <th>Gears</th>\n",
       "      <th>Weight</th>\n",
       "    </tr>\n",
       "  </thead>\n",
       "  <tbody>\n",
       "    <tr>\n",
       "      <th>Price</th>\n",
       "      <td>1.000000</td>\n",
       "      <td>-0.857725</td>\n",
       "      <td>-0.548778</td>\n",
       "      <td>0.053410</td>\n",
       "      <td>0.186182</td>\n",
       "      <td>0.016461</td>\n",
       "      <td>0.109998</td>\n",
       "      <td>0.169885</td>\n",
       "      <td>NaN</td>\n",
       "      <td>0.021724</td>\n",
       "      <td>0.387998</td>\n",
       "    </tr>\n",
       "    <tr>\n",
       "      <th>Age_08_04</th>\n",
       "      <td>-0.857725</td>\n",
       "      <td>1.000000</td>\n",
       "      <td>0.466564</td>\n",
       "      <td>0.031494</td>\n",
       "      <td>-0.081149</td>\n",
       "      <td>0.063113</td>\n",
       "      <td>-0.037991</td>\n",
       "      <td>-0.115843</td>\n",
       "      <td>NaN</td>\n",
       "      <td>0.018026</td>\n",
       "      <td>-0.293820</td>\n",
       "    </tr>\n",
       "    <tr>\n",
       "      <th>KM</th>\n",
       "      <td>-0.548778</td>\n",
       "      <td>0.466564</td>\n",
       "      <td>1.000000</td>\n",
       "      <td>-0.228736</td>\n",
       "      <td>0.001433</td>\n",
       "      <td>-0.055723</td>\n",
       "      <td>0.065583</td>\n",
       "      <td>-0.013600</td>\n",
       "      <td>NaN</td>\n",
       "      <td>0.064696</td>\n",
       "      <td>-0.075853</td>\n",
       "    </tr>\n",
       "    <tr>\n",
       "      <th>Fuel_Type</th>\n",
       "      <td>0.053410</td>\n",
       "      <td>0.031494</td>\n",
       "      <td>-0.228736</td>\n",
       "      <td>1.000000</td>\n",
       "      <td>-0.044578</td>\n",
       "      <td>0.002877</td>\n",
       "      <td>-0.103879</td>\n",
       "      <td>-0.025337</td>\n",
       "      <td>NaN</td>\n",
       "      <td>0.053254</td>\n",
       "      <td>-0.156461</td>\n",
       "    </tr>\n",
       "    <tr>\n",
       "      <th>HP</th>\n",
       "      <td>0.186182</td>\n",
       "      <td>-0.081149</td>\n",
       "      <td>0.001433</td>\n",
       "      <td>-0.044578</td>\n",
       "      <td>1.000000</td>\n",
       "      <td>-0.046894</td>\n",
       "      <td>0.953403</td>\n",
       "      <td>0.182255</td>\n",
       "      <td>NaN</td>\n",
       "      <td>0.070953</td>\n",
       "      <td>0.434185</td>\n",
       "    </tr>\n",
       "    <tr>\n",
       "      <th>Automatic</th>\n",
       "      <td>0.016461</td>\n",
       "      <td>0.063113</td>\n",
       "      <td>-0.055723</td>\n",
       "      <td>0.002877</td>\n",
       "      <td>-0.046894</td>\n",
       "      <td>1.000000</td>\n",
       "      <td>-0.019871</td>\n",
       "      <td>-0.041122</td>\n",
       "      <td>NaN</td>\n",
       "      <td>-0.107498</td>\n",
       "      <td>0.125518</td>\n",
       "    </tr>\n",
       "    <tr>\n",
       "      <th>cc</th>\n",
       "      <td>0.109998</td>\n",
       "      <td>-0.037991</td>\n",
       "      <td>0.065583</td>\n",
       "      <td>-0.103879</td>\n",
       "      <td>0.953403</td>\n",
       "      <td>-0.019871</td>\n",
       "      <td>1.000000</td>\n",
       "      <td>0.196592</td>\n",
       "      <td>NaN</td>\n",
       "      <td>0.071951</td>\n",
       "      <td>0.449234</td>\n",
       "    </tr>\n",
       "    <tr>\n",
       "      <th>Doors</th>\n",
       "      <td>0.169885</td>\n",
       "      <td>-0.115843</td>\n",
       "      <td>-0.013600</td>\n",
       "      <td>-0.025337</td>\n",
       "      <td>0.182255</td>\n",
       "      <td>-0.041122</td>\n",
       "      <td>0.196592</td>\n",
       "      <td>1.000000</td>\n",
       "      <td>NaN</td>\n",
       "      <td>-0.160096</td>\n",
       "      <td>0.412002</td>\n",
       "    </tr>\n",
       "    <tr>\n",
       "      <th>Cylinders</th>\n",
       "      <td>NaN</td>\n",
       "      <td>NaN</td>\n",
       "      <td>NaN</td>\n",
       "      <td>NaN</td>\n",
       "      <td>NaN</td>\n",
       "      <td>NaN</td>\n",
       "      <td>NaN</td>\n",
       "      <td>NaN</td>\n",
       "      <td>NaN</td>\n",
       "      <td>NaN</td>\n",
       "      <td>NaN</td>\n",
       "    </tr>\n",
       "    <tr>\n",
       "      <th>Gears</th>\n",
       "      <td>0.021724</td>\n",
       "      <td>0.018026</td>\n",
       "      <td>0.064696</td>\n",
       "      <td>0.053254</td>\n",
       "      <td>0.070953</td>\n",
       "      <td>-0.107498</td>\n",
       "      <td>0.071951</td>\n",
       "      <td>-0.160096</td>\n",
       "      <td>NaN</td>\n",
       "      <td>1.000000</td>\n",
       "      <td>-0.003999</td>\n",
       "    </tr>\n",
       "    <tr>\n",
       "      <th>Weight</th>\n",
       "      <td>0.387998</td>\n",
       "      <td>-0.293820</td>\n",
       "      <td>-0.075853</td>\n",
       "      <td>-0.156461</td>\n",
       "      <td>0.434185</td>\n",
       "      <td>0.125518</td>\n",
       "      <td>0.449234</td>\n",
       "      <td>0.412002</td>\n",
       "      <td>NaN</td>\n",
       "      <td>-0.003999</td>\n",
       "      <td>1.000000</td>\n",
       "    </tr>\n",
       "  </tbody>\n",
       "</table>\n",
       "</div>"
      ],
      "text/plain": [
       "              Price  Age_08_04        KM  Fuel_Type        HP  Automatic  \\\n",
       "Price      1.000000  -0.857725 -0.548778   0.053410  0.186182   0.016461   \n",
       "Age_08_04 -0.857725   1.000000  0.466564   0.031494 -0.081149   0.063113   \n",
       "KM        -0.548778   0.466564  1.000000  -0.228736  0.001433  -0.055723   \n",
       "Fuel_Type  0.053410   0.031494 -0.228736   1.000000 -0.044578   0.002877   \n",
       "HP         0.186182  -0.081149  0.001433  -0.044578  1.000000  -0.046894   \n",
       "Automatic  0.016461   0.063113 -0.055723   0.002877 -0.046894   1.000000   \n",
       "cc         0.109998  -0.037991  0.065583  -0.103879  0.953403  -0.019871   \n",
       "Doors      0.169885  -0.115843 -0.013600  -0.025337  0.182255  -0.041122   \n",
       "Cylinders       NaN        NaN       NaN        NaN       NaN        NaN   \n",
       "Gears      0.021724   0.018026  0.064696   0.053254  0.070953  -0.107498   \n",
       "Weight     0.387998  -0.293820 -0.075853  -0.156461  0.434185   0.125518   \n",
       "\n",
       "                 cc     Doors  Cylinders     Gears    Weight  \n",
       "Price      0.109998  0.169885        NaN  0.021724  0.387998  \n",
       "Age_08_04 -0.037991 -0.115843        NaN  0.018026 -0.293820  \n",
       "KM         0.065583 -0.013600        NaN  0.064696 -0.075853  \n",
       "Fuel_Type -0.103879 -0.025337        NaN  0.053254 -0.156461  \n",
       "HP         0.953403  0.182255        NaN  0.070953  0.434185  \n",
       "Automatic -0.019871 -0.041122        NaN -0.107498  0.125518  \n",
       "cc         1.000000  0.196592        NaN  0.071951  0.449234  \n",
       "Doors      0.196592  1.000000        NaN -0.160096  0.412002  \n",
       "Cylinders       NaN       NaN        NaN       NaN       NaN  \n",
       "Gears      0.071951 -0.160096        NaN  1.000000 -0.003999  \n",
       "Weight     0.449234  0.412002        NaN -0.003999  1.000000  "
      ]
     },
     "execution_count": 19,
     "metadata": {},
     "output_type": "execute_result"
    }
   ],
   "source": [
    "## checking for correlation( we check correlation for numerical columns only)\n",
    "df1c.corr()"
   ]
  },
  {
   "cell_type": "raw",
   "id": "6fd7f483",
   "metadata": {},
   "source": [
    "since column 'Cylinders\t' has no relation with any column so remove it,Also 'Automatic' & 'Fuel Type' column has no  good relation with 'price' column so we remove it also,also features columns 'HP' and 'cc' are highly corelated so,we have to remove one of  them .we remoove 'HP'."
   ]
  },
  {
   "cell_type": "code",
   "execution_count": 20,
   "id": "f4bf47fa",
   "metadata": {},
   "outputs": [
    {
     "data": {
      "text/html": [
       "<div>\n",
       "<style scoped>\n",
       "    .dataframe tbody tr th:only-of-type {\n",
       "        vertical-align: middle;\n",
       "    }\n",
       "\n",
       "    .dataframe tbody tr th {\n",
       "        vertical-align: top;\n",
       "    }\n",
       "\n",
       "    .dataframe thead th {\n",
       "        text-align: right;\n",
       "    }\n",
       "</style>\n",
       "<table border=\"1\" class=\"dataframe\">\n",
       "  <thead>\n",
       "    <tr style=\"text-align: right;\">\n",
       "      <th></th>\n",
       "      <th>Price</th>\n",
       "      <th>Age_08_04</th>\n",
       "      <th>KM</th>\n",
       "      <th>cc</th>\n",
       "      <th>Doors</th>\n",
       "      <th>Gears</th>\n",
       "      <th>Weight</th>\n",
       "    </tr>\n",
       "  </thead>\n",
       "  <tbody>\n",
       "    <tr>\n",
       "      <th>18</th>\n",
       "      <td>16750</td>\n",
       "      <td>24</td>\n",
       "      <td>25563</td>\n",
       "      <td>1600</td>\n",
       "      <td>3</td>\n",
       "      <td>5</td>\n",
       "      <td>1065</td>\n",
       "    </tr>\n",
       "    <tr>\n",
       "      <th>19</th>\n",
       "      <td>16950</td>\n",
       "      <td>30</td>\n",
       "      <td>64359</td>\n",
       "      <td>1600</td>\n",
       "      <td>3</td>\n",
       "      <td>5</td>\n",
       "      <td>1105</td>\n",
       "    </tr>\n",
       "    <tr>\n",
       "      <th>20</th>\n",
       "      <td>15950</td>\n",
       "      <td>30</td>\n",
       "      <td>67660</td>\n",
       "      <td>1600</td>\n",
       "      <td>3</td>\n",
       "      <td>5</td>\n",
       "      <td>1105</td>\n",
       "    </tr>\n",
       "    <tr>\n",
       "      <th>21</th>\n",
       "      <td>16950</td>\n",
       "      <td>29</td>\n",
       "      <td>43905</td>\n",
       "      <td>1600</td>\n",
       "      <td>3</td>\n",
       "      <td>5</td>\n",
       "      <td>1170</td>\n",
       "    </tr>\n",
       "    <tr>\n",
       "      <th>22</th>\n",
       "      <td>15950</td>\n",
       "      <td>28</td>\n",
       "      <td>56349</td>\n",
       "      <td>1600</td>\n",
       "      <td>3</td>\n",
       "      <td>5</td>\n",
       "      <td>1120</td>\n",
       "    </tr>\n",
       "    <tr>\n",
       "      <th>...</th>\n",
       "      <td>...</td>\n",
       "      <td>...</td>\n",
       "      <td>...</td>\n",
       "      <td>...</td>\n",
       "      <td>...</td>\n",
       "      <td>...</td>\n",
       "      <td>...</td>\n",
       "    </tr>\n",
       "    <tr>\n",
       "      <th>1431</th>\n",
       "      <td>7500</td>\n",
       "      <td>69</td>\n",
       "      <td>20544</td>\n",
       "      <td>1300</td>\n",
       "      <td>3</td>\n",
       "      <td>5</td>\n",
       "      <td>1025</td>\n",
       "    </tr>\n",
       "    <tr>\n",
       "      <th>1432</th>\n",
       "      <td>10845</td>\n",
       "      <td>72</td>\n",
       "      <td>19000</td>\n",
       "      <td>1300</td>\n",
       "      <td>3</td>\n",
       "      <td>5</td>\n",
       "      <td>1015</td>\n",
       "    </tr>\n",
       "    <tr>\n",
       "      <th>1433</th>\n",
       "      <td>8500</td>\n",
       "      <td>71</td>\n",
       "      <td>17016</td>\n",
       "      <td>1300</td>\n",
       "      <td>3</td>\n",
       "      <td>5</td>\n",
       "      <td>1015</td>\n",
       "    </tr>\n",
       "    <tr>\n",
       "      <th>1434</th>\n",
       "      <td>7250</td>\n",
       "      <td>70</td>\n",
       "      <td>16916</td>\n",
       "      <td>1300</td>\n",
       "      <td>3</td>\n",
       "      <td>5</td>\n",
       "      <td>1015</td>\n",
       "    </tr>\n",
       "    <tr>\n",
       "      <th>1435</th>\n",
       "      <td>6950</td>\n",
       "      <td>76</td>\n",
       "      <td>1</td>\n",
       "      <td>1600</td>\n",
       "      <td>5</td>\n",
       "      <td>5</td>\n",
       "      <td>1114</td>\n",
       "    </tr>\n",
       "  </tbody>\n",
       "</table>\n",
       "<p>1196 rows × 7 columns</p>\n",
       "</div>"
      ],
      "text/plain": [
       "      Price  Age_08_04     KM    cc  Doors  Gears  Weight\n",
       "18    16750         24  25563  1600      3      5    1065\n",
       "19    16950         30  64359  1600      3      5    1105\n",
       "20    15950         30  67660  1600      3      5    1105\n",
       "21    16950         29  43905  1600      3      5    1170\n",
       "22    15950         28  56349  1600      3      5    1120\n",
       "...     ...        ...    ...   ...    ...    ...     ...\n",
       "1431   7500         69  20544  1300      3      5    1025\n",
       "1432  10845         72  19000  1300      3      5    1015\n",
       "1433   8500         71  17016  1300      3      5    1015\n",
       "1434   7250         70  16916  1300      3      5    1015\n",
       "1435   6950         76      1  1600      5      5    1114\n",
       "\n",
       "[1196 rows x 7 columns]"
      ]
     },
     "execution_count": 20,
     "metadata": {},
     "output_type": "execute_result"
    }
   ],
   "source": [
    "df2=df1c.drop(['Cylinders','Automatic','Fuel_Type','HP'],axis=1)\n",
    "df2"
   ]
  },
  {
   "cell_type": "code",
   "execution_count": 21,
   "id": "2c2ac870",
   "metadata": {},
   "outputs": [],
   "source": [
    "## Scaling\n",
    "from sklearn.preprocessing import StandardScaler\n",
    "std_sca=StandardScaler()"
   ]
  },
  {
   "cell_type": "code",
   "execution_count": 22,
   "id": "fb750f6a",
   "metadata": {},
   "outputs": [
    {
     "data": {
      "text/html": [
       "<div>\n",
       "<style scoped>\n",
       "    .dataframe tbody tr th:only-of-type {\n",
       "        vertical-align: middle;\n",
       "    }\n",
       "\n",
       "    .dataframe tbody tr th {\n",
       "        vertical-align: top;\n",
       "    }\n",
       "\n",
       "    .dataframe thead th {\n",
       "        text-align: right;\n",
       "    }\n",
       "</style>\n",
       "<table border=\"1\" class=\"dataframe\">\n",
       "  <thead>\n",
       "    <tr style=\"text-align: right;\">\n",
       "      <th></th>\n",
       "      <th>0</th>\n",
       "      <th>1</th>\n",
       "      <th>2</th>\n",
       "      <th>3</th>\n",
       "      <th>4</th>\n",
       "      <th>5</th>\n",
       "      <th>6</th>\n",
       "    </tr>\n",
       "  </thead>\n",
       "  <tbody>\n",
       "    <tr>\n",
       "      <th>0</th>\n",
       "      <td>2.920296</td>\n",
       "      <td>-2.328455</td>\n",
       "      <td>-1.389676</td>\n",
       "      <td>0.685286</td>\n",
       "      <td>-1.051755</td>\n",
       "      <td>-0.134835</td>\n",
       "      <td>0.229042</td>\n",
       "    </tr>\n",
       "    <tr>\n",
       "      <th>1</th>\n",
       "      <td>3.006688</td>\n",
       "      <td>-1.934002</td>\n",
       "      <td>-0.079518</td>\n",
       "      <td>0.685286</td>\n",
       "      <td>-1.051755</td>\n",
       "      <td>-0.134835</td>\n",
       "      <td>1.404095</td>\n",
       "    </tr>\n",
       "    <tr>\n",
       "      <th>2</th>\n",
       "      <td>2.574727</td>\n",
       "      <td>-1.934002</td>\n",
       "      <td>0.031959</td>\n",
       "      <td>0.685286</td>\n",
       "      <td>-1.051755</td>\n",
       "      <td>-0.134835</td>\n",
       "      <td>1.404095</td>\n",
       "    </tr>\n",
       "    <tr>\n",
       "      <th>3</th>\n",
       "      <td>3.006688</td>\n",
       "      <td>-1.999744</td>\n",
       "      <td>-0.770259</td>\n",
       "      <td>0.685286</td>\n",
       "      <td>-1.051755</td>\n",
       "      <td>-0.134835</td>\n",
       "      <td>3.313556</td>\n",
       "    </tr>\n",
       "    <tr>\n",
       "      <th>4</th>\n",
       "      <td>2.574727</td>\n",
       "      <td>-2.065486</td>\n",
       "      <td>-0.350019</td>\n",
       "      <td>0.685286</td>\n",
       "      <td>-1.051755</td>\n",
       "      <td>-0.134835</td>\n",
       "      <td>1.844740</td>\n",
       "    </tr>\n",
       "    <tr>\n",
       "      <th>...</th>\n",
       "      <td>...</td>\n",
       "      <td>...</td>\n",
       "      <td>...</td>\n",
       "      <td>...</td>\n",
       "      <td>...</td>\n",
       "      <td>...</td>\n",
       "      <td>...</td>\n",
       "    </tr>\n",
       "    <tr>\n",
       "      <th>1191</th>\n",
       "      <td>-1.075339</td>\n",
       "      <td>0.629936</td>\n",
       "      <td>-1.559170</td>\n",
       "      <td>-1.665478</td>\n",
       "      <td>-1.051755</td>\n",
       "      <td>-0.134835</td>\n",
       "      <td>-0.946011</td>\n",
       "    </tr>\n",
       "    <tr>\n",
       "      <th>1192</th>\n",
       "      <td>0.369569</td>\n",
       "      <td>0.827162</td>\n",
       "      <td>-1.611312</td>\n",
       "      <td>-1.665478</td>\n",
       "      <td>-1.051755</td>\n",
       "      <td>-0.134835</td>\n",
       "      <td>-1.239774</td>\n",
       "    </tr>\n",
       "    <tr>\n",
       "      <th>1193</th>\n",
       "      <td>-0.643378</td>\n",
       "      <td>0.761420</td>\n",
       "      <td>-1.678312</td>\n",
       "      <td>-1.665478</td>\n",
       "      <td>-1.051755</td>\n",
       "      <td>-0.134835</td>\n",
       "      <td>-1.239774</td>\n",
       "    </tr>\n",
       "    <tr>\n",
       "      <th>1194</th>\n",
       "      <td>-1.183329</td>\n",
       "      <td>0.695678</td>\n",
       "      <td>-1.681690</td>\n",
       "      <td>-1.665478</td>\n",
       "      <td>-1.051755</td>\n",
       "      <td>-0.134835</td>\n",
       "      <td>-1.239774</td>\n",
       "    </tr>\n",
       "    <tr>\n",
       "      <th>1195</th>\n",
       "      <td>-1.312917</td>\n",
       "      <td>1.090130</td>\n",
       "      <td>-2.252917</td>\n",
       "      <td>0.685286</td>\n",
       "      <td>1.049997</td>\n",
       "      <td>-0.134835</td>\n",
       "      <td>1.668482</td>\n",
       "    </tr>\n",
       "  </tbody>\n",
       "</table>\n",
       "<p>1196 rows × 7 columns</p>\n",
       "</div>"
      ],
      "text/plain": [
       "             0         1         2         3         4         5         6\n",
       "0     2.920296 -2.328455 -1.389676  0.685286 -1.051755 -0.134835  0.229042\n",
       "1     3.006688 -1.934002 -0.079518  0.685286 -1.051755 -0.134835  1.404095\n",
       "2     2.574727 -1.934002  0.031959  0.685286 -1.051755 -0.134835  1.404095\n",
       "3     3.006688 -1.999744 -0.770259  0.685286 -1.051755 -0.134835  3.313556\n",
       "4     2.574727 -2.065486 -0.350019  0.685286 -1.051755 -0.134835  1.844740\n",
       "...        ...       ...       ...       ...       ...       ...       ...\n",
       "1191 -1.075339  0.629936 -1.559170 -1.665478 -1.051755 -0.134835 -0.946011\n",
       "1192  0.369569  0.827162 -1.611312 -1.665478 -1.051755 -0.134835 -1.239774\n",
       "1193 -0.643378  0.761420 -1.678312 -1.665478 -1.051755 -0.134835 -1.239774\n",
       "1194 -1.183329  0.695678 -1.681690 -1.665478 -1.051755 -0.134835 -1.239774\n",
       "1195 -1.312917  1.090130 -2.252917  0.685286  1.049997 -0.134835  1.668482\n",
       "\n",
       "[1196 rows x 7 columns]"
      ]
     },
     "execution_count": 22,
     "metadata": {},
     "output_type": "execute_result"
    }
   ],
   "source": [
    "df3=pd.DataFrame(std_sca.fit_transform(df2))\n",
    "df3\n"
   ]
  },
  {
   "cell_type": "code",
   "execution_count": 23,
   "id": "8f4e86a0",
   "metadata": {},
   "outputs": [],
   "source": [
    "## renaming the columns"
   ]
  },
  {
   "cell_type": "code",
   "execution_count": 24,
   "id": "c0962e90",
   "metadata": {},
   "outputs": [
    {
     "data": {
      "text/plain": [
       "Index(['Price', 'Age_08_04', 'KM', 'cc', 'Doors', 'Gears', 'Weight'], dtype='object')"
      ]
     },
     "execution_count": 24,
     "metadata": {},
     "output_type": "execute_result"
    }
   ],
   "source": [
    "df2.columns"
   ]
  },
  {
   "cell_type": "code",
   "execution_count": 25,
   "id": "f2f47f67",
   "metadata": {},
   "outputs": [],
   "source": [
    "df3.rename(columns={0:'Price', 1:'Age_08_04',2: 'KM',  3:'cc',4: 'Doors',5: 'Gears',6: 'Weight'},inplace=True)"
   ]
  },
  {
   "cell_type": "code",
   "execution_count": 26,
   "id": "c498de02",
   "metadata": {},
   "outputs": [
    {
     "data": {
      "text/html": [
       "<div>\n",
       "<style scoped>\n",
       "    .dataframe tbody tr th:only-of-type {\n",
       "        vertical-align: middle;\n",
       "    }\n",
       "\n",
       "    .dataframe tbody tr th {\n",
       "        vertical-align: top;\n",
       "    }\n",
       "\n",
       "    .dataframe thead th {\n",
       "        text-align: right;\n",
       "    }\n",
       "</style>\n",
       "<table border=\"1\" class=\"dataframe\">\n",
       "  <thead>\n",
       "    <tr style=\"text-align: right;\">\n",
       "      <th></th>\n",
       "      <th>Price</th>\n",
       "      <th>Age_08_04</th>\n",
       "      <th>KM</th>\n",
       "      <th>cc</th>\n",
       "      <th>Doors</th>\n",
       "      <th>Gears</th>\n",
       "      <th>Weight</th>\n",
       "    </tr>\n",
       "  </thead>\n",
       "  <tbody>\n",
       "    <tr>\n",
       "      <th>count</th>\n",
       "      <td>1.196000e+03</td>\n",
       "      <td>1.196000e+03</td>\n",
       "      <td>1.196000e+03</td>\n",
       "      <td>1.196000e+03</td>\n",
       "      <td>1.196000e+03</td>\n",
       "      <td>1.196000e+03</td>\n",
       "      <td>1.196000e+03</td>\n",
       "    </tr>\n",
       "    <tr>\n",
       "      <th>mean</th>\n",
       "      <td>-1.425838e-16</td>\n",
       "      <td>-4.752794e-17</td>\n",
       "      <td>1.307018e-16</td>\n",
       "      <td>3.326956e-16</td>\n",
       "      <td>4.455745e-16</td>\n",
       "      <td>-1.924882e-15</td>\n",
       "      <td>-8.911489e-16</td>\n",
       "    </tr>\n",
       "    <tr>\n",
       "      <th>std</th>\n",
       "      <td>1.000418e+00</td>\n",
       "      <td>1.000418e+00</td>\n",
       "      <td>1.000418e+00</td>\n",
       "      <td>1.000418e+00</td>\n",
       "      <td>1.000418e+00</td>\n",
       "      <td>1.000418e+00</td>\n",
       "      <td>1.000418e+00</td>\n",
       "    </tr>\n",
       "    <tr>\n",
       "      <th>min</th>\n",
       "      <td>-2.436015e+00</td>\n",
       "      <td>-3.051617e+00</td>\n",
       "      <td>-2.252917e+00</td>\n",
       "      <td>-1.665478e+00</td>\n",
       "      <td>-2.102631e+00</td>\n",
       "      <td>-1.053887e+01</td>\n",
       "      <td>-1.680419e+00</td>\n",
       "    </tr>\n",
       "    <tr>\n",
       "      <th>25%</th>\n",
       "      <td>-6.703760e-01</td>\n",
       "      <td>-6.191622e-01</td>\n",
       "      <td>-7.200588e-01</td>\n",
       "      <td>-8.818901e-01</td>\n",
       "      <td>-1.051755e+00</td>\n",
       "      <td>-1.348349e-01</td>\n",
       "      <td>-6.522478e-01</td>\n",
       "    </tr>\n",
       "    <tr>\n",
       "      <th>50%</th>\n",
       "      <td>-1.034278e-01</td>\n",
       "      <td>1.697419e-01</td>\n",
       "      <td>-1.186407e-01</td>\n",
       "      <td>6.852856e-01</td>\n",
       "      <td>-8.786590e-04</td>\n",
       "      <td>-1.348349e-01</td>\n",
       "      <td>-6.472126e-02</td>\n",
       "    </tr>\n",
       "    <tr>\n",
       "      <th>75%</th>\n",
       "      <td>4.349030e-01</td>\n",
       "      <td>7.614200e-01</td>\n",
       "      <td>5.684024e-01</td>\n",
       "      <td>6.852856e-01</td>\n",
       "      <td>1.049997e+00</td>\n",
       "      <td>-1.348349e-01</td>\n",
       "      <td>5.228053e-01</td>\n",
       "    </tr>\n",
       "    <tr>\n",
       "      <th>max</th>\n",
       "      <td>3.006688e+00</td>\n",
       "      <td>1.353098e+00</td>\n",
       "      <td>4.741384e+00</td>\n",
       "      <td>2.252461e+00</td>\n",
       "      <td>1.049997e+00</td>\n",
       "      <td>5.067181e+00</td>\n",
       "      <td>1.638602e+01</td>\n",
       "    </tr>\n",
       "  </tbody>\n",
       "</table>\n",
       "</div>"
      ],
      "text/plain": [
       "              Price     Age_08_04            KM            cc         Doors  \\\n",
       "count  1.196000e+03  1.196000e+03  1.196000e+03  1.196000e+03  1.196000e+03   \n",
       "mean  -1.425838e-16 -4.752794e-17  1.307018e-16  3.326956e-16  4.455745e-16   \n",
       "std    1.000418e+00  1.000418e+00  1.000418e+00  1.000418e+00  1.000418e+00   \n",
       "min   -2.436015e+00 -3.051617e+00 -2.252917e+00 -1.665478e+00 -2.102631e+00   \n",
       "25%   -6.703760e-01 -6.191622e-01 -7.200588e-01 -8.818901e-01 -1.051755e+00   \n",
       "50%   -1.034278e-01  1.697419e-01 -1.186407e-01  6.852856e-01 -8.786590e-04   \n",
       "75%    4.349030e-01  7.614200e-01  5.684024e-01  6.852856e-01  1.049997e+00   \n",
       "max    3.006688e+00  1.353098e+00  4.741384e+00  2.252461e+00  1.049997e+00   \n",
       "\n",
       "              Gears        Weight  \n",
       "count  1.196000e+03  1.196000e+03  \n",
       "mean  -1.924882e-15 -8.911489e-16  \n",
       "std    1.000418e+00  1.000418e+00  \n",
       "min   -1.053887e+01 -1.680419e+00  \n",
       "25%   -1.348349e-01 -6.522478e-01  \n",
       "50%   -1.348349e-01 -6.472126e-02  \n",
       "75%   -1.348349e-01  5.228053e-01  \n",
       "max    5.067181e+00  1.638602e+01  "
      ]
     },
     "execution_count": 26,
     "metadata": {},
     "output_type": "execute_result"
    }
   ],
   "source": [
    "df3.describe()\n"
   ]
  },
  {
   "cell_type": "code",
   "execution_count": 27,
   "id": "6a22185f",
   "metadata": {},
   "outputs": [
    {
     "name": "stdout",
     "output_type": "stream",
     "text": [
      "<class 'pandas.core.frame.DataFrame'>\n",
      "RangeIndex: 1196 entries, 0 to 1195\n",
      "Data columns (total 7 columns):\n",
      " #   Column     Non-Null Count  Dtype  \n",
      "---  ------     --------------  -----  \n",
      " 0   Price      1196 non-null   float64\n",
      " 1   Age_08_04  1196 non-null   float64\n",
      " 2   KM         1196 non-null   float64\n",
      " 3   cc         1196 non-null   float64\n",
      " 4   Doors      1196 non-null   float64\n",
      " 5   Gears      1196 non-null   float64\n",
      " 6   Weight     1196 non-null   float64\n",
      "dtypes: float64(7)\n",
      "memory usage: 65.5 KB\n"
     ]
    }
   ],
   "source": [
    "df3.info()"
   ]
  },
  {
   "cell_type": "code",
   "execution_count": 28,
   "id": "f21c650e",
   "metadata": {},
   "outputs": [],
   "source": [
    "import seaborn as sns "
   ]
  },
  {
   "cell_type": "code",
   "execution_count": 29,
   "id": "d660f56f",
   "metadata": {},
   "outputs": [],
   "source": [
    "import warnings\n",
    "warnings.filterwarnings('ignore')\n"
   ]
  },
  {
   "cell_type": "code",
   "execution_count": 30,
   "id": "19dd2d48",
   "metadata": {},
   "outputs": [
    {
     "data": {
      "image/png": "[encoded data removed]",
      "text/plain": [
       "<Figure size 1750x1750 with 56 Axes>"
      ]
     },
     "metadata": {},
     "output_type": "display_data"
    }
   ],
   "source": [
    "sns.pairplot(df3)\n",
    "plt.show()"
   ]
  },
  {
   "cell_type": "markdown",
   "id": "0105c6c0",
   "metadata": {},
   "source": [
    "## 2.Spliting the dataset into training and testing sets (e.g., 80% training, 20% testing)."
   ]
  },
  {
   "cell_type": "code",
   "execution_count": 31,
   "id": "a72dad1c",
   "metadata": {},
   "outputs": [],
   "source": [
    "## spliting of dataset into training and testing\n",
    "from sklearn.model_selection import train_test_split"
   ]
  },
  {
   "cell_type": "code",
   "execution_count": 32,
   "id": "202c8e79",
   "metadata": {},
   "outputs": [
    {
     "data": {
      "text/html": [
       "<div>\n",
       "<style scoped>\n",
       "    .dataframe tbody tr th:only-of-type {\n",
       "        vertical-align: middle;\n",
       "    }\n",
       "\n",
       "    .dataframe tbody tr th {\n",
       "        vertical-align: top;\n",
       "    }\n",
       "\n",
       "    .dataframe thead th {\n",
       "        text-align: right;\n",
       "    }\n",
       "</style>\n",
       "<table border=\"1\" class=\"dataframe\">\n",
       "  <thead>\n",
       "    <tr style=\"text-align: right;\">\n",
       "      <th></th>\n",
       "      <th>Age_08_04</th>\n",
       "      <th>KM</th>\n",
       "      <th>cc</th>\n",
       "      <th>Doors</th>\n",
       "      <th>Gears</th>\n",
       "      <th>Weight</th>\n",
       "    </tr>\n",
       "  </thead>\n",
       "  <tbody>\n",
       "    <tr>\n",
       "      <th>0</th>\n",
       "      <td>-2.328455</td>\n",
       "      <td>-1.389676</td>\n",
       "      <td>0.685286</td>\n",
       "      <td>-1.051755</td>\n",
       "      <td>-0.134835</td>\n",
       "      <td>0.229042</td>\n",
       "    </tr>\n",
       "    <tr>\n",
       "      <th>1</th>\n",
       "      <td>-1.934002</td>\n",
       "      <td>-0.079518</td>\n",
       "      <td>0.685286</td>\n",
       "      <td>-1.051755</td>\n",
       "      <td>-0.134835</td>\n",
       "      <td>1.404095</td>\n",
       "    </tr>\n",
       "    <tr>\n",
       "      <th>2</th>\n",
       "      <td>-1.934002</td>\n",
       "      <td>0.031959</td>\n",
       "      <td>0.685286</td>\n",
       "      <td>-1.051755</td>\n",
       "      <td>-0.134835</td>\n",
       "      <td>1.404095</td>\n",
       "    </tr>\n",
       "    <tr>\n",
       "      <th>3</th>\n",
       "      <td>-1.999744</td>\n",
       "      <td>-0.770259</td>\n",
       "      <td>0.685286</td>\n",
       "      <td>-1.051755</td>\n",
       "      <td>-0.134835</td>\n",
       "      <td>3.313556</td>\n",
       "    </tr>\n",
       "    <tr>\n",
       "      <th>4</th>\n",
       "      <td>-2.065486</td>\n",
       "      <td>-0.350019</td>\n",
       "      <td>0.685286</td>\n",
       "      <td>-1.051755</td>\n",
       "      <td>-0.134835</td>\n",
       "      <td>1.844740</td>\n",
       "    </tr>\n",
       "    <tr>\n",
       "      <th>...</th>\n",
       "      <td>...</td>\n",
       "      <td>...</td>\n",
       "      <td>...</td>\n",
       "      <td>...</td>\n",
       "      <td>...</td>\n",
       "      <td>...</td>\n",
       "    </tr>\n",
       "    <tr>\n",
       "      <th>1191</th>\n",
       "      <td>0.629936</td>\n",
       "      <td>-1.559170</td>\n",
       "      <td>-1.665478</td>\n",
       "      <td>-1.051755</td>\n",
       "      <td>-0.134835</td>\n",
       "      <td>-0.946011</td>\n",
       "    </tr>\n",
       "    <tr>\n",
       "      <th>1192</th>\n",
       "      <td>0.827162</td>\n",
       "      <td>-1.611312</td>\n",
       "      <td>-1.665478</td>\n",
       "      <td>-1.051755</td>\n",
       "      <td>-0.134835</td>\n",
       "      <td>-1.239774</td>\n",
       "    </tr>\n",
       "    <tr>\n",
       "      <th>1193</th>\n",
       "      <td>0.761420</td>\n",
       "      <td>-1.678312</td>\n",
       "      <td>-1.665478</td>\n",
       "      <td>-1.051755</td>\n",
       "      <td>-0.134835</td>\n",
       "      <td>-1.239774</td>\n",
       "    </tr>\n",
       "    <tr>\n",
       "      <th>1194</th>\n",
       "      <td>0.695678</td>\n",
       "      <td>-1.681690</td>\n",
       "      <td>-1.665478</td>\n",
       "      <td>-1.051755</td>\n",
       "      <td>-0.134835</td>\n",
       "      <td>-1.239774</td>\n",
       "    </tr>\n",
       "    <tr>\n",
       "      <th>1195</th>\n",
       "      <td>1.090130</td>\n",
       "      <td>-2.252917</td>\n",
       "      <td>0.685286</td>\n",
       "      <td>1.049997</td>\n",
       "      <td>-0.134835</td>\n",
       "      <td>1.668482</td>\n",
       "    </tr>\n",
       "  </tbody>\n",
       "</table>\n",
       "<p>1196 rows × 6 columns</p>\n",
       "</div>"
      ],
      "text/plain": [
       "      Age_08_04        KM        cc     Doors     Gears    Weight\n",
       "0     -2.328455 -1.389676  0.685286 -1.051755 -0.134835  0.229042\n",
       "1     -1.934002 -0.079518  0.685286 -1.051755 -0.134835  1.404095\n",
       "2     -1.934002  0.031959  0.685286 -1.051755 -0.134835  1.404095\n",
       "3     -1.999744 -0.770259  0.685286 -1.051755 -0.134835  3.313556\n",
       "4     -2.065486 -0.350019  0.685286 -1.051755 -0.134835  1.844740\n",
       "...         ...       ...       ...       ...       ...       ...\n",
       "1191   0.629936 -1.559170 -1.665478 -1.051755 -0.134835 -0.946011\n",
       "1192   0.827162 -1.611312 -1.665478 -1.051755 -0.134835 -1.239774\n",
       "1193   0.761420 -1.678312 -1.665478 -1.051755 -0.134835 -1.239774\n",
       "1194   0.695678 -1.681690 -1.665478 -1.051755 -0.134835 -1.239774\n",
       "1195   1.090130 -2.252917  0.685286  1.049997 -0.134835  1.668482\n",
       "\n",
       "[1196 rows x 6 columns]"
      ]
     },
     "execution_count": 32,
     "metadata": {},
     "output_type": "execute_result"
    }
   ],
   "source": [
    "features=df3.drop('Price',axis=1)\n",
    "features\n"
   ]
  },
  {
   "cell_type": "code",
   "execution_count": 33,
   "id": "53a729dd",
   "metadata": {},
   "outputs": [
    {
     "data": {
      "text/html": [
       "<div>\n",
       "<style scoped>\n",
       "    .dataframe tbody tr th:only-of-type {\n",
       "        vertical-align: middle;\n",
       "    }\n",
       "\n",
       "    .dataframe tbody tr th {\n",
       "        vertical-align: top;\n",
       "    }\n",
       "\n",
       "    .dataframe thead th {\n",
       "        text-align: right;\n",
       "    }\n",
       "</style>\n",
       "<table border=\"1\" class=\"dataframe\">\n",
       "  <thead>\n",
       "    <tr style=\"text-align: right;\">\n",
       "      <th></th>\n",
       "      <th>Price</th>\n",
       "    </tr>\n",
       "  </thead>\n",
       "  <tbody>\n",
       "    <tr>\n",
       "      <th>0</th>\n",
       "      <td>2.920296</td>\n",
       "    </tr>\n",
       "    <tr>\n",
       "      <th>1</th>\n",
       "      <td>3.006688</td>\n",
       "    </tr>\n",
       "    <tr>\n",
       "      <th>2</th>\n",
       "      <td>2.574727</td>\n",
       "    </tr>\n",
       "    <tr>\n",
       "      <th>3</th>\n",
       "      <td>3.006688</td>\n",
       "    </tr>\n",
       "    <tr>\n",
       "      <th>4</th>\n",
       "      <td>2.574727</td>\n",
       "    </tr>\n",
       "    <tr>\n",
       "      <th>...</th>\n",
       "      <td>...</td>\n",
       "    </tr>\n",
       "    <tr>\n",
       "      <th>1191</th>\n",
       "      <td>-1.075339</td>\n",
       "    </tr>\n",
       "    <tr>\n",
       "      <th>1192</th>\n",
       "      <td>0.369569</td>\n",
       "    </tr>\n",
       "    <tr>\n",
       "      <th>1193</th>\n",
       "      <td>-0.643378</td>\n",
       "    </tr>\n",
       "    <tr>\n",
       "      <th>1194</th>\n",
       "      <td>-1.183329</td>\n",
       "    </tr>\n",
       "    <tr>\n",
       "      <th>1195</th>\n",
       "      <td>-1.312917</td>\n",
       "    </tr>\n",
       "  </tbody>\n",
       "</table>\n",
       "<p>1196 rows × 1 columns</p>\n",
       "</div>"
      ],
      "text/plain": [
       "         Price\n",
       "0     2.920296\n",
       "1     3.006688\n",
       "2     2.574727\n",
       "3     3.006688\n",
       "4     2.574727\n",
       "...        ...\n",
       "1191 -1.075339\n",
       "1192  0.369569\n",
       "1193 -0.643378\n",
       "1194 -1.183329\n",
       "1195 -1.312917\n",
       "\n",
       "[1196 rows x 1 columns]"
      ]
     },
     "execution_count": 33,
     "metadata": {},
     "output_type": "execute_result"
    }
   ],
   "source": [
    "target=df3[['Price']]\n",
    "target"
   ]
  },
  {
   "cell_type": "code",
   "execution_count": 34,
   "id": "1ac4937b",
   "metadata": {},
   "outputs": [],
   "source": [
    "x_train,x_test,y_train,y_test=train_test_split(features,target,train_size=.80,random_state=100)"
   ]
  },
  {
   "cell_type": "code",
   "execution_count": 35,
   "id": "a6fcc44b",
   "metadata": {},
   "outputs": [
    {
     "name": "stdout",
     "output_type": "stream",
     "text": [
      "(956, 6)\n",
      "(240, 6)\n",
      "(956, 1)\n",
      "(240, 1)\n"
     ]
    }
   ],
   "source": [
    "print(x_train.shape)\n",
    "print(x_test.shape)\n",
    "print(y_train.shape)\n",
    "print(y_test.shape)\n",
    "\n"
   ]
  },
  {
   "cell_type": "markdown",
   "id": "7e07b835",
   "metadata": {},
   "source": [
    "# 3.Build a multiple linear regression model using the training dataset. Interpret the coefficients of the model."
   ]
  },
  {
   "cell_type": "code",
   "execution_count": 36,
   "id": "7dcf0da2",
   "metadata": {},
   "outputs": [],
   "source": [
    "## Train the model\n",
    "from sklearn.linear_model import LinearRegression"
   ]
  },
  {
   "cell_type": "code",
   "execution_count": 37,
   "id": "1ef8f753",
   "metadata": {},
   "outputs": [],
   "source": [
    "lin_reg=LinearRegression()"
   ]
  },
  {
   "cell_type": "code",
   "execution_count": 38,
   "id": "c57317f1",
   "metadata": {},
   "outputs": [
    {
     "data": {
      "text/html": [
       "<style>#sk-container-id-1 {color: black;}#sk-container-id-1 pre{padding: 0;}#sk-container-id-1 div.sk-toggleable {background-color: white;}#sk-container-id-1 label.sk-toggleable__label {cursor: pointer;display: block;width: 100%;margin-bottom: 0;padding: 0.3em;box-sizing: border-box;text-align: center;}#sk-container-id-1 label.sk-toggleable__label-arrow:before {content: \"▸\";float: left;margin-right: 0.25em;color: #696969;}#sk-container-id-1 label.sk-toggleable__label-arrow:hover:before {color: black;}#sk-container-id-1 div.sk-estimator:hover label.sk-toggleable__label-arrow:before {color: black;}#sk-container-id-1 div.sk-toggleable__content {max-height: 0;max-width: 0;overflow: hidden;text-align: left;background-color: #f0f8ff;}#sk-container-id-1 div.sk-toggleable__content pre {margin: 0.2em;color: black;border-radius: 0.25em;background-color: #f0f8ff;}#sk-container-id-1 input.sk-toggleable__control:checked~div.sk-toggleable__content {max-height: 200px;max-width: 100%;overflow: auto;}#sk-container-id-1 input.sk-toggleable__control:checked~label.sk-toggleable__label-arrow:before {content: \"▾\";}#sk-container-id-1 div.sk-estimator input.sk-toggleable__control:checked~label.sk-toggleable__label {background-color: #d4ebff;}#sk-container-id-1 div.sk-label input.sk-toggleable__control:checked~label.sk-toggleable__label {background-color: #d4ebff;}#sk-container-id-1 input.sk-hidden--visually {border: 0;clip: rect(1px 1px 1px 1px);clip: rect(1px, 1px, 1px, 1px);height: 1px;margin: -1px;overflow: hidden;padding: 0;position: absolute;width: 1px;}#sk-container-id-1 div.sk-estimator {font-family: monospace;background-color: #f0f8ff;border: 1px dotted black;border-radius: 0.25em;box-sizing: border-box;margin-bottom: 0.5em;}#sk-container-id-1 div.sk-estimator:hover {background-color: #d4ebff;}#sk-container-id-1 div.sk-parallel-item::after {content: \"\";width: 100%;border-bottom: 1px solid gray;flex-grow: 1;}#sk-container-id-1 div.sk-label:hover label.sk-toggleable__label {background-color: #d4ebff;}#sk-container-id-1 div.sk-serial::before {content: \"\";position: absolute;border-left: 1px solid gray;box-sizing: border-box;top: 0;bottom: 0;left: 50%;z-index: 0;}#sk-container-id-1 div.sk-serial {display: flex;flex-direction: column;align-items: center;background-color: white;padding-right: 0.2em;padding-left: 0.2em;position: relative;}#sk-container-id-1 div.sk-item {position: relative;z-index: 1;}#sk-container-id-1 div.sk-parallel {display: flex;align-items: stretch;justify-content: center;background-color: white;position: relative;}#sk-container-id-1 div.sk-item::before, #sk-container-id-1 div.sk-parallel-item::before {content: \"\";position: absolute;border-left: 1px solid gray;box-sizing: border-box;top: 0;bottom: 0;left: 50%;z-index: -1;}#sk-container-id-1 div.sk-parallel-item {display: flex;flex-direction: column;z-index: 1;position: relative;background-color: white;}#sk-container-id-1 div.sk-parallel-item:first-child::after {align-self: flex-end;width: 50%;}#sk-container-id-1 div.sk-parallel-item:last-child::after {align-self: flex-start;width: 50%;}#sk-container-id-1 div.sk-parallel-item:only-child::after {width: 0;}#sk-container-id-1 div.sk-dashed-wrapped {border: 1px dashed gray;margin: 0 0.4em 0.5em 0.4em;box-sizing: border-box;padding-bottom: 0.4em;background-color: white;}#sk-container-id-1 div.sk-label label {font-family: monospace;font-weight: bold;display: inline-block;line-height: 1.2em;}#sk-container-id-1 div.sk-label-container {text-align: center;}#sk-container-id-1 div.sk-container {/* jupyter's `normalize.less` sets `[hidden] { display: none; }` but bootstrap.min.css set `[hidden] { display: none !important; }` so we also need the `!important` here to be able to override the default hidden behavior on the sphinx rendered scikit-learn.org. See: https://github.com/scikit-learn/scikit-learn/issues/21755 */display: inline-block !important;position: relative;}#sk-container-id-1 div.sk-text-repr-fallback {display: none;}</style><div id=\"sk-container-id-1\" class=\"sk-top-container\"><div class=\"sk-text-repr-fallback\"><pre>LinearRegression()</pre><b>In a Jupyter environment, please rerun this cell to show the HTML representation or trust the notebook. <br />On GitHub, the HTML representation is unable to render, please try loading this page with nbviewer.org.</b></div><div class=\"sk-container\" hidden><div class=\"sk-item\"><div class=\"sk-estimator sk-toggleable\"><input class=\"sk-toggleable__control sk-hidden--visually\" id=\"sk-estimator-id-1\" type=\"checkbox\" checked><label for=\"sk-estimator-id-1\" class=\"sk-toggleable__label sk-toggleable__label-arrow\">LinearRegression</label><div class=\"sk-toggleable__content\"><pre>LinearRegression()</pre></div></div></div></div></div>"
      ],
      "text/plain": [
       "LinearRegression()"
      ]
     },
     "execution_count": 38,
     "metadata": {},
     "output_type": "execute_result"
    }
   ],
   "source": [
    "lin_reg.fit(x_train,y_train)"
   ]
  },
  {
   "cell_type": "code",
   "execution_count": 39,
   "id": "81b734f5",
   "metadata": {},
   "outputs": [],
   "source": [
    "## traninig validation\n",
    "y_pred=lin_reg.predict(x_train)"
   ]
  },
  {
   "cell_type": "code",
   "execution_count": 40,
   "id": "7de921a5",
   "metadata": {},
   "outputs": [],
   "source": [
    "## testing validation\n",
    "y_pred1=lin_reg.predict(x_test)\n"
   ]
  },
  {
   "cell_type": "code",
   "execution_count": 89,
   "id": "30e6f1dd",
   "metadata": {},
   "outputs": [
    {
     "data": {
      "text/plain": [
       "array([[-0.7359779 , -0.1964355 ,  0.01308889,  0.02860497,  0.05405488,\n",
       "         0.15320416]])"
      ]
     },
     "execution_count": 89,
     "metadata": {},
     "output_type": "execute_result"
    }
   ],
   "source": [
    "lin_reg.coef_"
   ]
  },
  {
   "cell_type": "raw",
   "id": "6db0d6d7",
   "metadata": {},
   "source": [
    "## interpretation of above coefficient:\n",
    "## Above coefficientS are coffients b1,b2,b3,b4,b5,b6 in the equation y_pred= bo+b1x1+b2x2+b3x3+b4x4+b5x5+b6x6 respectively."
   ]
  },
  {
   "cell_type": "code",
   "execution_count": 90,
   "id": "3cc35dee",
   "metadata": {},
   "outputs": [
    {
     "data": {
      "text/plain": [
       "array([0.0039471])"
      ]
     },
     "execution_count": 90,
     "metadata": {},
     "output_type": "execute_result"
    }
   ],
   "source": [
    "lin_reg.intercept_"
   ]
  },
  {
   "cell_type": "code",
   "execution_count": 41,
   "id": "f631f896",
   "metadata": {},
   "outputs": [],
   "source": [
    "##Evaluation of perfomance of the model\n",
    "from sklearn.metrics import r2_score"
   ]
  },
  {
   "cell_type": "code",
   "execution_count": 42,
   "id": "869ad26d",
   "metadata": {},
   "outputs": [
    {
     "data": {
      "text/plain": [
       "0.7926846101255997"
      ]
     },
     "execution_count": 42,
     "metadata": {},
     "output_type": "execute_result"
    }
   ],
   "source": [
    "r2_score(y_train,y_pred)"
   ]
  },
  {
   "cell_type": "markdown",
   "id": "81c05512",
   "metadata": {},
   "source": [
    "# 4.Evaluation of the performance of the model"
   ]
  },
  {
   "cell_type": "code",
   "execution_count": 43,
   "id": "bed28497",
   "metadata": {},
   "outputs": [
    {
     "data": {
      "text/plain": [
       "0.7817855149587097"
      ]
     },
     "execution_count": 43,
     "metadata": {},
     "output_type": "execute_result"
    }
   ],
   "source": [
    "r2_score(y_test,y_pred1)"
   ]
  },
  {
   "cell_type": "markdown",
   "id": "885aee2a",
   "metadata": {},
   "source": [
    "## 5.Applying Lasso and Ridge methods on the model."
   ]
  },
  {
   "cell_type": "raw",
   "id": "4010be28",
   "metadata": {},
   "source": [
    "## since lasso is mainly used for removing irrelevent column and i already removed irrelevent column so Lasso is not useful here ,we should use Ridge instead of lasso."
   ]
  },
  {
   "cell_type": "code",
   "execution_count": 45,
   "id": "2e65afed",
   "metadata": {},
   "outputs": [],
   "source": [
    "## Applying lasso and ridge method on the model\n",
    "## 1. lasso method\n",
    "from sklearn.linear_model import Lasso,Ridge"
   ]
  },
  {
   "cell_type": "code",
   "execution_count": 46,
   "id": "e74f81fe",
   "metadata": {},
   "outputs": [],
   "source": [
    "lasso=Lasso(alpha=1)\n"
   ]
  },
  {
   "cell_type": "code",
   "execution_count": 47,
   "id": "c4cfd803",
   "metadata": {},
   "outputs": [
    {
     "data": {
      "text/html": [
       "<style>#sk-container-id-2 {color: black;}#sk-container-id-2 pre{padding: 0;}#sk-container-id-2 div.sk-toggleable {background-color: white;}#sk-container-id-2 label.sk-toggleable__label {cursor: pointer;display: block;width: 100%;margin-bottom: 0;padding: 0.3em;box-sizing: border-box;text-align: center;}#sk-container-id-2 label.sk-toggleable__label-arrow:before {content: \"▸\";float: left;margin-right: 0.25em;color: #696969;}#sk-container-id-2 label.sk-toggleable__label-arrow:hover:before {color: black;}#sk-container-id-2 div.sk-estimator:hover label.sk-toggleable__label-arrow:before {color: black;}#sk-container-id-2 div.sk-toggleable__content {max-height: 0;max-width: 0;overflow: hidden;text-align: left;background-color: #f0f8ff;}#sk-container-id-2 div.sk-toggleable__content pre {margin: 0.2em;color: black;border-radius: 0.25em;background-color: #f0f8ff;}#sk-container-id-2 input.sk-toggleable__control:checked~div.sk-toggleable__content {max-height: 200px;max-width: 100%;overflow: auto;}#sk-container-id-2 input.sk-toggleable__control:checked~label.sk-toggleable__label-arrow:before {content: \"▾\";}#sk-container-id-2 div.sk-estimator input.sk-toggleable__control:checked~label.sk-toggleable__label {background-color: #d4ebff;}#sk-container-id-2 div.sk-label input.sk-toggleable__control:checked~label.sk-toggleable__label {background-color: #d4ebff;}#sk-container-id-2 input.sk-hidden--visually {border: 0;clip: rect(1px 1px 1px 1px);clip: rect(1px, 1px, 1px, 1px);height: 1px;margin: -1px;overflow: hidden;padding: 0;position: absolute;width: 1px;}#sk-container-id-2 div.sk-estimator {font-family: monospace;background-color: #f0f8ff;border: 1px dotted black;border-radius: 0.25em;box-sizing: border-box;margin-bottom: 0.5em;}#sk-container-id-2 div.sk-estimator:hover {background-color: #d4ebff;}#sk-container-id-2 div.sk-parallel-item::after {content: \"\";width: 100%;border-bottom: 1px solid gray;flex-grow: 1;}#sk-container-id-2 div.sk-label:hover label.sk-toggleable__label {background-color: #d4ebff;}#sk-container-id-2 div.sk-serial::before {content: \"\";position: absolute;border-left: 1px solid gray;box-sizing: border-box;top: 0;bottom: 0;left: 50%;z-index: 0;}#sk-container-id-2 div.sk-serial {display: flex;flex-direction: column;align-items: center;background-color: white;padding-right: 0.2em;padding-left: 0.2em;position: relative;}#sk-container-id-2 div.sk-item {position: relative;z-index: 1;}#sk-container-id-2 div.sk-parallel {display: flex;align-items: stretch;justify-content: center;background-color: white;position: relative;}#sk-container-id-2 div.sk-item::before, #sk-container-id-2 div.sk-parallel-item::before {content: \"\";position: absolute;border-left: 1px solid gray;box-sizing: border-box;top: 0;bottom: 0;left: 50%;z-index: -1;}#sk-container-id-2 div.sk-parallel-item {display: flex;flex-direction: column;z-index: 1;position: relative;background-color: white;}#sk-container-id-2 div.sk-parallel-item:first-child::after {align-self: flex-end;width: 50%;}#sk-container-id-2 div.sk-parallel-item:last-child::after {align-self: flex-start;width: 50%;}#sk-container-id-2 div.sk-parallel-item:only-child::after {width: 0;}#sk-container-id-2 div.sk-dashed-wrapped {border: 1px dashed gray;margin: 0 0.4em 0.5em 0.4em;box-sizing: border-box;padding-bottom: 0.4em;background-color: white;}#sk-container-id-2 div.sk-label label {font-family: monospace;font-weight: bold;display: inline-block;line-height: 1.2em;}#sk-container-id-2 div.sk-label-container {text-align: center;}#sk-container-id-2 div.sk-container {/* jupyter's `normalize.less` sets `[hidden] { display: none; }` but bootstrap.min.css set `[hidden] { display: none !important; }` so we also need the `!important` here to be able to override the default hidden behavior on the sphinx rendered scikit-learn.org. See: https://github.com/scikit-learn/scikit-learn/issues/21755 */display: inline-block !important;position: relative;}#sk-container-id-2 div.sk-text-repr-fallback {display: none;}</style><div id=\"sk-container-id-2\" class=\"sk-top-container\"><div class=\"sk-text-repr-fallback\"><pre>Lasso(alpha=1)</pre><b>In a Jupyter environment, please rerun this cell to show the HTML representation or trust the notebook. <br />On GitHub, the HTML representation is unable to render, please try loading this page with nbviewer.org.</b></div><div class=\"sk-container\" hidden><div class=\"sk-item\"><div class=\"sk-estimator sk-toggleable\"><input class=\"sk-toggleable__control sk-hidden--visually\" id=\"sk-estimator-id-2\" type=\"checkbox\" checked><label for=\"sk-estimator-id-2\" class=\"sk-toggleable__label sk-toggleable__label-arrow\">Lasso</label><div class=\"sk-toggleable__content\"><pre>Lasso(alpha=1)</pre></div></div></div></div></div>"
      ],
      "text/plain": [
       "Lasso(alpha=1)"
      ]
     },
     "execution_count": 47,
     "metadata": {},
     "output_type": "execute_result"
    }
   ],
   "source": [
    "lasso.fit(x_train,y_train)"
   ]
  },
  {
   "cell_type": "code",
   "execution_count": 48,
   "id": "81a2eaa4",
   "metadata": {},
   "outputs": [
    {
     "data": {
      "text/plain": [
       "array([-0., -0.,  0.,  0.,  0.,  0.])"
      ]
     },
     "execution_count": 48,
     "metadata": {},
     "output_type": "execute_result"
    }
   ],
   "source": [
    "lasso.coef_"
   ]
  },
  {
   "cell_type": "code",
   "execution_count": 49,
   "id": "d94abd2a",
   "metadata": {},
   "outputs": [
    {
     "data": {
      "text/plain": [
       "array([-0.01482485])"
      ]
     },
     "execution_count": 49,
     "metadata": {},
     "output_type": "execute_result"
    }
   ],
   "source": [
    "lasso.intercept_"
   ]
  },
  {
   "cell_type": "code",
   "execution_count": 50,
   "id": "8cc3fc2d",
   "metadata": {},
   "outputs": [],
   "source": [
    "y_predict=lasso.predict(x_train)"
   ]
  },
  {
   "cell_type": "code",
   "execution_count": 51,
   "id": "0d310ece",
   "metadata": {},
   "outputs": [],
   "source": [
    "y_predict1=lasso.predict(x_test)"
   ]
  },
  {
   "cell_type": "code",
   "execution_count": 52,
   "id": "77f09470",
   "metadata": {},
   "outputs": [
    {
     "data": {
      "text/plain": [
       "0.0"
      ]
     },
     "execution_count": 52,
     "metadata": {},
     "output_type": "execute_result"
    }
   ],
   "source": [
    "r2_score(y_train,y_predict)"
   ]
  },
  {
   "cell_type": "raw",
   "id": "a276e6c2",
   "metadata": {},
   "source": [
    "## Above accuracy is aboslutly absurd so Lasso is not useful Here"
   ]
  },
  {
   "cell_type": "code",
   "execution_count": 53,
   "id": "1403b44d",
   "metadata": {},
   "outputs": [],
   "source": [
    "## finding proper value of alpha using Gridsearch\n",
    "a=range(1,100)"
   ]
  },
  {
   "cell_type": "code",
   "execution_count": 54,
   "id": "c54998a4",
   "metadata": {},
   "outputs": [],
   "source": [
    "params=dict(alpha=a)\n"
   ]
  },
  {
   "cell_type": "code",
   "execution_count": 55,
   "id": "ca4dea91",
   "metadata": {},
   "outputs": [],
   "source": [
    "from sklearn.model_selection import GridSearchCV"
   ]
  },
  {
   "cell_type": "code",
   "execution_count": 56,
   "id": "d789eea4",
   "metadata": {},
   "outputs": [],
   "source": [
    "grid_sea=GridSearchCV(lasso,params)"
   ]
  },
  {
   "cell_type": "code",
   "execution_count": 57,
   "id": "d8be5b00",
   "metadata": {},
   "outputs": [
    {
     "data": {
      "text/html": [
       "<style>#sk-container-id-3 {color: black;}#sk-container-id-3 pre{padding: 0;}#sk-container-id-3 div.sk-toggleable {background-color: white;}#sk-container-id-3 label.sk-toggleable__label {cursor: pointer;display: block;width: 100%;margin-bottom: 0;padding: 0.3em;box-sizing: border-box;text-align: center;}#sk-container-id-3 label.sk-toggleable__label-arrow:before {content: \"▸\";float: left;margin-right: 0.25em;color: #696969;}#sk-container-id-3 label.sk-toggleable__label-arrow:hover:before {color: black;}#sk-container-id-3 div.sk-estimator:hover label.sk-toggleable__label-arrow:before {color: black;}#sk-container-id-3 div.sk-toggleable__content {max-height: 0;max-width: 0;overflow: hidden;text-align: left;background-color: #f0f8ff;}#sk-container-id-3 div.sk-toggleable__content pre {margin: 0.2em;color: black;border-radius: 0.25em;background-color: #f0f8ff;}#sk-container-id-3 input.sk-toggleable__control:checked~div.sk-toggleable__content {max-height: 200px;max-width: 100%;overflow: auto;}#sk-container-id-3 input.sk-toggleable__control:checked~label.sk-toggleable__label-arrow:before {content: \"▾\";}#sk-container-id-3 div.sk-estimator input.sk-toggleable__control:checked~label.sk-toggleable__label {background-color: #d4ebff;}#sk-container-id-3 div.sk-label input.sk-toggleable__control:checked~label.sk-toggleable__label {background-color: #d4ebff;}#sk-container-id-3 input.sk-hidden--visually {border: 0;clip: rect(1px 1px 1px 1px);clip: rect(1px, 1px, 1px, 1px);height: 1px;margin: -1px;overflow: hidden;padding: 0;position: absolute;width: 1px;}#sk-container-id-3 div.sk-estimator {font-family: monospace;background-color: #f0f8ff;border: 1px dotted black;border-radius: 0.25em;box-sizing: border-box;margin-bottom: 0.5em;}#sk-container-id-3 div.sk-estimator:hover {background-color: #d4ebff;}#sk-container-id-3 div.sk-parallel-item::after {content: \"\";width: 100%;border-bottom: 1px solid gray;flex-grow: 1;}#sk-container-id-3 div.sk-label:hover label.sk-toggleable__label {background-color: #d4ebff;}#sk-container-id-3 div.sk-serial::before {content: \"\";position: absolute;border-left: 1px solid gray;box-sizing: border-box;top: 0;bottom: 0;left: 50%;z-index: 0;}#sk-container-id-3 div.sk-serial {display: flex;flex-direction: column;align-items: center;background-color: white;padding-right: 0.2em;padding-left: 0.2em;position: relative;}#sk-container-id-3 div.sk-item {position: relative;z-index: 1;}#sk-container-id-3 div.sk-parallel {display: flex;align-items: stretch;justify-content: center;background-color: white;position: relative;}#sk-container-id-3 div.sk-item::before, #sk-container-id-3 div.sk-parallel-item::before {content: \"\";position: absolute;border-left: 1px solid gray;box-sizing: border-box;top: 0;bottom: 0;left: 50%;z-index: -1;}#sk-container-id-3 div.sk-parallel-item {display: flex;flex-direction: column;z-index: 1;position: relative;background-color: white;}#sk-container-id-3 div.sk-parallel-item:first-child::after {align-self: flex-end;width: 50%;}#sk-container-id-3 div.sk-parallel-item:last-child::after {align-self: flex-start;width: 50%;}#sk-container-id-3 div.sk-parallel-item:only-child::after {width: 0;}#sk-container-id-3 div.sk-dashed-wrapped {border: 1px dashed gray;margin: 0 0.4em 0.5em 0.4em;box-sizing: border-box;padding-bottom: 0.4em;background-color: white;}#sk-container-id-3 div.sk-label label {font-family: monospace;font-weight: bold;display: inline-block;line-height: 1.2em;}#sk-container-id-3 div.sk-label-container {text-align: center;}#sk-container-id-3 div.sk-container {/* jupyter's `normalize.less` sets `[hidden] { display: none; }` but bootstrap.min.css set `[hidden] { display: none !important; }` so we also need the `!important` here to be able to override the default hidden behavior on the sphinx rendered scikit-learn.org. See: https://github.com/scikit-learn/scikit-learn/issues/21755 */display: inline-block !important;position: relative;}#sk-container-id-3 div.sk-text-repr-fallback {display: none;}</style><div id=\"sk-container-id-3\" class=\"sk-top-container\"><div class=\"sk-text-repr-fallback\"><pre>GridSearchCV(estimator=Lasso(alpha=1), param_grid={&#x27;alpha&#x27;: range(1, 100)})</pre><b>In a Jupyter environment, please rerun this cell to show the HTML representation or trust the notebook. <br />On GitHub, the HTML representation is unable to render, please try loading this page with nbviewer.org.</b></div><div class=\"sk-container\" hidden><div class=\"sk-item sk-dashed-wrapped\"><div class=\"sk-label-container\"><div class=\"sk-label sk-toggleable\"><input class=\"sk-toggleable__control sk-hidden--visually\" id=\"sk-estimator-id-3\" type=\"checkbox\" ><label for=\"sk-estimator-id-3\" class=\"sk-toggleable__label sk-toggleable__label-arrow\">GridSearchCV</label><div class=\"sk-toggleable__content\"><pre>GridSearchCV(estimator=Lasso(alpha=1), param_grid={&#x27;alpha&#x27;: range(1, 100)})</pre></div></div></div><div class=\"sk-parallel\"><div class=\"sk-parallel-item\"><div class=\"sk-item\"><div class=\"sk-label-container\"><div class=\"sk-label sk-toggleable\"><input class=\"sk-toggleable__control sk-hidden--visually\" id=\"sk-estimator-id-4\" type=\"checkbox\" ><label for=\"sk-estimator-id-4\" class=\"sk-toggleable__label sk-toggleable__label-arrow\">estimator: Lasso</label><div class=\"sk-toggleable__content\"><pre>Lasso(alpha=1)</pre></div></div></div><div class=\"sk-serial\"><div class=\"sk-item\"><div class=\"sk-estimator sk-toggleable\"><input class=\"sk-toggleable__control sk-hidden--visually\" id=\"sk-estimator-id-5\" type=\"checkbox\" ><label for=\"sk-estimator-id-5\" class=\"sk-toggleable__label sk-toggleable__label-arrow\">Lasso</label><div class=\"sk-toggleable__content\"><pre>Lasso(alpha=1)</pre></div></div></div></div></div></div></div></div></div></div>"
      ],
      "text/plain": [
       "GridSearchCV(estimator=Lasso(alpha=1), param_grid={'alpha': range(1, 100)})"
      ]
     },
     "execution_count": 57,
     "metadata": {},
     "output_type": "execute_result"
    }
   ],
   "source": [
    "grid_sea.fit(x_train,y_train)"
   ]
  },
  {
   "cell_type": "code",
   "execution_count": 58,
   "id": "353dba46",
   "metadata": {},
   "outputs": [
    {
     "data": {
      "text/plain": [
       "{'alpha': 1}"
      ]
     },
     "execution_count": 58,
     "metadata": {},
     "output_type": "execute_result"
    }
   ],
   "source": [
    "grid_sea.best_params_"
   ]
  },
  {
   "cell_type": "code",
   "execution_count": 59,
   "id": "8ca1350b",
   "metadata": {},
   "outputs": [],
   "source": [
    "## Aplying Ridge metghod\n",
    "ridge=Ridge(alpha=1)"
   ]
  },
  {
   "cell_type": "code",
   "execution_count": 60,
   "id": "c60b7bcd",
   "metadata": {},
   "outputs": [
    {
     "data": {
      "text/html": [
       "<style>#sk-container-id-4 {color: black;}#sk-container-id-4 pre{padding: 0;}#sk-container-id-4 div.sk-toggleable {background-color: white;}#sk-container-id-4 label.sk-toggleable__label {cursor: pointer;display: block;width: 100%;margin-bottom: 0;padding: 0.3em;box-sizing: border-box;text-align: center;}#sk-container-id-4 label.sk-toggleable__label-arrow:before {content: \"▸\";float: left;margin-right: 0.25em;color: #696969;}#sk-container-id-4 label.sk-toggleable__label-arrow:hover:before {color: black;}#sk-container-id-4 div.sk-estimator:hover label.sk-toggleable__label-arrow:before {color: black;}#sk-container-id-4 div.sk-toggleable__content {max-height: 0;max-width: 0;overflow: hidden;text-align: left;background-color: #f0f8ff;}#sk-container-id-4 div.sk-toggleable__content pre {margin: 0.2em;color: black;border-radius: 0.25em;background-color: #f0f8ff;}#sk-container-id-4 input.sk-toggleable__control:checked~div.sk-toggleable__content {max-height: 200px;max-width: 100%;overflow: auto;}#sk-container-id-4 input.sk-toggleable__control:checked~label.sk-toggleable__label-arrow:before {content: \"▾\";}#sk-container-id-4 div.sk-estimator input.sk-toggleable__control:checked~label.sk-toggleable__label {background-color: #d4ebff;}#sk-container-id-4 div.sk-label input.sk-toggleable__control:checked~label.sk-toggleable__label {background-color: #d4ebff;}#sk-container-id-4 input.sk-hidden--visually {border: 0;clip: rect(1px 1px 1px 1px);clip: rect(1px, 1px, 1px, 1px);height: 1px;margin: -1px;overflow: hidden;padding: 0;position: absolute;width: 1px;}#sk-container-id-4 div.sk-estimator {font-family: monospace;background-color: #f0f8ff;border: 1px dotted black;border-radius: 0.25em;box-sizing: border-box;margin-bottom: 0.5em;}#sk-container-id-4 div.sk-estimator:hover {background-color: #d4ebff;}#sk-container-id-4 div.sk-parallel-item::after {content: \"\";width: 100%;border-bottom: 1px solid gray;flex-grow: 1;}#sk-container-id-4 div.sk-label:hover label.sk-toggleable__label {background-color: #d4ebff;}#sk-container-id-4 div.sk-serial::before {content: \"\";position: absolute;border-left: 1px solid gray;box-sizing: border-box;top: 0;bottom: 0;left: 50%;z-index: 0;}#sk-container-id-4 div.sk-serial {display: flex;flex-direction: column;align-items: center;background-color: white;padding-right: 0.2em;padding-left: 0.2em;position: relative;}#sk-container-id-4 div.sk-item {position: relative;z-index: 1;}#sk-container-id-4 div.sk-parallel {display: flex;align-items: stretch;justify-content: center;background-color: white;position: relative;}#sk-container-id-4 div.sk-item::before, #sk-container-id-4 div.sk-parallel-item::before {content: \"\";position: absolute;border-left: 1px solid gray;box-sizing: border-box;top: 0;bottom: 0;left: 50%;z-index: -1;}#sk-container-id-4 div.sk-parallel-item {display: flex;flex-direction: column;z-index: 1;position: relative;background-color: white;}#sk-container-id-4 div.sk-parallel-item:first-child::after {align-self: flex-end;width: 50%;}#sk-container-id-4 div.sk-parallel-item:last-child::after {align-self: flex-start;width: 50%;}#sk-container-id-4 div.sk-parallel-item:only-child::after {width: 0;}#sk-container-id-4 div.sk-dashed-wrapped {border: 1px dashed gray;margin: 0 0.4em 0.5em 0.4em;box-sizing: border-box;padding-bottom: 0.4em;background-color: white;}#sk-container-id-4 div.sk-label label {font-family: monospace;font-weight: bold;display: inline-block;line-height: 1.2em;}#sk-container-id-4 div.sk-label-container {text-align: center;}#sk-container-id-4 div.sk-container {/* jupyter's `normalize.less` sets `[hidden] { display: none; }` but bootstrap.min.css set `[hidden] { display: none !important; }` so we also need the `!important` here to be able to override the default hidden behavior on the sphinx rendered scikit-learn.org. See: https://github.com/scikit-learn/scikit-learn/issues/21755 */display: inline-block !important;position: relative;}#sk-container-id-4 div.sk-text-repr-fallback {display: none;}</style><div id=\"sk-container-id-4\" class=\"sk-top-container\"><div class=\"sk-text-repr-fallback\"><pre>Ridge(alpha=1)</pre><b>In a Jupyter environment, please rerun this cell to show the HTML representation or trust the notebook. <br />On GitHub, the HTML representation is unable to render, please try loading this page with nbviewer.org.</b></div><div class=\"sk-container\" hidden><div class=\"sk-item\"><div class=\"sk-estimator sk-toggleable\"><input class=\"sk-toggleable__control sk-hidden--visually\" id=\"sk-estimator-id-6\" type=\"checkbox\" checked><label for=\"sk-estimator-id-6\" class=\"sk-toggleable__label sk-toggleable__label-arrow\">Ridge</label><div class=\"sk-toggleable__content\"><pre>Ridge(alpha=1)</pre></div></div></div></div></div>"
      ],
      "text/plain": [
       "Ridge(alpha=1)"
      ]
     },
     "execution_count": 60,
     "metadata": {},
     "output_type": "execute_result"
    }
   ],
   "source": [
    "ridge.fit(x_train,y_train)"
   ]
  },
  {
   "cell_type": "code",
   "execution_count": 61,
   "id": "af3d7773",
   "metadata": {},
   "outputs": [
    {
     "data": {
      "text/plain": [
       "array([[-0.73507367, -0.19663606,  0.01308441,  0.02862381,  0.05400962,\n",
       "         0.15329094]])"
      ]
     },
     "execution_count": 61,
     "metadata": {},
     "output_type": "execute_result"
    }
   ],
   "source": [
    "ridge.coef_"
   ]
  },
  {
   "cell_type": "code",
   "execution_count": 62,
   "id": "f5181d77",
   "metadata": {},
   "outputs": [
    {
     "data": {
      "text/plain": [
       "array([0.00393523])"
      ]
     },
     "execution_count": 62,
     "metadata": {},
     "output_type": "execute_result"
    }
   ],
   "source": [
    "ridge.intercept_"
   ]
  },
  {
   "cell_type": "code",
   "execution_count": 63,
   "id": "fa58d942",
   "metadata": {},
   "outputs": [],
   "source": [
    "y_pred=ridge.predict(x_train)"
   ]
  },
  {
   "cell_type": "code",
   "execution_count": 65,
   "id": "67d30b9f",
   "metadata": {},
   "outputs": [
    {
     "data": {
      "text/plain": [
       "0.7926839810626457"
      ]
     },
     "execution_count": 65,
     "metadata": {},
     "output_type": "execute_result"
    }
   ],
   "source": [
    "r2_score(y_train,y_pred)"
   ]
  },
  {
   "cell_type": "code",
   "execution_count": 80,
   "id": "1f36bdbd",
   "metadata": {},
   "outputs": [],
   "source": [
    "y_pred1=ridge.predict(x_test)"
   ]
  },
  {
   "cell_type": "code",
   "execution_count": 67,
   "id": "6cef9e16",
   "metadata": {},
   "outputs": [
    {
     "data": {
      "text/plain": [
       "0.7819504527233385"
      ]
     },
     "execution_count": 67,
     "metadata": {},
     "output_type": "execute_result"
    }
   ],
   "source": [
    "r2_score(y_test,y_pred1)"
   ]
  },
  {
   "cell_type": "code",
   "execution_count": 74,
   "id": "cf4227fb",
   "metadata": {},
   "outputs": [],
   "source": [
    "## finding  proper value of alpha using gridsearch\n",
    "a=range(1,100)\n",
    "\n",
    "params=dict(alpha=a)\n",
    "grid_search=GridSearchCV(ridge,params)\n"
   ]
  },
  {
   "cell_type": "code",
   "execution_count": 75,
   "id": "972c6809",
   "metadata": {},
   "outputs": [
    {
     "data": {
      "text/html": [
       "<style>#sk-container-id-7 {color: black;}#sk-container-id-7 pre{padding: 0;}#sk-container-id-7 div.sk-toggleable {background-color: white;}#sk-container-id-7 label.sk-toggleable__label {cursor: pointer;display: block;width: 100%;margin-bottom: 0;padding: 0.3em;box-sizing: border-box;text-align: center;}#sk-container-id-7 label.sk-toggleable__label-arrow:before {content: \"▸\";float: left;margin-right: 0.25em;color: #696969;}#sk-container-id-7 label.sk-toggleable__label-arrow:hover:before {color: black;}#sk-container-id-7 div.sk-estimator:hover label.sk-toggleable__label-arrow:before {color: black;}#sk-container-id-7 div.sk-toggleable__content {max-height: 0;max-width: 0;overflow: hidden;text-align: left;background-color: #f0f8ff;}#sk-container-id-7 div.sk-toggleable__content pre {margin: 0.2em;color: black;border-radius: 0.25em;background-color: #f0f8ff;}#sk-container-id-7 input.sk-toggleable__control:checked~div.sk-toggleable__content {max-height: 200px;max-width: 100%;overflow: auto;}#sk-container-id-7 input.sk-toggleable__control:checked~label.sk-toggleable__label-arrow:before {content: \"▾\";}#sk-container-id-7 div.sk-estimator input.sk-toggleable__control:checked~label.sk-toggleable__label {background-color: #d4ebff;}#sk-container-id-7 div.sk-label input.sk-toggleable__control:checked~label.sk-toggleable__label {background-color: #d4ebff;}#sk-container-id-7 input.sk-hidden--visually {border: 0;clip: rect(1px 1px 1px 1px);clip: rect(1px, 1px, 1px, 1px);height: 1px;margin: -1px;overflow: hidden;padding: 0;position: absolute;width: 1px;}#sk-container-id-7 div.sk-estimator {font-family: monospace;background-color: #f0f8ff;border: 1px dotted black;border-radius: 0.25em;box-sizing: border-box;margin-bottom: 0.5em;}#sk-container-id-7 div.sk-estimator:hover {background-color: #d4ebff;}#sk-container-id-7 div.sk-parallel-item::after {content: \"\";width: 100%;border-bottom: 1px solid gray;flex-grow: 1;}#sk-container-id-7 div.sk-label:hover label.sk-toggleable__label {background-color: #d4ebff;}#sk-container-id-7 div.sk-serial::before {content: \"\";position: absolute;border-left: 1px solid gray;box-sizing: border-box;top: 0;bottom: 0;left: 50%;z-index: 0;}#sk-container-id-7 div.sk-serial {display: flex;flex-direction: column;align-items: center;background-color: white;padding-right: 0.2em;padding-left: 0.2em;position: relative;}#sk-container-id-7 div.sk-item {position: relative;z-index: 1;}#sk-container-id-7 div.sk-parallel {display: flex;align-items: stretch;justify-content: center;background-color: white;position: relative;}#sk-container-id-7 div.sk-item::before, #sk-container-id-7 div.sk-parallel-item::before {content: \"\";position: absolute;border-left: 1px solid gray;box-sizing: border-box;top: 0;bottom: 0;left: 50%;z-index: -1;}#sk-container-id-7 div.sk-parallel-item {display: flex;flex-direction: column;z-index: 1;position: relative;background-color: white;}#sk-container-id-7 div.sk-parallel-item:first-child::after {align-self: flex-end;width: 50%;}#sk-container-id-7 div.sk-parallel-item:last-child::after {align-self: flex-start;width: 50%;}#sk-container-id-7 div.sk-parallel-item:only-child::after {width: 0;}#sk-container-id-7 div.sk-dashed-wrapped {border: 1px dashed gray;margin: 0 0.4em 0.5em 0.4em;box-sizing: border-box;padding-bottom: 0.4em;background-color: white;}#sk-container-id-7 div.sk-label label {font-family: monospace;font-weight: bold;display: inline-block;line-height: 1.2em;}#sk-container-id-7 div.sk-label-container {text-align: center;}#sk-container-id-7 div.sk-container {/* jupyter's `normalize.less` sets `[hidden] { display: none; }` but bootstrap.min.css set `[hidden] { display: none !important; }` so we also need the `!important` here to be able to override the default hidden behavior on the sphinx rendered scikit-learn.org. See: https://github.com/scikit-learn/scikit-learn/issues/21755 */display: inline-block !important;position: relative;}#sk-container-id-7 div.sk-text-repr-fallback {display: none;}</style><div id=\"sk-container-id-7\" class=\"sk-top-container\"><div class=\"sk-text-repr-fallback\"><pre>GridSearchCV(estimator=Ridge(alpha=1), param_grid={&#x27;alpha&#x27;: range(1, 100)})</pre><b>In a Jupyter environment, please rerun this cell to show the HTML representation or trust the notebook. <br />On GitHub, the HTML representation is unable to render, please try loading this page with nbviewer.org.</b></div><div class=\"sk-container\" hidden><div class=\"sk-item sk-dashed-wrapped\"><div class=\"sk-label-container\"><div class=\"sk-label sk-toggleable\"><input class=\"sk-toggleable__control sk-hidden--visually\" id=\"sk-estimator-id-13\" type=\"checkbox\" ><label for=\"sk-estimator-id-13\" class=\"sk-toggleable__label sk-toggleable__label-arrow\">GridSearchCV</label><div class=\"sk-toggleable__content\"><pre>GridSearchCV(estimator=Ridge(alpha=1), param_grid={&#x27;alpha&#x27;: range(1, 100)})</pre></div></div></div><div class=\"sk-parallel\"><div class=\"sk-parallel-item\"><div class=\"sk-item\"><div class=\"sk-label-container\"><div class=\"sk-label sk-toggleable\"><input class=\"sk-toggleable__control sk-hidden--visually\" id=\"sk-estimator-id-14\" type=\"checkbox\" ><label for=\"sk-estimator-id-14\" class=\"sk-toggleable__label sk-toggleable__label-arrow\">estimator: Ridge</label><div class=\"sk-toggleable__content\"><pre>Ridge(alpha=1)</pre></div></div></div><div class=\"sk-serial\"><div class=\"sk-item\"><div class=\"sk-estimator sk-toggleable\"><input class=\"sk-toggleable__control sk-hidden--visually\" id=\"sk-estimator-id-15\" type=\"checkbox\" ><label for=\"sk-estimator-id-15\" class=\"sk-toggleable__label sk-toggleable__label-arrow\">Ridge</label><div class=\"sk-toggleable__content\"><pre>Ridge(alpha=1)</pre></div></div></div></div></div></div></div></div></div></div>"
      ],
      "text/plain": [
       "GridSearchCV(estimator=Ridge(alpha=1), param_grid={'alpha': range(1, 100)})"
      ]
     },
     "execution_count": 75,
     "metadata": {},
     "output_type": "execute_result"
    }
   ],
   "source": [
    "grid_search.fit(x_train,y_train)"
   ]
  },
  {
   "cell_type": "code",
   "execution_count": 76,
   "id": "d1f684ed",
   "metadata": {},
   "outputs": [
    {
     "data": {
      "text/plain": [
       "{'alpha': 51}"
      ]
     },
     "execution_count": 76,
     "metadata": {},
     "output_type": "execute_result"
    }
   ],
   "source": [
    "grid_search.best_params_"
   ]
  },
  {
   "cell_type": "code",
   "execution_count": 77,
   "id": "2a24b461",
   "metadata": {},
   "outputs": [],
   "source": [
    "## so in above equation we will use alpha =51 to get more accurate prediction\n",
    "ridge1=Ridge(alpha=51)"
   ]
  },
  {
   "cell_type": "code",
   "execution_count": 78,
   "id": "d731d58a",
   "metadata": {},
   "outputs": [
    {
     "data": {
      "text/html": [
       "<style>#sk-container-id-8 {color: black;}#sk-container-id-8 pre{padding: 0;}#sk-container-id-8 div.sk-toggleable {background-color: white;}#sk-container-id-8 label.sk-toggleable__label {cursor: pointer;display: block;width: 100%;margin-bottom: 0;padding: 0.3em;box-sizing: border-box;text-align: center;}#sk-container-id-8 label.sk-toggleable__label-arrow:before {content: \"▸\";float: left;margin-right: 0.25em;color: #696969;}#sk-container-id-8 label.sk-toggleable__label-arrow:hover:before {color: black;}#sk-container-id-8 div.sk-estimator:hover label.sk-toggleable__label-arrow:before {color: black;}#sk-container-id-8 div.sk-toggleable__content {max-height: 0;max-width: 0;overflow: hidden;text-align: left;background-color: #f0f8ff;}#sk-container-id-8 div.sk-toggleable__content pre {margin: 0.2em;color: black;border-radius: 0.25em;background-color: #f0f8ff;}#sk-container-id-8 input.sk-toggleable__control:checked~div.sk-toggleable__content {max-height: 200px;max-width: 100%;overflow: auto;}#sk-container-id-8 input.sk-toggleable__control:checked~label.sk-toggleable__label-arrow:before {content: \"▾\";}#sk-container-id-8 div.sk-estimator input.sk-toggleable__control:checked~label.sk-toggleable__label {background-color: #d4ebff;}#sk-container-id-8 div.sk-label input.sk-toggleable__control:checked~label.sk-toggleable__label {background-color: #d4ebff;}#sk-container-id-8 input.sk-hidden--visually {border: 0;clip: rect(1px 1px 1px 1px);clip: rect(1px, 1px, 1px, 1px);height: 1px;margin: -1px;overflow: hidden;padding: 0;position: absolute;width: 1px;}#sk-container-id-8 div.sk-estimator {font-family: monospace;background-color: #f0f8ff;border: 1px dotted black;border-radius: 0.25em;box-sizing: border-box;margin-bottom: 0.5em;}#sk-container-id-8 div.sk-estimator:hover {background-color: #d4ebff;}#sk-container-id-8 div.sk-parallel-item::after {content: \"\";width: 100%;border-bottom: 1px solid gray;flex-grow: 1;}#sk-container-id-8 div.sk-label:hover label.sk-toggleable__label {background-color: #d4ebff;}#sk-container-id-8 div.sk-serial::before {content: \"\";position: absolute;border-left: 1px solid gray;box-sizing: border-box;top: 0;bottom: 0;left: 50%;z-index: 0;}#sk-container-id-8 div.sk-serial {display: flex;flex-direction: column;align-items: center;background-color: white;padding-right: 0.2em;padding-left: 0.2em;position: relative;}#sk-container-id-8 div.sk-item {position: relative;z-index: 1;}#sk-container-id-8 div.sk-parallel {display: flex;align-items: stretch;justify-content: center;background-color: white;position: relative;}#sk-container-id-8 div.sk-item::before, #sk-container-id-8 div.sk-parallel-item::before {content: \"\";position: absolute;border-left: 1px solid gray;box-sizing: border-box;top: 0;bottom: 0;left: 50%;z-index: -1;}#sk-container-id-8 div.sk-parallel-item {display: flex;flex-direction: column;z-index: 1;position: relative;background-color: white;}#sk-container-id-8 div.sk-parallel-item:first-child::after {align-self: flex-end;width: 50%;}#sk-container-id-8 div.sk-parallel-item:last-child::after {align-self: flex-start;width: 50%;}#sk-container-id-8 div.sk-parallel-item:only-child::after {width: 0;}#sk-container-id-8 div.sk-dashed-wrapped {border: 1px dashed gray;margin: 0 0.4em 0.5em 0.4em;box-sizing: border-box;padding-bottom: 0.4em;background-color: white;}#sk-container-id-8 div.sk-label label {font-family: monospace;font-weight: bold;display: inline-block;line-height: 1.2em;}#sk-container-id-8 div.sk-label-container {text-align: center;}#sk-container-id-8 div.sk-container {/* jupyter's `normalize.less` sets `[hidden] { display: none; }` but bootstrap.min.css set `[hidden] { display: none !important; }` so we also need the `!important` here to be able to override the default hidden behavior on the sphinx rendered scikit-learn.org. See: https://github.com/scikit-learn/scikit-learn/issues/21755 */display: inline-block !important;position: relative;}#sk-container-id-8 div.sk-text-repr-fallback {display: none;}</style><div id=\"sk-container-id-8\" class=\"sk-top-container\"><div class=\"sk-text-repr-fallback\"><pre>Ridge(alpha=51)</pre><b>In a Jupyter environment, please rerun this cell to show the HTML representation or trust the notebook. <br />On GitHub, the HTML representation is unable to render, please try loading this page with nbviewer.org.</b></div><div class=\"sk-container\" hidden><div class=\"sk-item\"><div class=\"sk-estimator sk-toggleable\"><input class=\"sk-toggleable__control sk-hidden--visually\" id=\"sk-estimator-id-16\" type=\"checkbox\" checked><label for=\"sk-estimator-id-16\" class=\"sk-toggleable__label sk-toggleable__label-arrow\">Ridge</label><div class=\"sk-toggleable__content\"><pre>Ridge(alpha=51)</pre></div></div></div></div></div>"
      ],
      "text/plain": [
       "Ridge(alpha=51)"
      ]
     },
     "execution_count": 78,
     "metadata": {},
     "output_type": "execute_result"
    }
   ],
   "source": [
    "ridge1.fit(x_train,y_train)"
   ]
  },
  {
   "cell_type": "code",
   "execution_count": 81,
   "id": "eb9b6f17",
   "metadata": {},
   "outputs": [],
   "source": [
    "y_pred=ridge1.predict(x_train)"
   ]
  },
  {
   "cell_type": "code",
   "execution_count": 82,
   "id": "8410fd2e",
   "metadata": {},
   "outputs": [],
   "source": [
    "y_pred1=ridge1.predict(x_test)"
   ]
  },
  {
   "cell_type": "code",
   "execution_count": 83,
   "id": "001d9db3",
   "metadata": {},
   "outputs": [
    {
     "data": {
      "text/plain": [
       "0.7912512021691793"
      ]
     },
     "execution_count": 83,
     "metadata": {},
     "output_type": "execute_result"
    }
   ],
   "source": [
    "r2_score(y_train,y_pred)"
   ]
  },
  {
   "cell_type": "code",
   "execution_count": 84,
   "id": "5fc17de4",
   "metadata": {},
   "outputs": [
    {
     "data": {
      "text/plain": [
       "0.7880027053412703"
      ]
     },
     "execution_count": 84,
     "metadata": {},
     "output_type": "execute_result"
    }
   ],
   "source": [
    "r2_score(y_test,y_pred1)"
   ]
  },
  {
   "cell_type": "raw",
   "id": "0d447e1e",
   "metadata": {},
   "source": [
    "                                  ##     THE END   ##"
   ]
  }
 ],
 "metadata": {
  "kernelspec": {
   "display_name": "Python 3 (ipykernel)",
   "language": "python",
   "name": "python3"
  },
  "language_info": {
   "codemirror_mode": {
    "name": "ipython",
    "version": 3
   },
   "file_extension": ".py",
   "mimetype": "text/x-python",
   "name": "python",
   "nbconvert_exporter": "python",
   "pygments_lexer": "ipython3",
   "version": "3.11.5"
  }
 },
 "nbformat": 4,
 "nbformat_minor": 5
}

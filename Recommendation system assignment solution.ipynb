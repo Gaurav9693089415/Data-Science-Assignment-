{
 "cells": [
  {
   "cell_type": "raw",
   "id": "06404ca8",
   "metadata": {},
   "source": [
    "Tasks:\n",
    "\n",
    "Data Preprocessing:\n",
    "\n",
    "Load the dataset into a suitable data structure (e.g., pandas DataFrame).\n",
    "Handle missing values, if any.\n",
    "Explore the dataset to understand its structure and attributes."
   ]
  },
  {
   "cell_type": "markdown",
   "id": "cc0d7c1c",
   "metadata": {},
   "source": [
    "## Data Preprocessing"
   ]
  },
  {
   "cell_type": "code",
   "execution_count": 2,
   "id": "f6041b98",
   "metadata": {},
   "outputs": [],
   "source": [
    "import pandas as pd\n",
    "import numpy as np"
   ]
  },
  {
   "cell_type": "code",
   "execution_count": 3,
   "id": "503a3a5d",
   "metadata": {},
   "outputs": [],
   "source": [
    "df=pd.read_csv('anime.csv')"
   ]
  },
  {
   "cell_type": "code",
   "execution_count": 4,
   "id": "8158842a",
   "metadata": {},
   "outputs": [
    {
     "data": {
      "text/html": [
       "<div>\n",
       "<style scoped>\n",
       "    .dataframe tbody tr th:only-of-type {\n",
       "        vertical-align: middle;\n",
       "    }\n",
       "\n",
       "    .dataframe tbody tr th {\n",
       "        vertical-align: top;\n",
       "    }\n",
       "\n",
       "    .dataframe thead th {\n",
       "        text-align: right;\n",
       "    }\n",
       "</style>\n",
       "<table border=\"1\" class=\"dataframe\">\n",
       "  <thead>\n",
       "    <tr style=\"text-align: right;\">\n",
       "      <th></th>\n",
       "      <th>anime_id</th>\n",
       "      <th>name</th>\n",
       "      <th>genre</th>\n",
       "      <th>type</th>\n",
       "      <th>episodes</th>\n",
       "      <th>rating</th>\n",
       "      <th>members</th>\n",
       "    </tr>\n",
       "  </thead>\n",
       "  <tbody>\n",
       "    <tr>\n",
       "      <th>0</th>\n",
       "      <td>32281</td>\n",
       "      <td>Kimi no Na wa.</td>\n",
       "      <td>Drama, Romance, School, Supernatural</td>\n",
       "      <td>Movie</td>\n",
       "      <td>1</td>\n",
       "      <td>9.37</td>\n",
       "      <td>200630</td>\n",
       "    </tr>\n",
       "    <tr>\n",
       "      <th>1</th>\n",
       "      <td>5114</td>\n",
       "      <td>Fullmetal Alchemist: Brotherhood</td>\n",
       "      <td>Action, Adventure, Drama, Fantasy, Magic, Mili...</td>\n",
       "      <td>TV</td>\n",
       "      <td>64</td>\n",
       "      <td>9.26</td>\n",
       "      <td>793665</td>\n",
       "    </tr>\n",
       "    <tr>\n",
       "      <th>2</th>\n",
       "      <td>28977</td>\n",
       "      <td>Gintama°</td>\n",
       "      <td>Action, Comedy, Historical, Parody, Samurai, S...</td>\n",
       "      <td>TV</td>\n",
       "      <td>51</td>\n",
       "      <td>9.25</td>\n",
       "      <td>114262</td>\n",
       "    </tr>\n",
       "    <tr>\n",
       "      <th>3</th>\n",
       "      <td>9253</td>\n",
       "      <td>Steins;Gate</td>\n",
       "      <td>Sci-Fi, Thriller</td>\n",
       "      <td>TV</td>\n",
       "      <td>24</td>\n",
       "      <td>9.17</td>\n",
       "      <td>673572</td>\n",
       "    </tr>\n",
       "    <tr>\n",
       "      <th>4</th>\n",
       "      <td>9969</td>\n",
       "      <td>Gintama&amp;#039;</td>\n",
       "      <td>Action, Comedy, Historical, Parody, Samurai, S...</td>\n",
       "      <td>TV</td>\n",
       "      <td>51</td>\n",
       "      <td>9.16</td>\n",
       "      <td>151266</td>\n",
       "    </tr>\n",
       "  </tbody>\n",
       "</table>\n",
       "</div>"
      ],
      "text/plain": [
       "   anime_id                              name  \\\n",
       "0     32281                    Kimi no Na wa.   \n",
       "1      5114  Fullmetal Alchemist: Brotherhood   \n",
       "2     28977                          Gintama°   \n",
       "3      9253                       Steins;Gate   \n",
       "4      9969                     Gintama&#039;   \n",
       "\n",
       "                                               genre   type episodes  rating  \\\n",
       "0               Drama, Romance, School, Supernatural  Movie        1    9.37   \n",
       "1  Action, Adventure, Drama, Fantasy, Magic, Mili...     TV       64    9.26   \n",
       "2  Action, Comedy, Historical, Parody, Samurai, S...     TV       51    9.25   \n",
       "3                                   Sci-Fi, Thriller     TV       24    9.17   \n",
       "4  Action, Comedy, Historical, Parody, Samurai, S...     TV       51    9.16   \n",
       "\n",
       "   members  \n",
       "0   200630  \n",
       "1   793665  \n",
       "2   114262  \n",
       "3   673572  \n",
       "4   151266  "
      ]
     },
     "execution_count": 4,
     "metadata": {},
     "output_type": "execute_result"
    }
   ],
   "source": [
    "df.head()"
   ]
  },
  {
   "cell_type": "code",
   "execution_count": 142,
   "id": "1c20e22e",
   "metadata": {},
   "outputs": [
    {
     "data": {
      "text/plain": [
       "86058"
      ]
     },
     "execution_count": 142,
     "metadata": {},
     "output_type": "execute_result"
    }
   ],
   "source": [
    "df.size"
   ]
  },
  {
   "cell_type": "code",
   "execution_count": 144,
   "id": "eec8bb22-e202-4818-bf0d-18adce67a08d",
   "metadata": {},
   "outputs": [
    {
     "data": {
      "text/plain": [
       "(12294, 7)"
      ]
     },
     "execution_count": 144,
     "metadata": {},
     "output_type": "execute_result"
    }
   ],
   "source": [
    "df.shape"
   ]
  },
  {
   "cell_type": "code",
   "execution_count": 6,
   "id": "2b804497-bcf5-44ca-9766-0b95b7de299e",
   "metadata": {},
   "outputs": [
    {
     "data": {
      "text/plain": [
       "array(['Drama, Romance, School, Supernatural',\n",
       "       'Action, Adventure, Drama, Fantasy, Magic, Military, Shounen',\n",
       "       'Action, Comedy, Historical, Parody, Samurai, Sci-Fi, Shounen',\n",
       "       ..., 'Hentai, Sports', 'Drama, Romance, School, Yuri',\n",
       "       'Hentai, Slice of Life'], dtype=object)"
      ]
     },
     "execution_count": 6,
     "metadata": {},
     "output_type": "execute_result"
    }
   ],
   "source": [
    "df['genre'].unique()"
   ]
  },
  {
   "cell_type": "code",
   "execution_count": 7,
   "id": "4973f37a",
   "metadata": {},
   "outputs": [
    {
     "name": "stdout",
     "output_type": "stream",
     "text": [
      "<class 'pandas.core.frame.DataFrame'>\n",
      "RangeIndex: 12294 entries, 0 to 12293\n",
      "Data columns (total 7 columns):\n",
      " #   Column    Non-Null Count  Dtype  \n",
      "---  ------    --------------  -----  \n",
      " 0   anime_id  12294 non-null  int64  \n",
      " 1   name      12294 non-null  object \n",
      " 2   genre     12232 non-null  object \n",
      " 3   type      12269 non-null  object \n",
      " 4   episodes  12294 non-null  object \n",
      " 5   rating    12064 non-null  float64\n",
      " 6   members   12294 non-null  int64  \n",
      "dtypes: float64(1), int64(2), object(4)\n",
      "memory usage: 672.5+ KB\n"
     ]
    }
   ],
   "source": [
    "df.info()"
   ]
  },
  {
   "cell_type": "code",
   "execution_count": 8,
   "id": "814ae186",
   "metadata": {},
   "outputs": [
    {
     "data": {
      "text/html": [
       "<div>\n",
       "<style scoped>\n",
       "    .dataframe tbody tr th:only-of-type {\n",
       "        vertical-align: middle;\n",
       "    }\n",
       "\n",
       "    .dataframe tbody tr th {\n",
       "        vertical-align: top;\n",
       "    }\n",
       "\n",
       "    .dataframe thead th {\n",
       "        text-align: right;\n",
       "    }\n",
       "</style>\n",
       "<table border=\"1\" class=\"dataframe\">\n",
       "  <thead>\n",
       "    <tr style=\"text-align: right;\">\n",
       "      <th></th>\n",
       "      <th>anime_id</th>\n",
       "      <th>rating</th>\n",
       "      <th>members</th>\n",
       "    </tr>\n",
       "  </thead>\n",
       "  <tbody>\n",
       "    <tr>\n",
       "      <th>count</th>\n",
       "      <td>12294.000000</td>\n",
       "      <td>12064.000000</td>\n",
       "      <td>1.229400e+04</td>\n",
       "    </tr>\n",
       "    <tr>\n",
       "      <th>mean</th>\n",
       "      <td>14058.221653</td>\n",
       "      <td>6.473902</td>\n",
       "      <td>1.807134e+04</td>\n",
       "    </tr>\n",
       "    <tr>\n",
       "      <th>std</th>\n",
       "      <td>11455.294701</td>\n",
       "      <td>1.026746</td>\n",
       "      <td>5.482068e+04</td>\n",
       "    </tr>\n",
       "    <tr>\n",
       "      <th>min</th>\n",
       "      <td>1.000000</td>\n",
       "      <td>1.670000</td>\n",
       "      <td>5.000000e+00</td>\n",
       "    </tr>\n",
       "    <tr>\n",
       "      <th>25%</th>\n",
       "      <td>3484.250000</td>\n",
       "      <td>5.880000</td>\n",
       "      <td>2.250000e+02</td>\n",
       "    </tr>\n",
       "    <tr>\n",
       "      <th>50%</th>\n",
       "      <td>10260.500000</td>\n",
       "      <td>6.570000</td>\n",
       "      <td>1.550000e+03</td>\n",
       "    </tr>\n",
       "    <tr>\n",
       "      <th>75%</th>\n",
       "      <td>24794.500000</td>\n",
       "      <td>7.180000</td>\n",
       "      <td>9.437000e+03</td>\n",
       "    </tr>\n",
       "    <tr>\n",
       "      <th>max</th>\n",
       "      <td>34527.000000</td>\n",
       "      <td>10.000000</td>\n",
       "      <td>1.013917e+06</td>\n",
       "    </tr>\n",
       "  </tbody>\n",
       "</table>\n",
       "</div>"
      ],
      "text/plain": [
       "           anime_id        rating       members\n",
       "count  12294.000000  12064.000000  1.229400e+04\n",
       "mean   14058.221653      6.473902  1.807134e+04\n",
       "std    11455.294701      1.026746  5.482068e+04\n",
       "min        1.000000      1.670000  5.000000e+00\n",
       "25%     3484.250000      5.880000  2.250000e+02\n",
       "50%    10260.500000      6.570000  1.550000e+03\n",
       "75%    24794.500000      7.180000  9.437000e+03\n",
       "max    34527.000000     10.000000  1.013917e+06"
      ]
     },
     "execution_count": 8,
     "metadata": {},
     "output_type": "execute_result"
    }
   ],
   "source": [
    "df.describe()"
   ]
  },
  {
   "cell_type": "code",
   "execution_count": 9,
   "id": "2a5bd688",
   "metadata": {},
   "outputs": [
    {
     "data": {
      "text/plain": [
       "(12294, 7)"
      ]
     },
     "execution_count": 9,
     "metadata": {},
     "output_type": "execute_result"
    }
   ],
   "source": [
    "df.shape"
   ]
  },
  {
   "cell_type": "code",
   "execution_count": 10,
   "id": "bf7539bd",
   "metadata": {},
   "outputs": [
    {
     "data": {
      "text/plain": [
       "anime_id      0\n",
       "name          0\n",
       "genre        62\n",
       "type         25\n",
       "episodes      0\n",
       "rating      230\n",
       "members       0\n",
       "dtype: int64"
      ]
     },
     "execution_count": 10,
     "metadata": {},
     "output_type": "execute_result"
    }
   ],
   "source": [
    "# Handle missing values\n",
    "df.isnull().sum()"
   ]
  },
  {
   "cell_type": "code",
   "execution_count": 11,
   "id": "8d0c45dc",
   "metadata": {},
   "outputs": [],
   "source": [
    "rating_mean=df['rating'].mean()\n"
   ]
  },
  {
   "cell_type": "code",
   "execution_count": 12,
   "id": "a00d02ea",
   "metadata": {},
   "outputs": [],
   "source": [
    "df['rating'].fillna(rating_mean,inplace=True)"
   ]
  },
  {
   "cell_type": "code",
   "execution_count": 13,
   "id": "0b032297",
   "metadata": {},
   "outputs": [],
   "source": [
    "df['type']=df['type'].fillna(method='pad')\n"
   ]
  },
  {
   "cell_type": "code",
   "execution_count": 14,
   "id": "18e14ade",
   "metadata": {},
   "outputs": [],
   "source": [
    "df['genre']=df['genre'].fillna(method='pad')\n"
   ]
  },
  {
   "cell_type": "code",
   "execution_count": 15,
   "id": "952b75bd",
   "metadata": {},
   "outputs": [
    {
     "data": {
      "text/plain": [
       "anime_id    0\n",
       "name        0\n",
       "genre       0\n",
       "type        0\n",
       "episodes    0\n",
       "rating      0\n",
       "members     0\n",
       "dtype: int64"
      ]
     },
     "execution_count": 15,
     "metadata": {},
     "output_type": "execute_result"
    }
   ],
   "source": [
    "df.isnull().sum()"
   ]
  },
  {
   "cell_type": "code",
   "execution_count": 16,
   "id": "0b6899ff",
   "metadata": {},
   "outputs": [
    {
     "data": {
      "text/plain": [
       "rating\n",
       "6.473902    230\n",
       "6.000000    141\n",
       "7.000000     99\n",
       "6.500000     90\n",
       "6.250000     84\n",
       "           ... \n",
       "3.470000      1\n",
       "3.710000      1\n",
       "3.870000      1\n",
       "3.910000      1\n",
       "3.140000      1\n",
       "Name: count, Length: 599, dtype: int64"
      ]
     },
     "execution_count": 16,
     "metadata": {},
     "output_type": "execute_result"
    }
   ],
   "source": [
    "## Exploring the dataset\n",
    "df.rating.value_counts()"
   ]
  },
  {
   "cell_type": "code",
   "execution_count": 17,
   "id": "f579fc48",
   "metadata": {},
   "outputs": [
    {
     "data": {
      "text/plain": [
       "type\n",
       "TV         3801\n",
       "OVA        3315\n",
       "Movie      2353\n",
       "Special    1677\n",
       "ONA         660\n",
       "Music       488\n",
       "Name: count, dtype: int64"
      ]
     },
     "execution_count": 17,
     "metadata": {},
     "output_type": "execute_result"
    }
   ],
   "source": [
    "df.type.value_counts()"
   ]
  },
  {
   "cell_type": "code",
   "execution_count": 18,
   "id": "04ae36a7",
   "metadata": {},
   "outputs": [
    {
     "data": {
      "text/plain": [
       "genre\n",
       "Hentai                                                  823\n",
       "Comedy                                                  525\n",
       "Music                                                   304\n",
       "Kids                                                    204\n",
       "Comedy, Slice of Life                                   183\n",
       "                                                       ... \n",
       "Adventure, Drama, Fantasy, Game, Sci-Fi                   1\n",
       "Adventure, Demons, Fantasy, Historical                    1\n",
       "Action, Comedy, Drama, Mecha, Music, Sci-Fi, Shounen      1\n",
       "Action, Comedy, Fantasy, Mecha, Sci-Fi, Shounen           1\n",
       "Hentai, Slice of Life                                     1\n",
       "Name: count, Length: 3264, dtype: int64"
      ]
     },
     "execution_count": 18,
     "metadata": {},
     "output_type": "execute_result"
    }
   ],
   "source": [
    "df.genre.value_counts()"
   ]
  },
  {
   "cell_type": "code",
   "execution_count": 19,
   "id": "3eb436fa-4867-4ec3-b4df-cd95ff97d196",
   "metadata": {},
   "outputs": [
    {
     "data": {
      "text/plain": [
       "genre\n",
       "Action, Adventure, Drama, Fantasy, Magic, Military, Shounen    9.26\n",
       "Drama, Fantasy, Romance, Slice of Life, Supernatural           9.06\n",
       "Drama, School, Shounen                                         9.05\n",
       "Adventure, Drama, Supernatural                                 8.93\n",
       "Drama, Music, Romance, School, Shounen                         8.92\n",
       "                                                               ... \n",
       "Action, Demons, Seinen, Super Power                            3.32\n",
       "Kids, Mecha                                                    3.26\n",
       "Action, Adventure, Sci-Fi, Space, Super Power                  3.25\n",
       "Dementia, Kids                                                 3.21\n",
       "Comedy, Dementia, Fantasy, Horror, Music, Parody               2.55\n",
       "Name: rating, Length: 3264, dtype: float64"
      ]
     },
     "execution_count": 19,
     "metadata": {},
     "output_type": "execute_result"
    }
   ],
   "source": [
    "df.groupby('genre')['rating'].mean().sort_values(ascending=False)"
   ]
  },
  {
   "cell_type": "code",
   "execution_count": 20,
   "id": "40e2fb4a-7150-46b1-9313-b2942e762942",
   "metadata": {},
   "outputs": [
    {
     "data": {
      "text/html": [
       "<div>\n",
       "<style scoped>\n",
       "    .dataframe tbody tr th:only-of-type {\n",
       "        vertical-align: middle;\n",
       "    }\n",
       "\n",
       "    .dataframe tbody tr th {\n",
       "        vertical-align: top;\n",
       "    }\n",
       "\n",
       "    .dataframe thead th {\n",
       "        text-align: right;\n",
       "    }\n",
       "</style>\n",
       "<table border=\"1\" class=\"dataframe\">\n",
       "  <thead>\n",
       "    <tr style=\"text-align: right;\">\n",
       "      <th></th>\n",
       "      <th>anime_id</th>\n",
       "      <th>name</th>\n",
       "      <th>genre</th>\n",
       "      <th>type</th>\n",
       "      <th>episodes</th>\n",
       "      <th>rating</th>\n",
       "      <th>members</th>\n",
       "    </tr>\n",
       "  </thead>\n",
       "  <tbody>\n",
       "    <tr>\n",
       "      <th>0</th>\n",
       "      <td>32281</td>\n",
       "      <td>Kimi no Na wa.</td>\n",
       "      <td>Drama, Romance, School, Supernatural</td>\n",
       "      <td>Movie</td>\n",
       "      <td>1</td>\n",
       "      <td>9.37</td>\n",
       "      <td>200630</td>\n",
       "    </tr>\n",
       "    <tr>\n",
       "      <th>1</th>\n",
       "      <td>5114</td>\n",
       "      <td>Fullmetal Alchemist: Brotherhood</td>\n",
       "      <td>Action, Adventure, Drama, Fantasy, Magic, Mili...</td>\n",
       "      <td>TV</td>\n",
       "      <td>64</td>\n",
       "      <td>9.26</td>\n",
       "      <td>793665</td>\n",
       "    </tr>\n",
       "    <tr>\n",
       "      <th>2</th>\n",
       "      <td>28977</td>\n",
       "      <td>Gintama°</td>\n",
       "      <td>Action, Comedy, Historical, Parody, Samurai, S...</td>\n",
       "      <td>TV</td>\n",
       "      <td>51</td>\n",
       "      <td>9.25</td>\n",
       "      <td>114262</td>\n",
       "    </tr>\n",
       "    <tr>\n",
       "      <th>3</th>\n",
       "      <td>9253</td>\n",
       "      <td>Steins;Gate</td>\n",
       "      <td>Sci-Fi, Thriller</td>\n",
       "      <td>TV</td>\n",
       "      <td>24</td>\n",
       "      <td>9.17</td>\n",
       "      <td>673572</td>\n",
       "    </tr>\n",
       "    <tr>\n",
       "      <th>4</th>\n",
       "      <td>9969</td>\n",
       "      <td>Gintama&amp;#039;</td>\n",
       "      <td>Action, Comedy, Historical, Parody, Samurai, S...</td>\n",
       "      <td>TV</td>\n",
       "      <td>51</td>\n",
       "      <td>9.16</td>\n",
       "      <td>151266</td>\n",
       "    </tr>\n",
       "  </tbody>\n",
       "</table>\n",
       "</div>"
      ],
      "text/plain": [
       "   anime_id                              name  \\\n",
       "0     32281                    Kimi no Na wa.   \n",
       "1      5114  Fullmetal Alchemist: Brotherhood   \n",
       "2     28977                          Gintama°   \n",
       "3      9253                       Steins;Gate   \n",
       "4      9969                     Gintama&#039;   \n",
       "\n",
       "                                               genre   type episodes  rating  \\\n",
       "0               Drama, Romance, School, Supernatural  Movie        1    9.37   \n",
       "1  Action, Adventure, Drama, Fantasy, Magic, Mili...     TV       64    9.26   \n",
       "2  Action, Comedy, Historical, Parody, Samurai, S...     TV       51    9.25   \n",
       "3                                   Sci-Fi, Thriller     TV       24    9.17   \n",
       "4  Action, Comedy, Historical, Parody, Samurai, S...     TV       51    9.16   \n",
       "\n",
       "   members  \n",
       "0   200630  \n",
       "1   793665  \n",
       "2   114262  \n",
       "3   673572  \n",
       "4   151266  "
      ]
     },
     "execution_count": 20,
     "metadata": {},
     "output_type": "execute_result"
    }
   ],
   "source": [
    "df.head()"
   ]
  },
  {
   "cell_type": "code",
   "execution_count": 21,
   "id": "df6019b3-ea09-4170-847d-588216aaad07",
   "metadata": {},
   "outputs": [
    {
     "data": {
      "text/plain": [
       "12294"
      ]
     },
     "execution_count": 21,
     "metadata": {},
     "output_type": "execute_result"
    }
   ],
   "source": [
    "len(df.anime_id.unique())"
   ]
  },
  {
   "cell_type": "markdown",
   "id": "80a2edfe",
   "metadata": {},
   "source": [
    "## Feature Extraction"
   ]
  },
  {
   "cell_type": "raw",
   "id": "8a63c73c",
   "metadata": {},
   "source": [
    "Feature Extraction:\n",
    "\n",
    "Decide on the features that will be used for computing similarity (e.g., genres, user ratings).\n",
    "Convert categorical features into numerical representations if necessary.\n",
    "Normalize numerical features if required.\n",
    "\n"
   ]
  },
  {
   "cell_type": "code",
   "execution_count": 23,
   "id": "59adc9c7",
   "metadata": {},
   "outputs": [
    {
     "data": {
      "text/html": [
       "<div>\n",
       "<style scoped>\n",
       "    .dataframe tbody tr th:only-of-type {\n",
       "        vertical-align: middle;\n",
       "    }\n",
       "\n",
       "    .dataframe tbody tr th {\n",
       "        vertical-align: top;\n",
       "    }\n",
       "\n",
       "    .dataframe thead th {\n",
       "        text-align: right;\n",
       "    }\n",
       "</style>\n",
       "<table border=\"1\" class=\"dataframe\">\n",
       "  <thead>\n",
       "    <tr style=\"text-align: right;\">\n",
       "      <th></th>\n",
       "      <th>anime_id</th>\n",
       "      <th>name</th>\n",
       "      <th>genre</th>\n",
       "      <th>type</th>\n",
       "      <th>episodes</th>\n",
       "      <th>rating</th>\n",
       "      <th>members</th>\n",
       "    </tr>\n",
       "  </thead>\n",
       "  <tbody>\n",
       "    <tr>\n",
       "      <th>0</th>\n",
       "      <td>32281</td>\n",
       "      <td>Kimi no Na wa.</td>\n",
       "      <td>Drama, Romance, School, Supernatural</td>\n",
       "      <td>Movie</td>\n",
       "      <td>1</td>\n",
       "      <td>9.37</td>\n",
       "      <td>200630</td>\n",
       "    </tr>\n",
       "    <tr>\n",
       "      <th>1</th>\n",
       "      <td>5114</td>\n",
       "      <td>Fullmetal Alchemist: Brotherhood</td>\n",
       "      <td>Action, Adventure, Drama, Fantasy, Magic, Mili...</td>\n",
       "      <td>TV</td>\n",
       "      <td>64</td>\n",
       "      <td>9.26</td>\n",
       "      <td>793665</td>\n",
       "    </tr>\n",
       "    <tr>\n",
       "      <th>2</th>\n",
       "      <td>28977</td>\n",
       "      <td>Gintama°</td>\n",
       "      <td>Action, Comedy, Historical, Parody, Samurai, S...</td>\n",
       "      <td>TV</td>\n",
       "      <td>51</td>\n",
       "      <td>9.25</td>\n",
       "      <td>114262</td>\n",
       "    </tr>\n",
       "    <tr>\n",
       "      <th>3</th>\n",
       "      <td>9253</td>\n",
       "      <td>Steins;Gate</td>\n",
       "      <td>Sci-Fi, Thriller</td>\n",
       "      <td>TV</td>\n",
       "      <td>24</td>\n",
       "      <td>9.17</td>\n",
       "      <td>673572</td>\n",
       "    </tr>\n",
       "    <tr>\n",
       "      <th>4</th>\n",
       "      <td>9969</td>\n",
       "      <td>Gintama&amp;#039;</td>\n",
       "      <td>Action, Comedy, Historical, Parody, Samurai, S...</td>\n",
       "      <td>TV</td>\n",
       "      <td>51</td>\n",
       "      <td>9.16</td>\n",
       "      <td>151266</td>\n",
       "    </tr>\n",
       "  </tbody>\n",
       "</table>\n",
       "</div>"
      ],
      "text/plain": [
       "   anime_id                              name  \\\n",
       "0     32281                    Kimi no Na wa.   \n",
       "1      5114  Fullmetal Alchemist: Brotherhood   \n",
       "2     28977                          Gintama°   \n",
       "3      9253                       Steins;Gate   \n",
       "4      9969                     Gintama&#039;   \n",
       "\n",
       "                                               genre   type episodes  rating  \\\n",
       "0               Drama, Romance, School, Supernatural  Movie        1    9.37   \n",
       "1  Action, Adventure, Drama, Fantasy, Magic, Mili...     TV       64    9.26   \n",
       "2  Action, Comedy, Historical, Parody, Samurai, S...     TV       51    9.25   \n",
       "3                                   Sci-Fi, Thriller     TV       24    9.17   \n",
       "4  Action, Comedy, Historical, Parody, Samurai, S...     TV       51    9.16   \n",
       "\n",
       "   members  \n",
       "0   200630  \n",
       "1   793665  \n",
       "2   114262  \n",
       "3   673572  \n",
       "4   151266  "
      ]
     },
     "execution_count": 23,
     "metadata": {},
     "output_type": "execute_result"
    }
   ],
   "source": [
    "df.head()"
   ]
  },
  {
   "cell_type": "code",
   "execution_count": 24,
   "id": "92e40b23-103c-4b18-b44f-eabbb2daa1d3",
   "metadata": {},
   "outputs": [],
   "source": [
    "df1=df[['name','genre','rating']]"
   ]
  },
  {
   "cell_type": "code",
   "execution_count": 25,
   "id": "b01defc5-0854-49b3-adc3-feb7b62a389a",
   "metadata": {},
   "outputs": [
    {
     "data": {
      "text/html": [
       "<div>\n",
       "<style scoped>\n",
       "    .dataframe tbody tr th:only-of-type {\n",
       "        vertical-align: middle;\n",
       "    }\n",
       "\n",
       "    .dataframe tbody tr th {\n",
       "        vertical-align: top;\n",
       "    }\n",
       "\n",
       "    .dataframe thead th {\n",
       "        text-align: right;\n",
       "    }\n",
       "</style>\n",
       "<table border=\"1\" class=\"dataframe\">\n",
       "  <thead>\n",
       "    <tr style=\"text-align: right;\">\n",
       "      <th></th>\n",
       "      <th>name</th>\n",
       "      <th>genre</th>\n",
       "      <th>rating</th>\n",
       "    </tr>\n",
       "  </thead>\n",
       "  <tbody>\n",
       "    <tr>\n",
       "      <th>0</th>\n",
       "      <td>Kimi no Na wa.</td>\n",
       "      <td>Drama, Romance, School, Supernatural</td>\n",
       "      <td>9.37</td>\n",
       "    </tr>\n",
       "    <tr>\n",
       "      <th>1</th>\n",
       "      <td>Fullmetal Alchemist: Brotherhood</td>\n",
       "      <td>Action, Adventure, Drama, Fantasy, Magic, Mili...</td>\n",
       "      <td>9.26</td>\n",
       "    </tr>\n",
       "    <tr>\n",
       "      <th>2</th>\n",
       "      <td>Gintama°</td>\n",
       "      <td>Action, Comedy, Historical, Parody, Samurai, S...</td>\n",
       "      <td>9.25</td>\n",
       "    </tr>\n",
       "    <tr>\n",
       "      <th>3</th>\n",
       "      <td>Steins;Gate</td>\n",
       "      <td>Sci-Fi, Thriller</td>\n",
       "      <td>9.17</td>\n",
       "    </tr>\n",
       "    <tr>\n",
       "      <th>4</th>\n",
       "      <td>Gintama&amp;#039;</td>\n",
       "      <td>Action, Comedy, Historical, Parody, Samurai, S...</td>\n",
       "      <td>9.16</td>\n",
       "    </tr>\n",
       "  </tbody>\n",
       "</table>\n",
       "</div>"
      ],
      "text/plain": [
       "                               name  \\\n",
       "0                    Kimi no Na wa.   \n",
       "1  Fullmetal Alchemist: Brotherhood   \n",
       "2                          Gintama°   \n",
       "3                       Steins;Gate   \n",
       "4                     Gintama&#039;   \n",
       "\n",
       "                                               genre  rating  \n",
       "0               Drama, Romance, School, Supernatural    9.37  \n",
       "1  Action, Adventure, Drama, Fantasy, Magic, Mili...    9.26  \n",
       "2  Action, Comedy, Historical, Parody, Samurai, S...    9.25  \n",
       "3                                   Sci-Fi, Thriller    9.17  \n",
       "4  Action, Comedy, Historical, Parody, Samurai, S...    9.16  "
      ]
     },
     "execution_count": 25,
     "metadata": {},
     "output_type": "execute_result"
    }
   ],
   "source": [
    "df1.head()"
   ]
  },
  {
   "cell_type": "code",
   "execution_count": 26,
   "id": "a7570e74-7656-4360-a8bd-e03f8c09f6b6",
   "metadata": {},
   "outputs": [
    {
     "data": {
      "text/plain": [
       "12292"
      ]
     },
     "execution_count": 26,
     "metadata": {},
     "output_type": "execute_result"
    }
   ],
   "source": [
    "len(df1.name.unique())"
   ]
  },
  {
   "cell_type": "code",
   "execution_count": 27,
   "id": "20552294-7d8e-4622-b790-7ea9925b4b69",
   "metadata": {},
   "outputs": [],
   "source": [
    "df2=df1.pivot_table(index='name',columns='genre',values='rating')\n",
    "df2.fillna(0,axis=1,inplace=True)"
   ]
  },
  {
   "cell_type": "code",
   "execution_count": 28,
   "id": "ef765f9b-a473-48a6-8b3a-f821a7b62149",
   "metadata": {},
   "outputs": [
    {
     "data": {
      "text/html": [
       "<div>\n",
       "<style scoped>\n",
       "    .dataframe tbody tr th:only-of-type {\n",
       "        vertical-align: middle;\n",
       "    }\n",
       "\n",
       "    .dataframe tbody tr th {\n",
       "        vertical-align: top;\n",
       "    }\n",
       "\n",
       "    .dataframe thead th {\n",
       "        text-align: right;\n",
       "    }\n",
       "</style>\n",
       "<table border=\"1\" class=\"dataframe\">\n",
       "  <thead>\n",
       "    <tr style=\"text-align: right;\">\n",
       "      <th>genre</th>\n",
       "      <th>Action</th>\n",
       "      <th>Action, Adventure</th>\n",
       "      <th>Action, Adventure, Cars, Comedy, Sci-Fi, Shounen</th>\n",
       "      <th>Action, Adventure, Cars, Mecha, Sci-Fi, Shounen, Sports</th>\n",
       "      <th>Action, Adventure, Cars, Sci-Fi</th>\n",
       "      <th>Action, Adventure, Comedy</th>\n",
       "      <th>Action, Adventure, Comedy, Demons, Drama, Ecchi, Horror, Mystery, Romance, Sci-Fi</th>\n",
       "      <th>Action, Adventure, Comedy, Demons, Fantasy, Magic</th>\n",
       "      <th>Action, Adventure, Comedy, Demons, Fantasy, Magic, Romance, Shounen, Supernatural</th>\n",
       "      <th>Action, Adventure, Comedy, Demons, Fantasy, Martial Arts, Shounen, Super Power</th>\n",
       "      <th>...</th>\n",
       "      <th>Slice of Life</th>\n",
       "      <th>Slice of Life, Space</th>\n",
       "      <th>Slice of Life, Supernatural</th>\n",
       "      <th>Space</th>\n",
       "      <th>Sports</th>\n",
       "      <th>Super Power, Supernatural, Vampire</th>\n",
       "      <th>Supernatural</th>\n",
       "      <th>Thriller</th>\n",
       "      <th>Vampire</th>\n",
       "      <th>Yaoi</th>\n",
       "    </tr>\n",
       "    <tr>\n",
       "      <th>name</th>\n",
       "      <th></th>\n",
       "      <th></th>\n",
       "      <th></th>\n",
       "      <th></th>\n",
       "      <th></th>\n",
       "      <th></th>\n",
       "      <th></th>\n",
       "      <th></th>\n",
       "      <th></th>\n",
       "      <th></th>\n",
       "      <th></th>\n",
       "      <th></th>\n",
       "      <th></th>\n",
       "      <th></th>\n",
       "      <th></th>\n",
       "      <th></th>\n",
       "      <th></th>\n",
       "      <th></th>\n",
       "      <th></th>\n",
       "      <th></th>\n",
       "      <th></th>\n",
       "    </tr>\n",
       "  </thead>\n",
       "  <tbody>\n",
       "    <tr>\n",
       "      <th>&amp;quot;0&amp;quot;</th>\n",
       "      <td>0.0</td>\n",
       "      <td>0.0</td>\n",
       "      <td>0.0</td>\n",
       "      <td>0.0</td>\n",
       "      <td>0.0</td>\n",
       "      <td>0.0</td>\n",
       "      <td>0.0</td>\n",
       "      <td>0.0</td>\n",
       "      <td>0.0</td>\n",
       "      <td>0.0</td>\n",
       "      <td>...</td>\n",
       "      <td>0.0</td>\n",
       "      <td>0.0</td>\n",
       "      <td>0.0</td>\n",
       "      <td>0.0</td>\n",
       "      <td>0.0</td>\n",
       "      <td>0.0</td>\n",
       "      <td>0.0</td>\n",
       "      <td>0.0</td>\n",
       "      <td>0.0</td>\n",
       "      <td>0.0</td>\n",
       "    </tr>\n",
       "    <tr>\n",
       "      <th>&amp;quot;Aesop&amp;quot; no Ohanashi yori: Ushi to Kaeru, Yokubatta Inu</th>\n",
       "      <td>0.0</td>\n",
       "      <td>0.0</td>\n",
       "      <td>0.0</td>\n",
       "      <td>0.0</td>\n",
       "      <td>0.0</td>\n",
       "      <td>0.0</td>\n",
       "      <td>0.0</td>\n",
       "      <td>0.0</td>\n",
       "      <td>0.0</td>\n",
       "      <td>0.0</td>\n",
       "      <td>...</td>\n",
       "      <td>0.0</td>\n",
       "      <td>0.0</td>\n",
       "      <td>0.0</td>\n",
       "      <td>0.0</td>\n",
       "      <td>0.0</td>\n",
       "      <td>0.0</td>\n",
       "      <td>0.0</td>\n",
       "      <td>0.0</td>\n",
       "      <td>0.0</td>\n",
       "      <td>0.0</td>\n",
       "    </tr>\n",
       "    <tr>\n",
       "      <th>&amp;quot;Bungaku Shoujo&amp;quot; Kyou no Oyatsu: Hatsukoi</th>\n",
       "      <td>0.0</td>\n",
       "      <td>0.0</td>\n",
       "      <td>0.0</td>\n",
       "      <td>0.0</td>\n",
       "      <td>0.0</td>\n",
       "      <td>0.0</td>\n",
       "      <td>0.0</td>\n",
       "      <td>0.0</td>\n",
       "      <td>0.0</td>\n",
       "      <td>0.0</td>\n",
       "      <td>...</td>\n",
       "      <td>0.0</td>\n",
       "      <td>0.0</td>\n",
       "      <td>0.0</td>\n",
       "      <td>0.0</td>\n",
       "      <td>0.0</td>\n",
       "      <td>0.0</td>\n",
       "      <td>0.0</td>\n",
       "      <td>0.0</td>\n",
       "      <td>0.0</td>\n",
       "      <td>0.0</td>\n",
       "    </tr>\n",
       "    <tr>\n",
       "      <th>&amp;quot;Bungaku Shoujo&amp;quot; Memoire</th>\n",
       "      <td>0.0</td>\n",
       "      <td>0.0</td>\n",
       "      <td>0.0</td>\n",
       "      <td>0.0</td>\n",
       "      <td>0.0</td>\n",
       "      <td>0.0</td>\n",
       "      <td>0.0</td>\n",
       "      <td>0.0</td>\n",
       "      <td>0.0</td>\n",
       "      <td>0.0</td>\n",
       "      <td>...</td>\n",
       "      <td>0.0</td>\n",
       "      <td>0.0</td>\n",
       "      <td>0.0</td>\n",
       "      <td>0.0</td>\n",
       "      <td>0.0</td>\n",
       "      <td>0.0</td>\n",
       "      <td>0.0</td>\n",
       "      <td>0.0</td>\n",
       "      <td>0.0</td>\n",
       "      <td>0.0</td>\n",
       "    </tr>\n",
       "    <tr>\n",
       "      <th>&amp;quot;Bungaku Shoujo&amp;quot; Movie</th>\n",
       "      <td>0.0</td>\n",
       "      <td>0.0</td>\n",
       "      <td>0.0</td>\n",
       "      <td>0.0</td>\n",
       "      <td>0.0</td>\n",
       "      <td>0.0</td>\n",
       "      <td>0.0</td>\n",
       "      <td>0.0</td>\n",
       "      <td>0.0</td>\n",
       "      <td>0.0</td>\n",
       "      <td>...</td>\n",
       "      <td>0.0</td>\n",
       "      <td>0.0</td>\n",
       "      <td>0.0</td>\n",
       "      <td>0.0</td>\n",
       "      <td>0.0</td>\n",
       "      <td>0.0</td>\n",
       "      <td>0.0</td>\n",
       "      <td>0.0</td>\n",
       "      <td>0.0</td>\n",
       "      <td>0.0</td>\n",
       "    </tr>\n",
       "  </tbody>\n",
       "</table>\n",
       "<p>5 rows × 3264 columns</p>\n",
       "</div>"
      ],
      "text/plain": [
       "genre                                               Action  Action, Adventure  \\\n",
       "name                                                                            \n",
       "&quot;0&quot;                                          0.0                0.0   \n",
       "&quot;Aesop&quot; no Ohanashi yori: Ushi to Kae...     0.0                0.0   \n",
       "&quot;Bungaku Shoujo&quot; Kyou no Oyatsu: Hats...     0.0                0.0   \n",
       "&quot;Bungaku Shoujo&quot; Memoire                     0.0                0.0   \n",
       "&quot;Bungaku Shoujo&quot; Movie                       0.0                0.0   \n",
       "\n",
       "genre                                               Action, Adventure, Cars, Comedy, Sci-Fi, Shounen  \\\n",
       "name                                                                                                   \n",
       "&quot;0&quot;                                                                                    0.0   \n",
       "&quot;Aesop&quot; no Ohanashi yori: Ushi to Kae...                                               0.0   \n",
       "&quot;Bungaku Shoujo&quot; Kyou no Oyatsu: Hats...                                               0.0   \n",
       "&quot;Bungaku Shoujo&quot; Memoire                                                               0.0   \n",
       "&quot;Bungaku Shoujo&quot; Movie                                                                 0.0   \n",
       "\n",
       "genre                                               Action, Adventure, Cars, Mecha, Sci-Fi, Shounen, Sports  \\\n",
       "name                                                                                                          \n",
       "&quot;0&quot;                                                                                     0.0         \n",
       "&quot;Aesop&quot; no Ohanashi yori: Ushi to Kae...                                                0.0         \n",
       "&quot;Bungaku Shoujo&quot; Kyou no Oyatsu: Hats...                                                0.0         \n",
       "&quot;Bungaku Shoujo&quot; Memoire                                                                0.0         \n",
       "&quot;Bungaku Shoujo&quot; Movie                                                                  0.0         \n",
       "\n",
       "genre                                               Action, Adventure, Cars, Sci-Fi  \\\n",
       "name                                                                                  \n",
       "&quot;0&quot;                                                                   0.0   \n",
       "&quot;Aesop&quot; no Ohanashi yori: Ushi to Kae...                              0.0   \n",
       "&quot;Bungaku Shoujo&quot; Kyou no Oyatsu: Hats...                              0.0   \n",
       "&quot;Bungaku Shoujo&quot; Memoire                                              0.0   \n",
       "&quot;Bungaku Shoujo&quot; Movie                                                0.0   \n",
       "\n",
       "genre                                               Action, Adventure, Comedy  \\\n",
       "name                                                                            \n",
       "&quot;0&quot;                                                             0.0   \n",
       "&quot;Aesop&quot; no Ohanashi yori: Ushi to Kae...                        0.0   \n",
       "&quot;Bungaku Shoujo&quot; Kyou no Oyatsu: Hats...                        0.0   \n",
       "&quot;Bungaku Shoujo&quot; Memoire                                        0.0   \n",
       "&quot;Bungaku Shoujo&quot; Movie                                          0.0   \n",
       "\n",
       "genre                                               Action, Adventure, Comedy, Demons, Drama, Ecchi, Horror, Mystery, Romance, Sci-Fi  \\\n",
       "name                                                                                                                                    \n",
       "&quot;0&quot;                                                                                     0.0                                   \n",
       "&quot;Aesop&quot; no Ohanashi yori: Ushi to Kae...                                                0.0                                   \n",
       "&quot;Bungaku Shoujo&quot; Kyou no Oyatsu: Hats...                                                0.0                                   \n",
       "&quot;Bungaku Shoujo&quot; Memoire                                                                0.0                                   \n",
       "&quot;Bungaku Shoujo&quot; Movie                                                                  0.0                                   \n",
       "\n",
       "genre                                               Action, Adventure, Comedy, Demons, Fantasy, Magic  \\\n",
       "name                                                                                                    \n",
       "&quot;0&quot;                                                                                     0.0   \n",
       "&quot;Aesop&quot; no Ohanashi yori: Ushi to Kae...                                                0.0   \n",
       "&quot;Bungaku Shoujo&quot; Kyou no Oyatsu: Hats...                                                0.0   \n",
       "&quot;Bungaku Shoujo&quot; Memoire                                                                0.0   \n",
       "&quot;Bungaku Shoujo&quot; Movie                                                                  0.0   \n",
       "\n",
       "genre                                               Action, Adventure, Comedy, Demons, Fantasy, Magic, Romance, Shounen, Supernatural  \\\n",
       "name                                                                                                                                    \n",
       "&quot;0&quot;                                                                                     0.0                                   \n",
       "&quot;Aesop&quot; no Ohanashi yori: Ushi to Kae...                                                0.0                                   \n",
       "&quot;Bungaku Shoujo&quot; Kyou no Oyatsu: Hats...                                                0.0                                   \n",
       "&quot;Bungaku Shoujo&quot; Memoire                                                                0.0                                   \n",
       "&quot;Bungaku Shoujo&quot; Movie                                                                  0.0                                   \n",
       "\n",
       "genre                                               Action, Adventure, Comedy, Demons, Fantasy, Martial Arts, Shounen, Super Power  \\\n",
       "name                                                                                                                                 \n",
       "&quot;0&quot;                                                                                     0.0                                \n",
       "&quot;Aesop&quot; no Ohanashi yori: Ushi to Kae...                                                0.0                                \n",
       "&quot;Bungaku Shoujo&quot; Kyou no Oyatsu: Hats...                                                0.0                                \n",
       "&quot;Bungaku Shoujo&quot; Memoire                                                                0.0                                \n",
       "&quot;Bungaku Shoujo&quot; Movie                                                                  0.0                                \n",
       "\n",
       "genre                                               ...  Slice of Life  \\\n",
       "name                                                ...                  \n",
       "&quot;0&quot;                                       ...            0.0   \n",
       "&quot;Aesop&quot; no Ohanashi yori: Ushi to Kae...  ...            0.0   \n",
       "&quot;Bungaku Shoujo&quot; Kyou no Oyatsu: Hats...  ...            0.0   \n",
       "&quot;Bungaku Shoujo&quot; Memoire                  ...            0.0   \n",
       "&quot;Bungaku Shoujo&quot; Movie                    ...            0.0   \n",
       "\n",
       "genre                                               Slice of Life, Space  \\\n",
       "name                                                                       \n",
       "&quot;0&quot;                                                        0.0   \n",
       "&quot;Aesop&quot; no Ohanashi yori: Ushi to Kae...                   0.0   \n",
       "&quot;Bungaku Shoujo&quot; Kyou no Oyatsu: Hats...                   0.0   \n",
       "&quot;Bungaku Shoujo&quot; Memoire                                   0.0   \n",
       "&quot;Bungaku Shoujo&quot; Movie                                     0.0   \n",
       "\n",
       "genre                                               Slice of Life, Supernatural  \\\n",
       "name                                                                              \n",
       "&quot;0&quot;                                                               0.0   \n",
       "&quot;Aesop&quot; no Ohanashi yori: Ushi to Kae...                          0.0   \n",
       "&quot;Bungaku Shoujo&quot; Kyou no Oyatsu: Hats...                          0.0   \n",
       "&quot;Bungaku Shoujo&quot; Memoire                                          0.0   \n",
       "&quot;Bungaku Shoujo&quot; Movie                                            0.0   \n",
       "\n",
       "genre                                               Space  Sports  \\\n",
       "name                                                                \n",
       "&quot;0&quot;                                         0.0     0.0   \n",
       "&quot;Aesop&quot; no Ohanashi yori: Ushi to Kae...    0.0     0.0   \n",
       "&quot;Bungaku Shoujo&quot; Kyou no Oyatsu: Hats...    0.0     0.0   \n",
       "&quot;Bungaku Shoujo&quot; Memoire                    0.0     0.0   \n",
       "&quot;Bungaku Shoujo&quot; Movie                      0.0     0.0   \n",
       "\n",
       "genre                                               Super Power, Supernatural, Vampire  \\\n",
       "name                                                                                     \n",
       "&quot;0&quot;                                                                      0.0   \n",
       "&quot;Aesop&quot; no Ohanashi yori: Ushi to Kae...                                 0.0   \n",
       "&quot;Bungaku Shoujo&quot; Kyou no Oyatsu: Hats...                                 0.0   \n",
       "&quot;Bungaku Shoujo&quot; Memoire                                                 0.0   \n",
       "&quot;Bungaku Shoujo&quot; Movie                                                   0.0   \n",
       "\n",
       "genre                                               Supernatural  Thriller  \\\n",
       "name                                                                         \n",
       "&quot;0&quot;                                                0.0       0.0   \n",
       "&quot;Aesop&quot; no Ohanashi yori: Ushi to Kae...           0.0       0.0   \n",
       "&quot;Bungaku Shoujo&quot; Kyou no Oyatsu: Hats...           0.0       0.0   \n",
       "&quot;Bungaku Shoujo&quot; Memoire                           0.0       0.0   \n",
       "&quot;Bungaku Shoujo&quot; Movie                             0.0       0.0   \n",
       "\n",
       "genre                                               Vampire  Yaoi  \n",
       "name                                                               \n",
       "&quot;0&quot;                                           0.0   0.0  \n",
       "&quot;Aesop&quot; no Ohanashi yori: Ushi to Kae...      0.0   0.0  \n",
       "&quot;Bungaku Shoujo&quot; Kyou no Oyatsu: Hats...      0.0   0.0  \n",
       "&quot;Bungaku Shoujo&quot; Memoire                      0.0   0.0  \n",
       "&quot;Bungaku Shoujo&quot; Movie                        0.0   0.0  \n",
       "\n",
       "[5 rows x 3264 columns]"
      ]
     },
     "execution_count": 28,
     "metadata": {},
     "output_type": "execute_result"
    }
   ],
   "source": [
    "df2.head()"
   ]
  },
  {
   "cell_type": "code",
   "execution_count": 148,
   "id": "d5894d97-e0ab-4a8c-a5c8-6d405510fd89",
   "metadata": {},
   "outputs": [
    {
     "data": {
      "text/plain": [
       "(12292, 3264)"
      ]
     },
     "execution_count": 148,
     "metadata": {},
     "output_type": "execute_result"
    }
   ],
   "source": [
    "df2.shape"
   ]
  },
  {
   "cell_type": "code",
   "execution_count": 29,
   "id": "43bb2478-701f-4495-9065-f22945d1a1ce",
   "metadata": {},
   "outputs": [],
   "source": [
    "from sklearn.metrics.pairwise import cosine_similarity"
   ]
  },
  {
   "cell_type": "code",
   "execution_count": 30,
   "id": "fe34e99c-62c2-46cc-a0c9-c5444db510cb",
   "metadata": {},
   "outputs": [
    {
     "data": {
      "text/plain": [
       "array([[1., 0., 0., ..., 0., 0., 0.],\n",
       "       [0., 1., 0., ..., 0., 0., 0.],\n",
       "       [0., 0., 1., ..., 0., 0., 0.],\n",
       "       ...,\n",
       "       [0., 0., 0., ..., 1., 0., 0.],\n",
       "       [0., 0., 0., ..., 0., 1., 0.],\n",
       "       [0., 0., 0., ..., 0., 0., 1.]])"
      ]
     },
     "execution_count": 30,
     "metadata": {},
     "output_type": "execute_result"
    }
   ],
   "source": [
    "similarities=cosine_similarity(df2)\n",
    "similarities"
   ]
  },
  {
   "cell_type": "code",
   "execution_count": 62,
   "id": "56761af0-b3bf-46b8-a363-9f9d53b14526",
   "metadata": {},
   "outputs": [],
   "source": [
    "import numpy as np"
   ]
  },
  {
   "cell_type": "code",
   "execution_count": 64,
   "id": "646c3eaa-548e-4894-b2b4-4ee9e3784091",
   "metadata": {},
   "outputs": [
    {
     "data": {
      "text/plain": [
       "array([0.        , 0.67232047, 0.6862307 , 0.72738396, 0.74026022,\n",
       "       1.        , 1.        , 1.        ])"
      ]
     },
     "execution_count": 64,
     "metadata": {},
     "output_type": "execute_result"
    }
   ],
   "source": [
    "np.unique(similarities)"
   ]
  },
  {
   "cell_type": "code",
   "execution_count": 66,
   "id": "601f9ef5-0e69-4347-b3b6-7315fbf8a6f0",
   "metadata": {},
   "outputs": [
    {
     "data": {
      "text/plain": [
       "8"
      ]
     },
     "execution_count": 66,
     "metadata": {},
     "output_type": "execute_result"
    }
   ],
   "source": [
    "len(np.unique(similarities))"
   ]
  },
  {
   "cell_type": "code",
   "execution_count": 84,
   "id": "e0767abe-c28a-4836-9c94-2568060e0e7c",
   "metadata": {},
   "outputs": [
    {
     "data": {
      "text/plain": [
       "5412"
      ]
     },
     "execution_count": 84,
     "metadata": {},
     "output_type": "execute_result"
    }
   ],
   "source": [
    "np.where('Kimi no Na wa.'==df2.index)[0][0] ## gives index of the name in the column 'Name'"
   ]
  },
  {
   "cell_type": "code",
   "execution_count": 92,
   "id": "22648aeb-9de5-478a-ba52-c356b75f0e0e",
   "metadata": {},
   "outputs": [
    {
     "data": {
      "text/plain": [
       "[(6511, 1.0), (6512, 1.0), (6513, 1.0), (0, 0.0), (1, 0.0)]"
      ]
     },
     "execution_count": 92,
     "metadata": {},
     "output_type": "execute_result"
    }
   ],
   "source": [
    "similar_movie=sorted(list(enumerate(similarities[5])),key=lambda x:x[1],reverse=True)[1:6]\n",
    "similar_movie"
   ]
  },
  {
   "cell_type": "code",
   "execution_count": 94,
   "id": "97877179-675d-492d-ac26-49756750e445",
   "metadata": {},
   "outputs": [
    {
     "data": {
      "text/plain": [
       "Index(['&quot;0&quot;',\n",
       "       '&quot;Aesop&quot; no Ohanashi yori: Ushi to Kaeru, Yokubatta Inu',\n",
       "       '&quot;Bungaku Shoujo&quot; Kyou no Oyatsu: Hatsukoi',\n",
       "       '&quot;Bungaku Shoujo&quot; Memoire',\n",
       "       '&quot;Bungaku Shoujo&quot; Movie', '&quot;Eiji&quot;',\n",
       "       '&quot;Eiyuu&quot; Kaitai', '.hack//G.U. Returner',\n",
       "       '.hack//G.U. Trilogy', '.hack//G.U. Trilogy: Parody Mode',\n",
       "       ...\n",
       "       's.CRY.ed', 'vivi', 'xxxHOLiC', 'xxxHOLiC Kei',\n",
       "       'xxxHOLiC Movie: Manatsu no Yoru no Yume', 'xxxHOLiC Rou',\n",
       "       'xxxHOLiC Shunmuki', 'Üks Uks', 'ēlDLIVE', '◯'],\n",
       "      dtype='object', name='name', length=12292)"
      ]
     },
     "execution_count": 94,
     "metadata": {},
     "output_type": "execute_result"
    }
   ],
   "source": [
    "df2.index"
   ]
  },
  {
   "cell_type": "markdown",
   "id": "d63ce335-e14f-4ac8-91f1-37bb36034f4a",
   "metadata": {},
   "source": [
    "## Recommendation System:"
   ]
  },
  {
   "cell_type": "markdown",
   "id": "e623cedb-a02d-494d-8f76-2031ffa648de",
   "metadata": {},
   "source": [
    "#\n",
    "Recommendation System:\n",
    "\n",
    "Design a function to recommend anime based on cosine similarity.\n",
    "Given a target anime, recommend a list of similar anime based on cosine similarity scores.\n",
    "Experiment with different threshold values for similarity scores to adjust the recommendation list size.\n",
    "\n"
   ]
  },
  {
   "cell_type": "code",
   "execution_count": 126,
   "id": "b0084feb-8ece-4255-9524-6328699e999b",
   "metadata": {},
   "outputs": [],
   "source": [
    "def recommend(anime_name):\n",
    "    if anime_name in df2.index:\n",
    "        index=np.where(anime_name==df2.index)[0][0]\n",
    "        similar_anime=sorted(list(enumerate(similarities[index])),key=lambda x:x[1],reverse=True)[1:7]\n",
    "        print(f'recommended anime for{anime_name}')\n",
    "        print('-'*10)\n",
    "        for anime in similar_anime:\n",
    "            print(df2.index[anime[0]])\n",
    "    else:\n",
    "            print('anime is not in the list')\n",
    "            \n",
    "        "
   ]
  },
  {
   "cell_type": "code",
   "execution_count": 130,
   "id": "e54a1db4-692a-4bb7-acc8-15798d3ab0ab",
   "metadata": {},
   "outputs": [
    {
     "name": "stdout",
     "output_type": "stream",
     "text": [
      "recommended anime for&quot;0&quot;\n",
      "----------\n",
      "2010\n",
      "3-D Tengoku\n",
      "4-Day Weekend\n",
      "7-kakan.\n",
      "8-gatsu no Symphony: Shibuya 2002-2003\n",
      "A Play\n"
     ]
    }
   ],
   "source": [
    "recommend('&quot;0&quot;')"
   ]
  },
  {
   "cell_type": "code",
   "execution_count": 132,
   "id": "512d9b3f-14a0-4cf5-8792-2e32d6856b30",
   "metadata": {},
   "outputs": [
    {
     "name": "stdout",
     "output_type": "stream",
     "text": [
      "recommended anime for&quot;Aesop&quot; no Ohanashi yori: Ushi to Kaeru, Yokubatta Inu\n",
      "----------\n",
      "12-gatsu no Uta\n",
      "Aesop&#039;s World\n",
      "Agigongryong Doolie (1988)\n",
      "Agigongryong Doolie (Movie)\n",
      "Alice Tantei Kyoku\n",
      "Ama Gli Animali\n"
     ]
    }
   ],
   "source": [
    "recommend('&quot;Aesop&quot; no Ohanashi yori: Ushi to Kaeru, Yokubatta Inu')"
   ]
  },
  {
   "cell_type": "markdown",
   "id": "84ac33cc-2841-4722-b0b6-938c1b7b7409",
   "metadata": {},
   "source": [
    "## Interview Questions:"
   ]
  },
  {
   "cell_type": "markdown",
   "id": "bd7915a9-c9ce-4747-8bc7-a17bbf843424",
   "metadata": {},
   "source": [
    "## \n",
    "Interview Questions:\n",
    "1. Can you explain the difference between user-based and item-based collaborative filtering?\n",
    "2. What is collaborative filtering, and how does it work?"
   ]
  },
  {
   "cell_type": "raw",
   "id": "05ab02b6-f905-4a6c-8c0a-91ebf17976f5",
   "metadata": {},
   "source": [
    "1.Can you explain the difference between user-based and item-based collaborative filtering?\n",
    " ANS:User-Based Collaborative Filtering (UBCF)\n",
    "Focus: Finds users similar to the target user.\n",
    "Method: Recommends items that similar users have liked.\n",
    "Example: If User A and User B have similar tastes, and User B liked a particular movie, that movie will be recommended to User A.\n",
    "Strengths: Effective when user preferences are diverse and there are many users with similar tastes.\n",
    "Weaknesses: Can struggle with new users (cold start problem) and requires a large user base to find meaningful similarities1.\n",
    "Item-Based Collaborative Filtering (IBCF)\n",
    "Focus: Finds items similar to the ones the target user has liked.\n",
    "Method: Recommends items that are similar to the items the user has previously rated highly.\n",
    "Example: If a user liked Movie X, and Movie Y is similar to Movie X, then Movie Y will be recommended.\n",
    "Strengths: More stable as it relies on item similarities, which change less frequently than user preferences.\n",
    "Weaknesses: Can struggle with new items (cold start problem) and requires a large number of item ratings to find meaningful similarities1."
   ]
  },
  {
   "cell_type": "code",
   "execution_count": null,
   "id": "0c48310d-e4e5-4ab8-852d-cc345a813482",
   "metadata": {},
   "outputs": [],
   "source": [
    "2.What is collaborative filtering, and how does it work?\n",
    "ANS:Collaborative filtering is an information retrieval method used by recommender systems. Let me break it down for you:\n",
    "\n",
    "Grouping Users Based on Behavior:\n",
    "Collaborative filtering groups users based on their preferences and behavior.\n",
    "It assumes that if User A has similar tastes to User B on one issue, they are likely to have similar opinions on other issues as well.\n",
    "For example, if User A and User B both like certain movies, collaborative filtering predicts that they will have similar preferences for other movies1.\n",
    "Recommendations Based on Similar Users:\n",
    "The system uses information from many users to make personalized predictions for a target user.\n",
    "Instead of giving a generic score for each item, collaborative filtering recommends items based on how similar users have interacted with those items.\n",
    "For instance, if User A and User B share similar tastes and User B liked a specific movie, the system might recommend that movie to User A1.\n"
   ]
  }
 ],
 "metadata": {
  "kernelspec": {
   "display_name": "Python 3 (ipykernel)",
   "language": "python",
   "name": "python3"
  },
  "language_info": {
   "codemirror_mode": {
    "name": "ipython",
    "version": 3
   },
   "file_extension": ".py",
   "mimetype": "text/x-python",
   "name": "python",
   "nbconvert_exporter": "python",
   "pygments_lexer": "ipython3",
   "version": "3.11.5"
  }
 },
 "nbformat": 4,
 "nbformat_minor": 5
}

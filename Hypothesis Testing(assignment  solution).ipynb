{
 "cells": [
  {
   "cell_type": "raw",
   "id": "caeebe8e",
   "metadata": {},
   "source": [
    "Assignment Tasks:\n",
    "1. State the Hypotheses statement: Objective:\n",
    "To investigate the restaurant owners' claim about the increase in weekly operating costs using hypothesis testing.\n",
    "Data Provided:\n",
    "•\tThe theoretical weekly operating cost model: W = $1,000 + $5X\n",
    "•\tSample of 25 restaurants with a mean weekly cost of Rs. 3,050\n",
    "Number of units produced in a week (X) follows\n",
    "2. Calculate the Test Statistic:\n",
    "Use the following formula to calculate the test statistic (t):\n",
    "where:\n",
    "•\tˉxˉ = sample mean weekly cost (Rs. 3,050)\n",
    "•\tμ = theoretical mean weekly cost according to the cost model (W = $1,000 + $5X for X = 600 units)\n",
    "•\tσ = 5*25 units\n",
    "•\tn = sample size (25 restaurants)\n",
    "3. Determine the Critical Value:\n",
    "Using the alpha level of 5% (α = 0.05), determine the critical value from the standard normal (Z) distribution table.\n",
    "4. Make a Decision:\n",
    "Compare the test statistic with the critical value to decide whether to reject the null hypothesis.\n",
    "5. Conclusion:\n",
    "Based on the decision in step 4, conclude whether there is strong evidence to support the restaurant owners' claim that the weekly operating costs are higher than the model suggests.\n",
    "\n",
    "Submission Guidelines:\n",
    "•\tPrepare python file detailing each step of your hypothesis testing process.\n",
    "•\tInclude calculations for the test statistic and the critical value.\n",
    "•\tProvide a clear conclusion based on your analysis.\n",
    "\n"
   ]
  },
  {
   "cell_type": "code",
   "execution_count": null,
   "id": "72d0323b",
   "metadata": {},
   "outputs": [],
   "source": [
    "##  Ho: Weeekly operating cost are  higher than the  model suggests \n",
    "# Ha:Weeekly operating cost  are not  higher than the  model suggests"
   ]
  },
  {
   "cell_type": "raw",
   "id": "1c5d0782",
   "metadata": {},
   "source": [
    "w=$1,000 + $5*600=$4000\n",
    "x_bar=$3050"
   ]
  },
  {
   "cell_type": "code",
   "execution_count": 8,
   "id": "b2aa3317",
   "metadata": {},
   "outputs": [],
   "source": [
    "alpha=0.05\n",
    "pop_mean=4000\n",
    "alpha=0.05\n",
    "n=25\n",
    "x_bar=3050\n",
    "pop_std =125\n",
    "\n"
   ]
  },
  {
   "cell_type": "code",
   "execution_count": 11,
   "id": "b64cede8",
   "metadata": {},
   "outputs": [
    {
     "data": {
      "text/plain": [
       "1.959963984540054"
      ]
     },
     "execution_count": 11,
     "metadata": {},
     "output_type": "execute_result"
    }
   ],
   "source": [
    "import scipy.stats as stats\n",
    "z_crit=stats.norm.ppf(1-alpha/2)\n",
    "z_crit"
   ]
  },
  {
   "cell_type": "code",
   "execution_count": null,
   "id": "eac48db2",
   "metadata": {},
   "outputs": [],
   "source": [
    "## since ni less than 30 so, we will use \n",
    "## z_score=(x_bar-pop_mean)/pop_std"
   ]
  },
  {
   "cell_type": "code",
   "execution_count": 12,
   "id": "1a2ab387",
   "metadata": {},
   "outputs": [],
   "source": [
    "z_score=(x_bar-pop_mean)/pop_std"
   ]
  },
  {
   "cell_type": "code",
   "execution_count": 13,
   "id": "02e2788c",
   "metadata": {},
   "outputs": [
    {
     "data": {
      "text/plain": [
       "-7.6"
      ]
     },
     "execution_count": 13,
     "metadata": {},
     "output_type": "execute_result"
    }
   ],
   "source": [
    "z_score"
   ]
  },
  {
   "cell_type": "code",
   "execution_count": 14,
   "id": "34a56685",
   "metadata": {},
   "outputs": [
    {
     "data": {
      "text/plain": [
       "1.959963984540054"
      ]
     },
     "execution_count": 14,
     "metadata": {},
     "output_type": "execute_result"
    }
   ],
   "source": [
    "z_crit"
   ]
  },
  {
   "cell_type": "markdown",
   "id": "5a66fd4f",
   "metadata": {},
   "source": [
    "Here z_critical lie between -1.959963984540054 to 1.959963984540054 and z_score(=-7.6) wich does not lie in this range so our Ho is wrong\n",
    "Hence Claim of restaurent ower about incresing in weekly operating coasts is wrong"
   ]
  }
 ],
 "metadata": {
  "kernelspec": {
   "display_name": "Python 3 (ipykernel)",
   "language": "python",
   "name": "python3"
  },
  "language_info": {
   "codemirror_mode": {
    "name": "ipython",
    "version": 3
   },
   "file_extension": ".py",
   "mimetype": "text/x-python",
   "name": "python",
   "nbconvert_exporter": "python",
   "pygments_lexer": "ipython3",
   "version": "3.11.5"
  }
 },
 "nbformat": 4,
 "nbformat_minor": 5
}

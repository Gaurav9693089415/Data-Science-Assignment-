{
 "cells": [
  {
   "cell_type": "markdown",
   "id": "dd29e117",
   "metadata": {},
   "source": [
    "Data\n",
    "A total of 15 print-heads were randomly selected and tested until failure. The durability of each print-head (in millions of characters) was recorded as follows:\n",
    "1.13, 1.55, 1.43, 0.92, 1.25, 1.36, 1.32, 0.85, 1.07, 1.48, 1.20, 1.33, 1.18, 1.22, 1.29\n",
    "Assignment Tasks\n",
    "a. Build 99% Confidence Interval Using Sample Standard Deviation\n",
    "Assuming the sample is representative of the population, construct a 99% confidence interval for the mean number of characters printed before the print-head fails using the sample standard deviation. Explain the steps you take and the rationale behind using the t-distribution for this task.\n",
    "b. Build 99% Confidence Interval Using Known Population Standard Deviation\n",
    "If it were known that the population standard deviation is 0.2 million characters, construct a 99% confidence interval for the mean number of characters printed before failure.\n",
    "\n"
   ]
  },
  {
   "cell_type": "code",
   "execution_count": 1,
   "id": "9b66e321",
   "metadata": {},
   "outputs": [],
   "source": [
    "data=[1.13, 1.55, 1.43, 0.92, 1.25, 1.36, 1.32, 0.85, 1.07, 1.48, 1.20, 1.33, 1.18, 1.22, 1.29]"
   ]
  },
  {
   "cell_type": "code",
   "execution_count": 29,
   "id": "67bf3ce9",
   "metadata": {},
   "outputs": [
    {
     "data": {
      "text/plain": [
       "15"
      ]
     },
     "execution_count": 29,
     "metadata": {},
     "output_type": "execute_result"
    }
   ],
   "source": [
    "n=len(data)\n",
    "n"
   ]
  },
  {
   "cell_type": "code",
   "execution_count": 11,
   "id": "ef0b8003",
   "metadata": {},
   "outputs": [],
   "source": [
    "import scipy.stats as stats"
   ]
  },
  {
   "cell_type": "code",
   "execution_count": 13,
   "id": "1461faec",
   "metadata": {},
   "outputs": [],
   "source": [
    "import math"
   ]
  },
  {
   "cell_type": "code",
   "execution_count": 14,
   "id": "1c785f09",
   "metadata": {},
   "outputs": [],
   "source": [
    "import numpy as np"
   ]
  },
  {
   "cell_type": "markdown",
   "id": "4c9d6fd5",
   "metadata": {},
   "source": [
    "## A.To find CI using sample standard deviation"
   ]
  },
  {
   "cell_type": "code",
   "execution_count": 19,
   "id": "06a5d2cd",
   "metadata": {},
   "outputs": [
    {
     "data": {
      "text/plain": [
       "0.18661427836285438"
      ]
     },
     "execution_count": 19,
     "metadata": {},
     "output_type": "execute_result"
    }
   ],
   "source": [
    "## s= sample standard deviation\n",
    "s=np.std(data)\n",
    "s"
   ]
  },
  {
   "cell_type": "code",
   "execution_count": 20,
   "id": "4c8d9747",
   "metadata": {},
   "outputs": [
    {
     "data": {
      "text/plain": [
       "1.2386666666666666"
      ]
     },
     "execution_count": 20,
     "metadata": {},
     "output_type": "execute_result"
    }
   ],
   "source": [
    "x_bar=np.mean(data)\n",
    "x_bar"
   ]
  },
  {
   "cell_type": "code",
   "execution_count": 24,
   "id": "27da97e9",
   "metadata": {},
   "outputs": [
    {
     "data": {
      "text/plain": [
       "0.010000000000000009"
      ]
     },
     "execution_count": 24,
     "metadata": {},
     "output_type": "execute_result"
    }
   ],
   "source": [
    "alpha=1-.99\n",
    "alpha"
   ]
  },
  {
   "cell_type": "code",
   "execution_count": 25,
   "id": "080e2e7c",
   "metadata": {},
   "outputs": [
    {
     "data": {
      "text/plain": [
       "14"
      ]
     },
     "execution_count": 25,
     "metadata": {},
     "output_type": "execute_result"
    }
   ],
   "source": [
    "##df=sample size-1\n",
    "df=15-1\n",
    "df"
   ]
  },
  {
   "cell_type": "code",
   "execution_count": 27,
   "id": "c9cf7301",
   "metadata": {},
   "outputs": [
    {
     "data": {
      "text/plain": [
       "2.97684273411266"
      ]
     },
     "execution_count": 27,
     "metadata": {},
     "output_type": "execute_result"
    }
   ],
   "source": [
    "t_crit=stats.t.ppf(1-alpha/2,14)\n",
    "t_crit"
   ]
  },
  {
   "cell_type": "raw",
   "id": "72b18e7e",
   "metadata": {},
   "source": [
    "## Here population mean is not given so to find CI we will use t-test ,\n",
    "CI=confidence interval\n",
    "CI=x_bar+-(t_crit*(s/math.sqrt(n))"
   ]
  },
  {
   "cell_type": "raw",
   "id": "a137310b",
   "metadata": {},
   "source": [
    "## necessary info\n",
    "t_crit=2.97684273411266\n",
    "n=15\n",
    "alpha=0.010000000000000009\n",
    "df=14\n",
    "x_bar=1.2386666666666666\n",
    "s=0.18661427836285438\n",
    "#EBM=(t_crit*(s/math.sqrt(n)),EBM =Error bond measure"
   ]
  },
  {
   "cell_type": "raw",
   "id": "3bbb498e",
   "metadata": {},
   "source": [
    "##upper_lmt=x_bar+EBM\n",
    "low_lmt=x_bar-EBM"
   ]
  },
  {
   "cell_type": "code",
   "execution_count": 30,
   "id": "29c076d6",
   "metadata": {},
   "outputs": [
    {
     "data": {
      "text/plain": [
       "0.14343499802810397"
      ]
     },
     "execution_count": 30,
     "metadata": {},
     "output_type": "execute_result"
    }
   ],
   "source": [
    "EBM=t_crit*(s/math.sqrt(n))\n",
    "EBM\n",
    "     "
   ]
  },
  {
   "cell_type": "code",
   "execution_count": 31,
   "id": "2a9287aa",
   "metadata": {},
   "outputs": [
    {
     "data": {
      "text/plain": [
       "1.3821016646947706"
      ]
     },
     "execution_count": 31,
     "metadata": {},
     "output_type": "execute_result"
    }
   ],
   "source": [
    "upper_lmt=x_bar+EBM\n",
    "upper_lmt"
   ]
  },
  {
   "cell_type": "code",
   "execution_count": 32,
   "id": "6edfcd20",
   "metadata": {},
   "outputs": [
    {
     "data": {
      "text/plain": [
       "1.0952316686385626"
      ]
     },
     "execution_count": 32,
     "metadata": {},
     "output_type": "execute_result"
    }
   ],
   "source": [
    "low_lmt=x_bar-EBM\n",
    "low_lmt"
   ]
  },
  {
   "cell_type": "code",
   "execution_count": 35,
   "id": "40ddadc1",
   "metadata": {},
   "outputs": [
    {
     "name": "stdout",
     "output_type": "stream",
     "text": [
      "low_lmt: 1.0952316686385626 upper_lmt: 1.3821016646947706\n"
     ]
    }
   ],
   "source": [
    "CI=print('low_lmt:',low_lmt,'upper_lmt:',upper_lmt)\n",
    "CI"
   ]
  },
  {
   "cell_type": "markdown",
   "id": "3603381d",
   "metadata": {},
   "source": [
    "## To find CI using Population Standard Deviation"
   ]
  },
  {
   "cell_type": "code",
   "execution_count": 39,
   "id": "aa41da71",
   "metadata": {},
   "outputs": [],
   "source": [
    "pop_std=0.2\n",
    "n=15\n",
    "alpha=0.010000000000000009\n",
    "df=14\n",
    "x_bar=1.2386666666666666\n",
    "z_critical=2.5758293035489004"
   ]
  },
  {
   "cell_type": "code",
   "execution_count": 38,
   "id": "73b375f6",
   "metadata": {},
   "outputs": [
    {
     "data": {
      "text/plain": [
       "2.5758293035489004"
      ]
     },
     "execution_count": 38,
     "metadata": {},
     "output_type": "execute_result"
    }
   ],
   "source": [
    "z_critical=stats.norm.ppf(1-alpha/2)\n",
    "z_critical\n"
   ]
  },
  {
   "cell_type": "code",
   "execution_count": 40,
   "id": "23368161",
   "metadata": {},
   "outputs": [
    {
     "data": {
      "text/plain": [
       "0.13301525327090588"
      ]
     },
     "execution_count": 40,
     "metadata": {},
     "output_type": "execute_result"
    }
   ],
   "source": [
    "## EBM=Error Bound Measure(margin of error)\n",
    "EBM=z_critical*(pop_std/math.sqrt(n))\n",
    "EBM"
   ]
  },
  {
   "cell_type": "code",
   "execution_count": 41,
   "id": "69796ecb",
   "metadata": {},
   "outputs": [
    {
     "data": {
      "text/plain": [
       "1.3716819199375725"
      ]
     },
     "execution_count": 41,
     "metadata": {},
     "output_type": "execute_result"
    }
   ],
   "source": [
    "upper_lmt=x_bar+EBM\n",
    "upper_lmt"
   ]
  },
  {
   "cell_type": "code",
   "execution_count": 42,
   "id": "beff6067",
   "metadata": {},
   "outputs": [
    {
     "data": {
      "text/plain": [
       "1.1056514133957607"
      ]
     },
     "execution_count": 42,
     "metadata": {},
     "output_type": "execute_result"
    }
   ],
   "source": [
    "low_lmt=x_bar-EBM\n",
    "low_lmt"
   ]
  },
  {
   "cell_type": "code",
   "execution_count": 43,
   "id": "0a4942e2",
   "metadata": {},
   "outputs": [
    {
     "name": "stdout",
     "output_type": "stream",
     "text": [
      "low_lmt: 1.1056514133957607 upper_lmt: 1.3716819199375725\n"
     ]
    }
   ],
   "source": [
    "CI=print('low_lmt:',low_lmt,'upper_lmt:',upper_lmt)\n",
    "CI"
   ]
  }
 ],
 "metadata": {
  "kernelspec": {
   "display_name": "Python 3 (ipykernel)",
   "language": "python",
   "name": "python3"
  },
  "language_info": {
   "codemirror_mode": {
    "name": "ipython",
    "version": 3
   },
   "file_extension": ".py",
   "mimetype": "text/x-python",
   "name": "python",
   "nbconvert_exporter": "python",
   "pygments_lexer": "ipython3",
   "version": "3.11.5"
  }
 },
 "nbformat": 4,
 "nbformat_minor": 5
}
